{
  "nbformat": 4,
  "nbformat_minor": 0,
  "metadata": {
    "colab": {
      "provenance": []
    },
    "kernelspec": {
      "name": "python3",
      "display_name": "Python 3"
    },
    "language_info": {
      "name": "python"
    },
    "widgets": {
      "application/vnd.jupyter.widget-state+json": {
        "34d41a67386a4f81a53206d704b451a0": {
          "model_module": "@jupyter-widgets/controls",
          "model_name": "VBoxModel",
          "model_module_version": "1.5.0",
          "state": {
            "_dom_classes": [
              "widget-interact"
            ],
            "_model_module": "@jupyter-widgets/controls",
            "_model_module_version": "1.5.0",
            "_model_name": "VBoxModel",
            "_view_count": null,
            "_view_module": "@jupyter-widgets/controls",
            "_view_module_version": "1.5.0",
            "_view_name": "VBoxView",
            "box_style": "",
            "children": [
              "IPY_MODEL_40f4c9abee8b478089deac07cdcf1c7e",
              "IPY_MODEL_fec1cbb1279e46a89afe39f078e80bec",
              "IPY_MODEL_e484c6862c4b425299152e6e0a15763f",
              "IPY_MODEL_1bb42cd2a8434da9aa28db1cc7adb09e",
              "IPY_MODEL_c6649e35df39415b936443f72f61577b",
              "IPY_MODEL_8203bd56c00c48e38e2667f1e68ca1c7"
            ],
            "layout": "IPY_MODEL_879af520831e4ce88cc1c40fdd1af5bd"
          }
        },
        "40f4c9abee8b478089deac07cdcf1c7e": {
          "model_module": "@jupyter-widgets/controls",
          "model_name": "FloatSliderModel",
          "model_module_version": "1.5.0",
          "state": {
            "_dom_classes": [],
            "_model_module": "@jupyter-widgets/controls",
            "_model_module_version": "1.5.0",
            "_model_name": "FloatSliderModel",
            "_view_count": null,
            "_view_module": "@jupyter-widgets/controls",
            "_view_module_version": "1.5.0",
            "_view_name": "FloatSliderView",
            "continuous_update": true,
            "description": "Mean X",
            "description_tooltip": null,
            "disabled": false,
            "layout": "IPY_MODEL_76d45fbe3b714f2991087d163fd34f67",
            "max": 10,
            "min": -10,
            "orientation": "horizontal",
            "readout": true,
            "readout_format": ".2f",
            "step": 0.1,
            "style": "IPY_MODEL_f122af4fd9c84e42a9d2472dbf431c86",
            "value": -3.8
          }
        },
        "fec1cbb1279e46a89afe39f078e80bec": {
          "model_module": "@jupyter-widgets/controls",
          "model_name": "FloatSliderModel",
          "model_module_version": "1.5.0",
          "state": {
            "_dom_classes": [],
            "_model_module": "@jupyter-widgets/controls",
            "_model_module_version": "1.5.0",
            "_model_name": "FloatSliderModel",
            "_view_count": null,
            "_view_module": "@jupyter-widgets/controls",
            "_view_module_version": "1.5.0",
            "_view_name": "FloatSliderView",
            "continuous_update": true,
            "description": "Mean Y",
            "description_tooltip": null,
            "disabled": false,
            "layout": "IPY_MODEL_affaad31bc79419b8f4a440fec8438f1",
            "max": 10,
            "min": -10,
            "orientation": "horizontal",
            "readout": true,
            "readout_format": ".2f",
            "step": 0.1,
            "style": "IPY_MODEL_c88687effc7c4a26bb60cc38d388e850",
            "value": -6.1
          }
        },
        "e484c6862c4b425299152e6e0a15763f": {
          "model_module": "@jupyter-widgets/controls",
          "model_name": "FloatSliderModel",
          "model_module_version": "1.5.0",
          "state": {
            "_dom_classes": [],
            "_model_module": "@jupyter-widgets/controls",
            "_model_module_version": "1.5.0",
            "_model_name": "FloatSliderModel",
            "_view_count": null,
            "_view_module": "@jupyter-widgets/controls",
            "_view_module_version": "1.5.0",
            "_view_name": "FloatSliderView",
            "continuous_update": true,
            "description": "Variance X",
            "description_tooltip": null,
            "disabled": false,
            "layout": "IPY_MODEL_62eb78265cdc4439ac8f0663d4712aae",
            "max": 10,
            "min": 0.1,
            "orientation": "horizontal",
            "readout": true,
            "readout_format": ".2f",
            "step": 0.1,
            "style": "IPY_MODEL_380516910b7f4f4294706ef3160ddf74",
            "value": 1
          }
        },
        "1bb42cd2a8434da9aa28db1cc7adb09e": {
          "model_module": "@jupyter-widgets/controls",
          "model_name": "FloatSliderModel",
          "model_module_version": "1.5.0",
          "state": {
            "_dom_classes": [],
            "_model_module": "@jupyter-widgets/controls",
            "_model_module_version": "1.5.0",
            "_model_name": "FloatSliderModel",
            "_view_count": null,
            "_view_module": "@jupyter-widgets/controls",
            "_view_module_version": "1.5.0",
            "_view_name": "FloatSliderView",
            "continuous_update": true,
            "description": "Covariance",
            "description_tooltip": null,
            "disabled": false,
            "layout": "IPY_MODEL_f5bd6fcc71f64ad180868f155690b668",
            "max": 1,
            "min": -1,
            "orientation": "horizontal",
            "readout": true,
            "readout_format": ".2f",
            "step": 0.01,
            "style": "IPY_MODEL_f39615b6e3514458bcbdb44f538ddb85",
            "value": 0.5
          }
        },
        "c6649e35df39415b936443f72f61577b": {
          "model_module": "@jupyter-widgets/controls",
          "model_name": "FloatSliderModel",
          "model_module_version": "1.5.0",
          "state": {
            "_dom_classes": [],
            "_model_module": "@jupyter-widgets/controls",
            "_model_module_version": "1.5.0",
            "_model_name": "FloatSliderModel",
            "_view_count": null,
            "_view_module": "@jupyter-widgets/controls",
            "_view_module_version": "1.5.0",
            "_view_name": "FloatSliderView",
            "continuous_update": true,
            "description": "Variance Y",
            "description_tooltip": null,
            "disabled": false,
            "layout": "IPY_MODEL_8b9ac001b2984033b2f1096806806849",
            "max": 10,
            "min": 0.1,
            "orientation": "horizontal",
            "readout": true,
            "readout_format": ".2f",
            "step": 0.1,
            "style": "IPY_MODEL_52917086b29141aab1121dbde206d87f",
            "value": 1
          }
        },
        "8203bd56c00c48e38e2667f1e68ca1c7": {
          "model_module": "@jupyter-widgets/output",
          "model_name": "OutputModel",
          "model_module_version": "1.0.0",
          "state": {
            "_dom_classes": [],
            "_model_module": "@jupyter-widgets/output",
            "_model_module_version": "1.0.0",
            "_model_name": "OutputModel",
            "_view_count": null,
            "_view_module": "@jupyter-widgets/output",
            "_view_module_version": "1.0.0",
            "_view_name": "OutputView",
            "layout": "IPY_MODEL_536c6a72231645c9b895552d3678b06e",
            "msg_id": "",
            "outputs": [
              {
                "output_type": "display_data",
                "data": {
                  "text/plain": "<Figure size 800x600 with 1 Axes>",
                  "image/png": "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\n"
                },
                "metadata": {}
              }
            ]
          }
        },
        "879af520831e4ce88cc1c40fdd1af5bd": {
          "model_module": "@jupyter-widgets/base",
          "model_name": "LayoutModel",
          "model_module_version": "1.2.0",
          "state": {
            "_model_module": "@jupyter-widgets/base",
            "_model_module_version": "1.2.0",
            "_model_name": "LayoutModel",
            "_view_count": null,
            "_view_module": "@jupyter-widgets/base",
            "_view_module_version": "1.2.0",
            "_view_name": "LayoutView",
            "align_content": null,
            "align_items": null,
            "align_self": null,
            "border": null,
            "bottom": null,
            "display": null,
            "flex": null,
            "flex_flow": null,
            "grid_area": null,
            "grid_auto_columns": null,
            "grid_auto_flow": null,
            "grid_auto_rows": null,
            "grid_column": null,
            "grid_gap": null,
            "grid_row": null,
            "grid_template_areas": null,
            "grid_template_columns": null,
            "grid_template_rows": null,
            "height": null,
            "justify_content": null,
            "justify_items": null,
            "left": null,
            "margin": null,
            "max_height": null,
            "max_width": null,
            "min_height": null,
            "min_width": null,
            "object_fit": null,
            "object_position": null,
            "order": null,
            "overflow": null,
            "overflow_x": null,
            "overflow_y": null,
            "padding": null,
            "right": null,
            "top": null,
            "visibility": null,
            "width": null
          }
        },
        "76d45fbe3b714f2991087d163fd34f67": {
          "model_module": "@jupyter-widgets/base",
          "model_name": "LayoutModel",
          "model_module_version": "1.2.0",
          "state": {
            "_model_module": "@jupyter-widgets/base",
            "_model_module_version": "1.2.0",
            "_model_name": "LayoutModel",
            "_view_count": null,
            "_view_module": "@jupyter-widgets/base",
            "_view_module_version": "1.2.0",
            "_view_name": "LayoutView",
            "align_content": null,
            "align_items": null,
            "align_self": null,
            "border": null,
            "bottom": null,
            "display": null,
            "flex": null,
            "flex_flow": null,
            "grid_area": null,
            "grid_auto_columns": null,
            "grid_auto_flow": null,
            "grid_auto_rows": null,
            "grid_column": null,
            "grid_gap": null,
            "grid_row": null,
            "grid_template_areas": null,
            "grid_template_columns": null,
            "grid_template_rows": null,
            "height": null,
            "justify_content": null,
            "justify_items": null,
            "left": null,
            "margin": null,
            "max_height": null,
            "max_width": null,
            "min_height": null,
            "min_width": null,
            "object_fit": null,
            "object_position": null,
            "order": null,
            "overflow": null,
            "overflow_x": null,
            "overflow_y": null,
            "padding": null,
            "right": null,
            "top": null,
            "visibility": null,
            "width": null
          }
        },
        "f122af4fd9c84e42a9d2472dbf431c86": {
          "model_module": "@jupyter-widgets/controls",
          "model_name": "SliderStyleModel",
          "model_module_version": "1.5.0",
          "state": {
            "_model_module": "@jupyter-widgets/controls",
            "_model_module_version": "1.5.0",
            "_model_name": "SliderStyleModel",
            "_view_count": null,
            "_view_module": "@jupyter-widgets/base",
            "_view_module_version": "1.2.0",
            "_view_name": "StyleView",
            "description_width": "",
            "handle_color": null
          }
        },
        "affaad31bc79419b8f4a440fec8438f1": {
          "model_module": "@jupyter-widgets/base",
          "model_name": "LayoutModel",
          "model_module_version": "1.2.0",
          "state": {
            "_model_module": "@jupyter-widgets/base",
            "_model_module_version": "1.2.0",
            "_model_name": "LayoutModel",
            "_view_count": null,
            "_view_module": "@jupyter-widgets/base",
            "_view_module_version": "1.2.0",
            "_view_name": "LayoutView",
            "align_content": null,
            "align_items": null,
            "align_self": null,
            "border": null,
            "bottom": null,
            "display": null,
            "flex": null,
            "flex_flow": null,
            "grid_area": null,
            "grid_auto_columns": null,
            "grid_auto_flow": null,
            "grid_auto_rows": null,
            "grid_column": null,
            "grid_gap": null,
            "grid_row": null,
            "grid_template_areas": null,
            "grid_template_columns": null,
            "grid_template_rows": null,
            "height": null,
            "justify_content": null,
            "justify_items": null,
            "left": null,
            "margin": null,
            "max_height": null,
            "max_width": null,
            "min_height": null,
            "min_width": null,
            "object_fit": null,
            "object_position": null,
            "order": null,
            "overflow": null,
            "overflow_x": null,
            "overflow_y": null,
            "padding": null,
            "right": null,
            "top": null,
            "visibility": null,
            "width": null
          }
        },
        "c88687effc7c4a26bb60cc38d388e850": {
          "model_module": "@jupyter-widgets/controls",
          "model_name": "SliderStyleModel",
          "model_module_version": "1.5.0",
          "state": {
            "_model_module": "@jupyter-widgets/controls",
            "_model_module_version": "1.5.0",
            "_model_name": "SliderStyleModel",
            "_view_count": null,
            "_view_module": "@jupyter-widgets/base",
            "_view_module_version": "1.2.0",
            "_view_name": "StyleView",
            "description_width": "",
            "handle_color": null
          }
        },
        "62eb78265cdc4439ac8f0663d4712aae": {
          "model_module": "@jupyter-widgets/base",
          "model_name": "LayoutModel",
          "model_module_version": "1.2.0",
          "state": {
            "_model_module": "@jupyter-widgets/base",
            "_model_module_version": "1.2.0",
            "_model_name": "LayoutModel",
            "_view_count": null,
            "_view_module": "@jupyter-widgets/base",
            "_view_module_version": "1.2.0",
            "_view_name": "LayoutView",
            "align_content": null,
            "align_items": null,
            "align_self": null,
            "border": null,
            "bottom": null,
            "display": null,
            "flex": null,
            "flex_flow": null,
            "grid_area": null,
            "grid_auto_columns": null,
            "grid_auto_flow": null,
            "grid_auto_rows": null,
            "grid_column": null,
            "grid_gap": null,
            "grid_row": null,
            "grid_template_areas": null,
            "grid_template_columns": null,
            "grid_template_rows": null,
            "height": null,
            "justify_content": null,
            "justify_items": null,
            "left": null,
            "margin": null,
            "max_height": null,
            "max_width": null,
            "min_height": null,
            "min_width": null,
            "object_fit": null,
            "object_position": null,
            "order": null,
            "overflow": null,
            "overflow_x": null,
            "overflow_y": null,
            "padding": null,
            "right": null,
            "top": null,
            "visibility": null,
            "width": null
          }
        },
        "380516910b7f4f4294706ef3160ddf74": {
          "model_module": "@jupyter-widgets/controls",
          "model_name": "SliderStyleModel",
          "model_module_version": "1.5.0",
          "state": {
            "_model_module": "@jupyter-widgets/controls",
            "_model_module_version": "1.5.0",
            "_model_name": "SliderStyleModel",
            "_view_count": null,
            "_view_module": "@jupyter-widgets/base",
            "_view_module_version": "1.2.0",
            "_view_name": "StyleView",
            "description_width": "",
            "handle_color": null
          }
        },
        "f5bd6fcc71f64ad180868f155690b668": {
          "model_module": "@jupyter-widgets/base",
          "model_name": "LayoutModel",
          "model_module_version": "1.2.0",
          "state": {
            "_model_module": "@jupyter-widgets/base",
            "_model_module_version": "1.2.0",
            "_model_name": "LayoutModel",
            "_view_count": null,
            "_view_module": "@jupyter-widgets/base",
            "_view_module_version": "1.2.0",
            "_view_name": "LayoutView",
            "align_content": null,
            "align_items": null,
            "align_self": null,
            "border": null,
            "bottom": null,
            "display": null,
            "flex": null,
            "flex_flow": null,
            "grid_area": null,
            "grid_auto_columns": null,
            "grid_auto_flow": null,
            "grid_auto_rows": null,
            "grid_column": null,
            "grid_gap": null,
            "grid_row": null,
            "grid_template_areas": null,
            "grid_template_columns": null,
            "grid_template_rows": null,
            "height": null,
            "justify_content": null,
            "justify_items": null,
            "left": null,
            "margin": null,
            "max_height": null,
            "max_width": null,
            "min_height": null,
            "min_width": null,
            "object_fit": null,
            "object_position": null,
            "order": null,
            "overflow": null,
            "overflow_x": null,
            "overflow_y": null,
            "padding": null,
            "right": null,
            "top": null,
            "visibility": null,
            "width": null
          }
        },
        "f39615b6e3514458bcbdb44f538ddb85": {
          "model_module": "@jupyter-widgets/controls",
          "model_name": "SliderStyleModel",
          "model_module_version": "1.5.0",
          "state": {
            "_model_module": "@jupyter-widgets/controls",
            "_model_module_version": "1.5.0",
            "_model_name": "SliderStyleModel",
            "_view_count": null,
            "_view_module": "@jupyter-widgets/base",
            "_view_module_version": "1.2.0",
            "_view_name": "StyleView",
            "description_width": "",
            "handle_color": null
          }
        },
        "8b9ac001b2984033b2f1096806806849": {
          "model_module": "@jupyter-widgets/base",
          "model_name": "LayoutModel",
          "model_module_version": "1.2.0",
          "state": {
            "_model_module": "@jupyter-widgets/base",
            "_model_module_version": "1.2.0",
            "_model_name": "LayoutModel",
            "_view_count": null,
            "_view_module": "@jupyter-widgets/base",
            "_view_module_version": "1.2.0",
            "_view_name": "LayoutView",
            "align_content": null,
            "align_items": null,
            "align_self": null,
            "border": null,
            "bottom": null,
            "display": null,
            "flex": null,
            "flex_flow": null,
            "grid_area": null,
            "grid_auto_columns": null,
            "grid_auto_flow": null,
            "grid_auto_rows": null,
            "grid_column": null,
            "grid_gap": null,
            "grid_row": null,
            "grid_template_areas": null,
            "grid_template_columns": null,
            "grid_template_rows": null,
            "height": null,
            "justify_content": null,
            "justify_items": null,
            "left": null,
            "margin": null,
            "max_height": null,
            "max_width": null,
            "min_height": null,
            "min_width": null,
            "object_fit": null,
            "object_position": null,
            "order": null,
            "overflow": null,
            "overflow_x": null,
            "overflow_y": null,
            "padding": null,
            "right": null,
            "top": null,
            "visibility": null,
            "width": null
          }
        },
        "52917086b29141aab1121dbde206d87f": {
          "model_module": "@jupyter-widgets/controls",
          "model_name": "SliderStyleModel",
          "model_module_version": "1.5.0",
          "state": {
            "_model_module": "@jupyter-widgets/controls",
            "_model_module_version": "1.5.0",
            "_model_name": "SliderStyleModel",
            "_view_count": null,
            "_view_module": "@jupyter-widgets/base",
            "_view_module_version": "1.2.0",
            "_view_name": "StyleView",
            "description_width": "",
            "handle_color": null
          }
        },
        "536c6a72231645c9b895552d3678b06e": {
          "model_module": "@jupyter-widgets/base",
          "model_name": "LayoutModel",
          "model_module_version": "1.2.0",
          "state": {
            "_model_module": "@jupyter-widgets/base",
            "_model_module_version": "1.2.0",
            "_model_name": "LayoutModel",
            "_view_count": null,
            "_view_module": "@jupyter-widgets/base",
            "_view_module_version": "1.2.0",
            "_view_name": "LayoutView",
            "align_content": null,
            "align_items": null,
            "align_self": null,
            "border": null,
            "bottom": null,
            "display": null,
            "flex": null,
            "flex_flow": null,
            "grid_area": null,
            "grid_auto_columns": null,
            "grid_auto_flow": null,
            "grid_auto_rows": null,
            "grid_column": null,
            "grid_gap": null,
            "grid_row": null,
            "grid_template_areas": null,
            "grid_template_columns": null,
            "grid_template_rows": null,
            "height": null,
            "justify_content": null,
            "justify_items": null,
            "left": null,
            "margin": null,
            "max_height": null,
            "max_width": null,
            "min_height": null,
            "min_width": null,
            "object_fit": null,
            "object_position": null,
            "order": null,
            "overflow": null,
            "overflow_x": null,
            "overflow_y": null,
            "padding": null,
            "right": null,
            "top": null,
            "visibility": null,
            "width": null
          }
        },
        "1eecb38d5fa645309466855810bd3ee4": {
          "model_module": "@jupyter-widgets/controls",
          "model_name": "VBoxModel",
          "model_module_version": "1.5.0",
          "state": {
            "_dom_classes": [
              "widget-interact"
            ],
            "_model_module": "@jupyter-widgets/controls",
            "_model_module_version": "1.5.0",
            "_model_name": "VBoxModel",
            "_view_count": null,
            "_view_module": "@jupyter-widgets/controls",
            "_view_module_version": "1.5.0",
            "_view_name": "VBoxView",
            "box_style": "",
            "children": [
              "IPY_MODEL_40ec5f8072d947568d8d291f9fd3ed4b",
              "IPY_MODEL_babccd31b1d743d8acca7d087ceb8de9"
            ],
            "layout": "IPY_MODEL_ed0deec1d903429985f70acfe0f4de17"
          }
        },
        "40ec5f8072d947568d8d291f9fd3ed4b": {
          "model_module": "@jupyter-widgets/controls",
          "model_name": "FloatSliderModel",
          "model_module_version": "1.5.0",
          "state": {
            "_dom_classes": [],
            "_model_module": "@jupyter-widgets/controls",
            "_model_module_version": "1.5.0",
            "_model_name": "FloatSliderModel",
            "_view_count": null,
            "_view_module": "@jupyter-widgets/controls",
            "_view_module_version": "1.5.0",
            "_view_name": "FloatSliderView",
            "continuous_update": true,
            "description": "p",
            "description_tooltip": null,
            "disabled": false,
            "layout": "IPY_MODEL_c75ad99adc404ea6901e3fc9a034ad39",
            "max": 1,
            "min": 0,
            "orientation": "horizontal",
            "readout": true,
            "readout_format": ".2f",
            "step": 0.01,
            "style": "IPY_MODEL_89af0c5cadd747429bbf9a463ad2d577",
            "value": 0.35
          }
        },
        "babccd31b1d743d8acca7d087ceb8de9": {
          "model_module": "@jupyter-widgets/output",
          "model_name": "OutputModel",
          "model_module_version": "1.0.0",
          "state": {
            "_dom_classes": [],
            "_model_module": "@jupyter-widgets/output",
            "_model_module_version": "1.0.0",
            "_model_name": "OutputModel",
            "_view_count": null,
            "_view_module": "@jupyter-widgets/output",
            "_view_module_version": "1.0.0",
            "_view_name": "OutputView",
            "layout": "IPY_MODEL_4b27142191f84c73a958fa3e8e1b2a88",
            "msg_id": "",
            "outputs": [
              {
                "output_type": "stream",
                "name": "stderr",
                "text": [
                  "<ipython-input-99-027aace3baaf>:5: MatplotlibDeprecationWarning:\n",
                  "\n",
                  "The 'use_line_collection' parameter of stem() was deprecated in Matplotlib 3.6 and will be removed two minor releases later. If any parameter follows 'use_line_collection', they should be passed as keyword, not positionally.\n",
                  "\n"
                ]
              },
              {
                "output_type": "display_data",
                "data": {
                  "text/plain": "<Figure size 640x480 with 1 Axes>",
                  "image/png": "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\n"
                },
                "metadata": {}
              }
            ]
          }
        },
        "ed0deec1d903429985f70acfe0f4de17": {
          "model_module": "@jupyter-widgets/base",
          "model_name": "LayoutModel",
          "model_module_version": "1.2.0",
          "state": {
            "_model_module": "@jupyter-widgets/base",
            "_model_module_version": "1.2.0",
            "_model_name": "LayoutModel",
            "_view_count": null,
            "_view_module": "@jupyter-widgets/base",
            "_view_module_version": "1.2.0",
            "_view_name": "LayoutView",
            "align_content": null,
            "align_items": null,
            "align_self": null,
            "border": null,
            "bottom": null,
            "display": null,
            "flex": null,
            "flex_flow": null,
            "grid_area": null,
            "grid_auto_columns": null,
            "grid_auto_flow": null,
            "grid_auto_rows": null,
            "grid_column": null,
            "grid_gap": null,
            "grid_row": null,
            "grid_template_areas": null,
            "grid_template_columns": null,
            "grid_template_rows": null,
            "height": null,
            "justify_content": null,
            "justify_items": null,
            "left": null,
            "margin": null,
            "max_height": null,
            "max_width": null,
            "min_height": null,
            "min_width": null,
            "object_fit": null,
            "object_position": null,
            "order": null,
            "overflow": null,
            "overflow_x": null,
            "overflow_y": null,
            "padding": null,
            "right": null,
            "top": null,
            "visibility": null,
            "width": null
          }
        },
        "c75ad99adc404ea6901e3fc9a034ad39": {
          "model_module": "@jupyter-widgets/base",
          "model_name": "LayoutModel",
          "model_module_version": "1.2.0",
          "state": {
            "_model_module": "@jupyter-widgets/base",
            "_model_module_version": "1.2.0",
            "_model_name": "LayoutModel",
            "_view_count": null,
            "_view_module": "@jupyter-widgets/base",
            "_view_module_version": "1.2.0",
            "_view_name": "LayoutView",
            "align_content": null,
            "align_items": null,
            "align_self": null,
            "border": null,
            "bottom": null,
            "display": null,
            "flex": null,
            "flex_flow": null,
            "grid_area": null,
            "grid_auto_columns": null,
            "grid_auto_flow": null,
            "grid_auto_rows": null,
            "grid_column": null,
            "grid_gap": null,
            "grid_row": null,
            "grid_template_areas": null,
            "grid_template_columns": null,
            "grid_template_rows": null,
            "height": null,
            "justify_content": null,
            "justify_items": null,
            "left": null,
            "margin": null,
            "max_height": null,
            "max_width": null,
            "min_height": null,
            "min_width": null,
            "object_fit": null,
            "object_position": null,
            "order": null,
            "overflow": null,
            "overflow_x": null,
            "overflow_y": null,
            "padding": null,
            "right": null,
            "top": null,
            "visibility": null,
            "width": null
          }
        },
        "89af0c5cadd747429bbf9a463ad2d577": {
          "model_module": "@jupyter-widgets/controls",
          "model_name": "SliderStyleModel",
          "model_module_version": "1.5.0",
          "state": {
            "_model_module": "@jupyter-widgets/controls",
            "_model_module_version": "1.5.0",
            "_model_name": "SliderStyleModel",
            "_view_count": null,
            "_view_module": "@jupyter-widgets/base",
            "_view_module_version": "1.2.0",
            "_view_name": "StyleView",
            "description_width": "",
            "handle_color": null
          }
        },
        "4b27142191f84c73a958fa3e8e1b2a88": {
          "model_module": "@jupyter-widgets/base",
          "model_name": "LayoutModel",
          "model_module_version": "1.2.0",
          "state": {
            "_model_module": "@jupyter-widgets/base",
            "_model_module_version": "1.2.0",
            "_model_name": "LayoutModel",
            "_view_count": null,
            "_view_module": "@jupyter-widgets/base",
            "_view_module_version": "1.2.0",
            "_view_name": "LayoutView",
            "align_content": null,
            "align_items": null,
            "align_self": null,
            "border": null,
            "bottom": null,
            "display": null,
            "flex": null,
            "flex_flow": null,
            "grid_area": null,
            "grid_auto_columns": null,
            "grid_auto_flow": null,
            "grid_auto_rows": null,
            "grid_column": null,
            "grid_gap": null,
            "grid_row": null,
            "grid_template_areas": null,
            "grid_template_columns": null,
            "grid_template_rows": null,
            "height": null,
            "justify_content": null,
            "justify_items": null,
            "left": null,
            "margin": null,
            "max_height": null,
            "max_width": null,
            "min_height": null,
            "min_width": null,
            "object_fit": null,
            "object_position": null,
            "order": null,
            "overflow": null,
            "overflow_x": null,
            "overflow_y": null,
            "padding": null,
            "right": null,
            "top": null,
            "visibility": null,
            "width": null
          }
        },
        "950d97fcfdf44c95bd7061f1066778ee": {
          "model_module": "@jupyter-widgets/controls",
          "model_name": "VBoxModel",
          "model_module_version": "1.5.0",
          "state": {
            "_dom_classes": [
              "widget-interact"
            ],
            "_model_module": "@jupyter-widgets/controls",
            "_model_module_version": "1.5.0",
            "_model_name": "VBoxModel",
            "_view_count": null,
            "_view_module": "@jupyter-widgets/controls",
            "_view_module_version": "1.5.0",
            "_view_name": "VBoxView",
            "box_style": "",
            "children": [
              "IPY_MODEL_66ab932722324d18a2292baac0c34ae6",
              "IPY_MODEL_476aeb31b27e4e2c804005be3c8bd3be",
              "IPY_MODEL_e7f4017de38d4022b2a3bbd195775486",
              "IPY_MODEL_e23acd8669e6479d9109f200b314b5ac",
              "IPY_MODEL_0259359d3a05427c865a7234b53e8b67"
            ],
            "layout": "IPY_MODEL_a8a19d379a69496588906112f25d4421"
          }
        },
        "66ab932722324d18a2292baac0c34ae6": {
          "model_module": "@jupyter-widgets/controls",
          "model_name": "IntSliderModel",
          "model_module_version": "1.5.0",
          "state": {
            "_dom_classes": [],
            "_model_module": "@jupyter-widgets/controls",
            "_model_module_version": "1.5.0",
            "_model_name": "IntSliderModel",
            "_view_count": null,
            "_view_module": "@jupyter-widgets/controls",
            "_view_module_version": "1.5.0",
            "_view_name": "IntSliderView",
            "continuous_update": true,
            "description": "n",
            "description_tooltip": null,
            "disabled": false,
            "layout": "IPY_MODEL_2ff1040a1153450da9bc00c6a420906c",
            "max": 100,
            "min": 1,
            "orientation": "horizontal",
            "readout": true,
            "readout_format": "d",
            "step": 1,
            "style": "IPY_MODEL_003ddb3fb3294094a0d7920a787d7cda",
            "value": 10
          }
        },
        "476aeb31b27e4e2c804005be3c8bd3be": {
          "model_module": "@jupyter-widgets/controls",
          "model_name": "FloatSliderModel",
          "model_module_version": "1.5.0",
          "state": {
            "_dom_classes": [],
            "_model_module": "@jupyter-widgets/controls",
            "_model_module_version": "1.5.0",
            "_model_name": "FloatSliderModel",
            "_view_count": null,
            "_view_module": "@jupyter-widgets/controls",
            "_view_module_version": "1.5.0",
            "_view_name": "FloatSliderView",
            "continuous_update": true,
            "description": "p1",
            "description_tooltip": null,
            "disabled": false,
            "layout": "IPY_MODEL_278d799a625048f6aea4dda723b6857b",
            "max": 1,
            "min": 0,
            "orientation": "horizontal",
            "readout": true,
            "readout_format": ".2f",
            "step": 0.01,
            "style": "IPY_MODEL_44b7e74220524d49b48702e80aa5fc2b",
            "value": 0.33
          }
        },
        "e7f4017de38d4022b2a3bbd195775486": {
          "model_module": "@jupyter-widgets/controls",
          "model_name": "FloatSliderModel",
          "model_module_version": "1.5.0",
          "state": {
            "_dom_classes": [],
            "_model_module": "@jupyter-widgets/controls",
            "_model_module_version": "1.5.0",
            "_model_name": "FloatSliderModel",
            "_view_count": null,
            "_view_module": "@jupyter-widgets/controls",
            "_view_module_version": "1.5.0",
            "_view_name": "FloatSliderView",
            "continuous_update": true,
            "description": "p2",
            "description_tooltip": null,
            "disabled": false,
            "layout": "IPY_MODEL_3e97b16c0cdc40ac82bc758a90e9512a",
            "max": 1,
            "min": 0,
            "orientation": "horizontal",
            "readout": true,
            "readout_format": ".2f",
            "step": 0.01,
            "style": "IPY_MODEL_6212e52f34ae4feab5eff51956e8a44f",
            "value": 0.13
          }
        },
        "e23acd8669e6479d9109f200b314b5ac": {
          "model_module": "@jupyter-widgets/controls",
          "model_name": "FloatSliderModel",
          "model_module_version": "1.5.0",
          "state": {
            "_dom_classes": [],
            "_model_module": "@jupyter-widgets/controls",
            "_model_module_version": "1.5.0",
            "_model_name": "FloatSliderModel",
            "_view_count": null,
            "_view_module": "@jupyter-widgets/controls",
            "_view_module_version": "1.5.0",
            "_view_name": "FloatSliderView",
            "continuous_update": true,
            "description": "p3",
            "description_tooltip": null,
            "disabled": false,
            "layout": "IPY_MODEL_f5fbe687c8764effb49d829ce5cd4e9d",
            "max": 1,
            "min": 0,
            "orientation": "horizontal",
            "readout": true,
            "readout_format": ".2f",
            "step": 0.01,
            "style": "IPY_MODEL_b0ff841a96c84551940d3bad016425e7",
            "value": 0.37
          }
        },
        "0259359d3a05427c865a7234b53e8b67": {
          "model_module": "@jupyter-widgets/output",
          "model_name": "OutputModel",
          "model_module_version": "1.0.0",
          "state": {
            "_dom_classes": [],
            "_model_module": "@jupyter-widgets/output",
            "_model_module_version": "1.0.0",
            "_model_name": "OutputModel",
            "_view_count": null,
            "_view_module": "@jupyter-widgets/output",
            "_view_module_version": "1.0.0",
            "_view_name": "OutputView",
            "layout": "IPY_MODEL_bbc338e6508a44d1a6b93aae6fd5d636",
            "msg_id": "",
            "outputs": [
              {
                "output_type": "display_data",
                "data": {
                  "text/plain": "<Figure size 640x480 with 1 Axes>",
                  "image/png": "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\n"
                },
                "metadata": {}
              }
            ]
          }
        },
        "a8a19d379a69496588906112f25d4421": {
          "model_module": "@jupyter-widgets/base",
          "model_name": "LayoutModel",
          "model_module_version": "1.2.0",
          "state": {
            "_model_module": "@jupyter-widgets/base",
            "_model_module_version": "1.2.0",
            "_model_name": "LayoutModel",
            "_view_count": null,
            "_view_module": "@jupyter-widgets/base",
            "_view_module_version": "1.2.0",
            "_view_name": "LayoutView",
            "align_content": null,
            "align_items": null,
            "align_self": null,
            "border": null,
            "bottom": null,
            "display": null,
            "flex": null,
            "flex_flow": null,
            "grid_area": null,
            "grid_auto_columns": null,
            "grid_auto_flow": null,
            "grid_auto_rows": null,
            "grid_column": null,
            "grid_gap": null,
            "grid_row": null,
            "grid_template_areas": null,
            "grid_template_columns": null,
            "grid_template_rows": null,
            "height": null,
            "justify_content": null,
            "justify_items": null,
            "left": null,
            "margin": null,
            "max_height": null,
            "max_width": null,
            "min_height": null,
            "min_width": null,
            "object_fit": null,
            "object_position": null,
            "order": null,
            "overflow": null,
            "overflow_x": null,
            "overflow_y": null,
            "padding": null,
            "right": null,
            "top": null,
            "visibility": null,
            "width": null
          }
        },
        "2ff1040a1153450da9bc00c6a420906c": {
          "model_module": "@jupyter-widgets/base",
          "model_name": "LayoutModel",
          "model_module_version": "1.2.0",
          "state": {
            "_model_module": "@jupyter-widgets/base",
            "_model_module_version": "1.2.0",
            "_model_name": "LayoutModel",
            "_view_count": null,
            "_view_module": "@jupyter-widgets/base",
            "_view_module_version": "1.2.0",
            "_view_name": "LayoutView",
            "align_content": null,
            "align_items": null,
            "align_self": null,
            "border": null,
            "bottom": null,
            "display": null,
            "flex": null,
            "flex_flow": null,
            "grid_area": null,
            "grid_auto_columns": null,
            "grid_auto_flow": null,
            "grid_auto_rows": null,
            "grid_column": null,
            "grid_gap": null,
            "grid_row": null,
            "grid_template_areas": null,
            "grid_template_columns": null,
            "grid_template_rows": null,
            "height": null,
            "justify_content": null,
            "justify_items": null,
            "left": null,
            "margin": null,
            "max_height": null,
            "max_width": null,
            "min_height": null,
            "min_width": null,
            "object_fit": null,
            "object_position": null,
            "order": null,
            "overflow": null,
            "overflow_x": null,
            "overflow_y": null,
            "padding": null,
            "right": null,
            "top": null,
            "visibility": null,
            "width": null
          }
        },
        "003ddb3fb3294094a0d7920a787d7cda": {
          "model_module": "@jupyter-widgets/controls",
          "model_name": "SliderStyleModel",
          "model_module_version": "1.5.0",
          "state": {
            "_model_module": "@jupyter-widgets/controls",
            "_model_module_version": "1.5.0",
            "_model_name": "SliderStyleModel",
            "_view_count": null,
            "_view_module": "@jupyter-widgets/base",
            "_view_module_version": "1.2.0",
            "_view_name": "StyleView",
            "description_width": "",
            "handle_color": null
          }
        },
        "278d799a625048f6aea4dda723b6857b": {
          "model_module": "@jupyter-widgets/base",
          "model_name": "LayoutModel",
          "model_module_version": "1.2.0",
          "state": {
            "_model_module": "@jupyter-widgets/base",
            "_model_module_version": "1.2.0",
            "_model_name": "LayoutModel",
            "_view_count": null,
            "_view_module": "@jupyter-widgets/base",
            "_view_module_version": "1.2.0",
            "_view_name": "LayoutView",
            "align_content": null,
            "align_items": null,
            "align_self": null,
            "border": null,
            "bottom": null,
            "display": null,
            "flex": null,
            "flex_flow": null,
            "grid_area": null,
            "grid_auto_columns": null,
            "grid_auto_flow": null,
            "grid_auto_rows": null,
            "grid_column": null,
            "grid_gap": null,
            "grid_row": null,
            "grid_template_areas": null,
            "grid_template_columns": null,
            "grid_template_rows": null,
            "height": null,
            "justify_content": null,
            "justify_items": null,
            "left": null,
            "margin": null,
            "max_height": null,
            "max_width": null,
            "min_height": null,
            "min_width": null,
            "object_fit": null,
            "object_position": null,
            "order": null,
            "overflow": null,
            "overflow_x": null,
            "overflow_y": null,
            "padding": null,
            "right": null,
            "top": null,
            "visibility": null,
            "width": null
          }
        },
        "44b7e74220524d49b48702e80aa5fc2b": {
          "model_module": "@jupyter-widgets/controls",
          "model_name": "SliderStyleModel",
          "model_module_version": "1.5.0",
          "state": {
            "_model_module": "@jupyter-widgets/controls",
            "_model_module_version": "1.5.0",
            "_model_name": "SliderStyleModel",
            "_view_count": null,
            "_view_module": "@jupyter-widgets/base",
            "_view_module_version": "1.2.0",
            "_view_name": "StyleView",
            "description_width": "",
            "handle_color": null
          }
        },
        "3e97b16c0cdc40ac82bc758a90e9512a": {
          "model_module": "@jupyter-widgets/base",
          "model_name": "LayoutModel",
          "model_module_version": "1.2.0",
          "state": {
            "_model_module": "@jupyter-widgets/base",
            "_model_module_version": "1.2.0",
            "_model_name": "LayoutModel",
            "_view_count": null,
            "_view_module": "@jupyter-widgets/base",
            "_view_module_version": "1.2.0",
            "_view_name": "LayoutView",
            "align_content": null,
            "align_items": null,
            "align_self": null,
            "border": null,
            "bottom": null,
            "display": null,
            "flex": null,
            "flex_flow": null,
            "grid_area": null,
            "grid_auto_columns": null,
            "grid_auto_flow": null,
            "grid_auto_rows": null,
            "grid_column": null,
            "grid_gap": null,
            "grid_row": null,
            "grid_template_areas": null,
            "grid_template_columns": null,
            "grid_template_rows": null,
            "height": null,
            "justify_content": null,
            "justify_items": null,
            "left": null,
            "margin": null,
            "max_height": null,
            "max_width": null,
            "min_height": null,
            "min_width": null,
            "object_fit": null,
            "object_position": null,
            "order": null,
            "overflow": null,
            "overflow_x": null,
            "overflow_y": null,
            "padding": null,
            "right": null,
            "top": null,
            "visibility": null,
            "width": null
          }
        },
        "6212e52f34ae4feab5eff51956e8a44f": {
          "model_module": "@jupyter-widgets/controls",
          "model_name": "SliderStyleModel",
          "model_module_version": "1.5.0",
          "state": {
            "_model_module": "@jupyter-widgets/controls",
            "_model_module_version": "1.5.0",
            "_model_name": "SliderStyleModel",
            "_view_count": null,
            "_view_module": "@jupyter-widgets/base",
            "_view_module_version": "1.2.0",
            "_view_name": "StyleView",
            "description_width": "",
            "handle_color": null
          }
        },
        "f5fbe687c8764effb49d829ce5cd4e9d": {
          "model_module": "@jupyter-widgets/base",
          "model_name": "LayoutModel",
          "model_module_version": "1.2.0",
          "state": {
            "_model_module": "@jupyter-widgets/base",
            "_model_module_version": "1.2.0",
            "_model_name": "LayoutModel",
            "_view_count": null,
            "_view_module": "@jupyter-widgets/base",
            "_view_module_version": "1.2.0",
            "_view_name": "LayoutView",
            "align_content": null,
            "align_items": null,
            "align_self": null,
            "border": null,
            "bottom": null,
            "display": null,
            "flex": null,
            "flex_flow": null,
            "grid_area": null,
            "grid_auto_columns": null,
            "grid_auto_flow": null,
            "grid_auto_rows": null,
            "grid_column": null,
            "grid_gap": null,
            "grid_row": null,
            "grid_template_areas": null,
            "grid_template_columns": null,
            "grid_template_rows": null,
            "height": null,
            "justify_content": null,
            "justify_items": null,
            "left": null,
            "margin": null,
            "max_height": null,
            "max_width": null,
            "min_height": null,
            "min_width": null,
            "object_fit": null,
            "object_position": null,
            "order": null,
            "overflow": null,
            "overflow_x": null,
            "overflow_y": null,
            "padding": null,
            "right": null,
            "top": null,
            "visibility": null,
            "width": null
          }
        },
        "b0ff841a96c84551940d3bad016425e7": {
          "model_module": "@jupyter-widgets/controls",
          "model_name": "SliderStyleModel",
          "model_module_version": "1.5.0",
          "state": {
            "_model_module": "@jupyter-widgets/controls",
            "_model_module_version": "1.5.0",
            "_model_name": "SliderStyleModel",
            "_view_count": null,
            "_view_module": "@jupyter-widgets/base",
            "_view_module_version": "1.2.0",
            "_view_name": "StyleView",
            "description_width": "",
            "handle_color": null
          }
        },
        "bbc338e6508a44d1a6b93aae6fd5d636": {
          "model_module": "@jupyter-widgets/base",
          "model_name": "LayoutModel",
          "model_module_version": "1.2.0",
          "state": {
            "_model_module": "@jupyter-widgets/base",
            "_model_module_version": "1.2.0",
            "_model_name": "LayoutModel",
            "_view_count": null,
            "_view_module": "@jupyter-widgets/base",
            "_view_module_version": "1.2.0",
            "_view_name": "LayoutView",
            "align_content": null,
            "align_items": null,
            "align_self": null,
            "border": null,
            "bottom": null,
            "display": null,
            "flex": null,
            "flex_flow": null,
            "grid_area": null,
            "grid_auto_columns": null,
            "grid_auto_flow": null,
            "grid_auto_rows": null,
            "grid_column": null,
            "grid_gap": null,
            "grid_row": null,
            "grid_template_areas": null,
            "grid_template_columns": null,
            "grid_template_rows": null,
            "height": null,
            "justify_content": null,
            "justify_items": null,
            "left": null,
            "margin": null,
            "max_height": null,
            "max_width": null,
            "min_height": null,
            "min_width": null,
            "object_fit": null,
            "object_position": null,
            "order": null,
            "overflow": null,
            "overflow_x": null,
            "overflow_y": null,
            "padding": null,
            "right": null,
            "top": null,
            "visibility": null,
            "width": null
          }
        },
        "3160498a2f8e4b85bd611ace86cb55fb": {
          "model_module": "@jupyter-widgets/controls",
          "model_name": "VBoxModel",
          "model_module_version": "1.5.0",
          "state": {
            "_dom_classes": [
              "widget-interact"
            ],
            "_model_module": "@jupyter-widgets/controls",
            "_model_module_version": "1.5.0",
            "_model_name": "VBoxModel",
            "_view_count": null,
            "_view_module": "@jupyter-widgets/controls",
            "_view_module_version": "1.5.0",
            "_view_name": "VBoxView",
            "box_style": "",
            "children": [
              "IPY_MODEL_e14bb91cab9842f6ab1654e831e65b4c",
              "IPY_MODEL_f897c75d21564dd1a5c1ecddb1948ed5"
            ],
            "layout": "IPY_MODEL_20d0b08a7b7a4827960c3e22fca20698"
          }
        },
        "e14bb91cab9842f6ab1654e831e65b4c": {
          "model_module": "@jupyter-widgets/controls",
          "model_name": "FloatSliderModel",
          "model_module_version": "1.5.0",
          "state": {
            "_dom_classes": [],
            "_model_module": "@jupyter-widgets/controls",
            "_model_module_version": "1.5.0",
            "_model_name": "FloatSliderModel",
            "_view_count": null,
            "_view_module": "@jupyter-widgets/controls",
            "_view_module_version": "1.5.0",
            "_view_name": "FloatSliderView",
            "continuous_update": true,
            "description": "λ",
            "description_tooltip": null,
            "disabled": false,
            "layout": "IPY_MODEL_9e4e7b2870a54b7a9af7b096ceec83e1",
            "max": 15,
            "min": 0.1,
            "orientation": "horizontal",
            "readout": true,
            "readout_format": ".2f",
            "step": 0.1,
            "style": "IPY_MODEL_a11c2edfe5734a84ad8d604dbeaa5cd7",
            "value": 5.9
          }
        },
        "f897c75d21564dd1a5c1ecddb1948ed5": {
          "model_module": "@jupyter-widgets/output",
          "model_name": "OutputModel",
          "model_module_version": "1.0.0",
          "state": {
            "_dom_classes": [],
            "_model_module": "@jupyter-widgets/output",
            "_model_module_version": "1.0.0",
            "_model_name": "OutputModel",
            "_view_count": null,
            "_view_module": "@jupyter-widgets/output",
            "_view_module_version": "1.0.0",
            "_view_name": "OutputView",
            "layout": "IPY_MODEL_e761ee4af3da4726a67296196000daeb",
            "msg_id": "",
            "outputs": [
              {
                "output_type": "display_data",
                "data": {
                  "text/plain": "<Figure size 1200x600 with 1 Axes>",
                  "image/png": "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\n"
                },
                "metadata": {}
              }
            ]
          }
        },
        "20d0b08a7b7a4827960c3e22fca20698": {
          "model_module": "@jupyter-widgets/base",
          "model_name": "LayoutModel",
          "model_module_version": "1.2.0",
          "state": {
            "_model_module": "@jupyter-widgets/base",
            "_model_module_version": "1.2.0",
            "_model_name": "LayoutModel",
            "_view_count": null,
            "_view_module": "@jupyter-widgets/base",
            "_view_module_version": "1.2.0",
            "_view_name": "LayoutView",
            "align_content": null,
            "align_items": null,
            "align_self": null,
            "border": null,
            "bottom": null,
            "display": null,
            "flex": null,
            "flex_flow": null,
            "grid_area": null,
            "grid_auto_columns": null,
            "grid_auto_flow": null,
            "grid_auto_rows": null,
            "grid_column": null,
            "grid_gap": null,
            "grid_row": null,
            "grid_template_areas": null,
            "grid_template_columns": null,
            "grid_template_rows": null,
            "height": null,
            "justify_content": null,
            "justify_items": null,
            "left": null,
            "margin": null,
            "max_height": null,
            "max_width": null,
            "min_height": null,
            "min_width": null,
            "object_fit": null,
            "object_position": null,
            "order": null,
            "overflow": null,
            "overflow_x": null,
            "overflow_y": null,
            "padding": null,
            "right": null,
            "top": null,
            "visibility": null,
            "width": null
          }
        },
        "9e4e7b2870a54b7a9af7b096ceec83e1": {
          "model_module": "@jupyter-widgets/base",
          "model_name": "LayoutModel",
          "model_module_version": "1.2.0",
          "state": {
            "_model_module": "@jupyter-widgets/base",
            "_model_module_version": "1.2.0",
            "_model_name": "LayoutModel",
            "_view_count": null,
            "_view_module": "@jupyter-widgets/base",
            "_view_module_version": "1.2.0",
            "_view_name": "LayoutView",
            "align_content": null,
            "align_items": null,
            "align_self": null,
            "border": null,
            "bottom": null,
            "display": null,
            "flex": null,
            "flex_flow": null,
            "grid_area": null,
            "grid_auto_columns": null,
            "grid_auto_flow": null,
            "grid_auto_rows": null,
            "grid_column": null,
            "grid_gap": null,
            "grid_row": null,
            "grid_template_areas": null,
            "grid_template_columns": null,
            "grid_template_rows": null,
            "height": null,
            "justify_content": null,
            "justify_items": null,
            "left": null,
            "margin": null,
            "max_height": null,
            "max_width": null,
            "min_height": null,
            "min_width": null,
            "object_fit": null,
            "object_position": null,
            "order": null,
            "overflow": null,
            "overflow_x": null,
            "overflow_y": null,
            "padding": null,
            "right": null,
            "top": null,
            "visibility": null,
            "width": null
          }
        },
        "a11c2edfe5734a84ad8d604dbeaa5cd7": {
          "model_module": "@jupyter-widgets/controls",
          "model_name": "SliderStyleModel",
          "model_module_version": "1.5.0",
          "state": {
            "_model_module": "@jupyter-widgets/controls",
            "_model_module_version": "1.5.0",
            "_model_name": "SliderStyleModel",
            "_view_count": null,
            "_view_module": "@jupyter-widgets/base",
            "_view_module_version": "1.2.0",
            "_view_name": "StyleView",
            "description_width": "",
            "handle_color": null
          }
        },
        "e761ee4af3da4726a67296196000daeb": {
          "model_module": "@jupyter-widgets/base",
          "model_name": "LayoutModel",
          "model_module_version": "1.2.0",
          "state": {
            "_model_module": "@jupyter-widgets/base",
            "_model_module_version": "1.2.0",
            "_model_name": "LayoutModel",
            "_view_count": null,
            "_view_module": "@jupyter-widgets/base",
            "_view_module_version": "1.2.0",
            "_view_name": "LayoutView",
            "align_content": null,
            "align_items": null,
            "align_self": null,
            "border": null,
            "bottom": null,
            "display": null,
            "flex": null,
            "flex_flow": null,
            "grid_area": null,
            "grid_auto_columns": null,
            "grid_auto_flow": null,
            "grid_auto_rows": null,
            "grid_column": null,
            "grid_gap": null,
            "grid_row": null,
            "grid_template_areas": null,
            "grid_template_columns": null,
            "grid_template_rows": null,
            "height": null,
            "justify_content": null,
            "justify_items": null,
            "left": null,
            "margin": null,
            "max_height": null,
            "max_width": null,
            "min_height": null,
            "min_width": null,
            "object_fit": null,
            "object_position": null,
            "order": null,
            "overflow": null,
            "overflow_x": null,
            "overflow_y": null,
            "padding": null,
            "right": null,
            "top": null,
            "visibility": null,
            "width": null
          }
        },
        "d3c11aa3425e4de4b7869f6a295f9fc5": {
          "model_module": "@jupyter-widgets/controls",
          "model_name": "VBoxModel",
          "model_module_version": "1.5.0",
          "state": {
            "_dom_classes": [
              "widget-interact"
            ],
            "_model_module": "@jupyter-widgets/controls",
            "_model_module_version": "1.5.0",
            "_model_name": "VBoxModel",
            "_view_count": null,
            "_view_module": "@jupyter-widgets/controls",
            "_view_module_version": "1.5.0",
            "_view_name": "VBoxView",
            "box_style": "",
            "children": [
              "IPY_MODEL_a051cb0b7a8f4f92b012f7f461de1f84",
              "IPY_MODEL_01ad0da743a74d9dab0f86fe03035ae0",
              "IPY_MODEL_7a648bafcad844baa4f41b061774c75f"
            ],
            "layout": "IPY_MODEL_9478386cb17b48a58b85abbe498241a4"
          }
        },
        "a051cb0b7a8f4f92b012f7f461de1f84": {
          "model_module": "@jupyter-widgets/controls",
          "model_name": "FloatSliderModel",
          "model_module_version": "1.5.0",
          "state": {
            "_dom_classes": [],
            "_model_module": "@jupyter-widgets/controls",
            "_model_module_version": "1.5.0",
            "_model_name": "FloatSliderModel",
            "_view_count": null,
            "_view_module": "@jupyter-widgets/controls",
            "_view_module_version": "1.5.0",
            "_view_name": "FloatSliderView",
            "continuous_update": true,
            "description": "µ",
            "description_tooltip": null,
            "disabled": false,
            "layout": "IPY_MODEL_43222fd3d2db4d95bd0d89bf344584f6",
            "max": 10,
            "min": -10,
            "orientation": "horizontal",
            "readout": true,
            "readout_format": ".2f",
            "step": 0.1,
            "style": "IPY_MODEL_a57ecbe002f74086b6986ac9d129842d",
            "value": -3.5
          }
        },
        "01ad0da743a74d9dab0f86fe03035ae0": {
          "model_module": "@jupyter-widgets/controls",
          "model_name": "FloatSliderModel",
          "model_module_version": "1.5.0",
          "state": {
            "_dom_classes": [],
            "_model_module": "@jupyter-widgets/controls",
            "_model_module_version": "1.5.0",
            "_model_name": "FloatSliderModel",
            "_view_count": null,
            "_view_module": "@jupyter-widgets/controls",
            "_view_module_version": "1.5.0",
            "_view_name": "FloatSliderView",
            "continuous_update": true,
            "description": "σ",
            "description_tooltip": null,
            "disabled": false,
            "layout": "IPY_MODEL_23eb7492b3924f6a809169111804863a",
            "max": 5,
            "min": 0.1,
            "orientation": "horizontal",
            "readout": true,
            "readout_format": ".2f",
            "step": 0.1,
            "style": "IPY_MODEL_0db5345099724e3ab0bc177ad0e5895f",
            "value": 0.3
          }
        },
        "7a648bafcad844baa4f41b061774c75f": {
          "model_module": "@jupyter-widgets/output",
          "model_name": "OutputModel",
          "model_module_version": "1.0.0",
          "state": {
            "_dom_classes": [],
            "_model_module": "@jupyter-widgets/output",
            "_model_module_version": "1.0.0",
            "_model_name": "OutputModel",
            "_view_count": null,
            "_view_module": "@jupyter-widgets/output",
            "_view_module_version": "1.0.0",
            "_view_name": "OutputView",
            "layout": "IPY_MODEL_0a2de56101be47ceb6d3cbf14b3a7e69",
            "msg_id": "",
            "outputs": [
              {
                "output_type": "display_data",
                "data": {
                  "text/plain": "<Figure size 1200x600 with 1 Axes>",
                  "image/png": "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\n"
                },
                "metadata": {}
              }
            ]
          }
        },
        "9478386cb17b48a58b85abbe498241a4": {
          "model_module": "@jupyter-widgets/base",
          "model_name": "LayoutModel",
          "model_module_version": "1.2.0",
          "state": {
            "_model_module": "@jupyter-widgets/base",
            "_model_module_version": "1.2.0",
            "_model_name": "LayoutModel",
            "_view_count": null,
            "_view_module": "@jupyter-widgets/base",
            "_view_module_version": "1.2.0",
            "_view_name": "LayoutView",
            "align_content": null,
            "align_items": null,
            "align_self": null,
            "border": null,
            "bottom": null,
            "display": null,
            "flex": null,
            "flex_flow": null,
            "grid_area": null,
            "grid_auto_columns": null,
            "grid_auto_flow": null,
            "grid_auto_rows": null,
            "grid_column": null,
            "grid_gap": null,
            "grid_row": null,
            "grid_template_areas": null,
            "grid_template_columns": null,
            "grid_template_rows": null,
            "height": null,
            "justify_content": null,
            "justify_items": null,
            "left": null,
            "margin": null,
            "max_height": null,
            "max_width": null,
            "min_height": null,
            "min_width": null,
            "object_fit": null,
            "object_position": null,
            "order": null,
            "overflow": null,
            "overflow_x": null,
            "overflow_y": null,
            "padding": null,
            "right": null,
            "top": null,
            "visibility": null,
            "width": null
          }
        },
        "43222fd3d2db4d95bd0d89bf344584f6": {
          "model_module": "@jupyter-widgets/base",
          "model_name": "LayoutModel",
          "model_module_version": "1.2.0",
          "state": {
            "_model_module": "@jupyter-widgets/base",
            "_model_module_version": "1.2.0",
            "_model_name": "LayoutModel",
            "_view_count": null,
            "_view_module": "@jupyter-widgets/base",
            "_view_module_version": "1.2.0",
            "_view_name": "LayoutView",
            "align_content": null,
            "align_items": null,
            "align_self": null,
            "border": null,
            "bottom": null,
            "display": null,
            "flex": null,
            "flex_flow": null,
            "grid_area": null,
            "grid_auto_columns": null,
            "grid_auto_flow": null,
            "grid_auto_rows": null,
            "grid_column": null,
            "grid_gap": null,
            "grid_row": null,
            "grid_template_areas": null,
            "grid_template_columns": null,
            "grid_template_rows": null,
            "height": null,
            "justify_content": null,
            "justify_items": null,
            "left": null,
            "margin": null,
            "max_height": null,
            "max_width": null,
            "min_height": null,
            "min_width": null,
            "object_fit": null,
            "object_position": null,
            "order": null,
            "overflow": null,
            "overflow_x": null,
            "overflow_y": null,
            "padding": null,
            "right": null,
            "top": null,
            "visibility": null,
            "width": null
          }
        },
        "a57ecbe002f74086b6986ac9d129842d": {
          "model_module": "@jupyter-widgets/controls",
          "model_name": "SliderStyleModel",
          "model_module_version": "1.5.0",
          "state": {
            "_model_module": "@jupyter-widgets/controls",
            "_model_module_version": "1.5.0",
            "_model_name": "SliderStyleModel",
            "_view_count": null,
            "_view_module": "@jupyter-widgets/base",
            "_view_module_version": "1.2.0",
            "_view_name": "StyleView",
            "description_width": "",
            "handle_color": null
          }
        },
        "23eb7492b3924f6a809169111804863a": {
          "model_module": "@jupyter-widgets/base",
          "model_name": "LayoutModel",
          "model_module_version": "1.2.0",
          "state": {
            "_model_module": "@jupyter-widgets/base",
            "_model_module_version": "1.2.0",
            "_model_name": "LayoutModel",
            "_view_count": null,
            "_view_module": "@jupyter-widgets/base",
            "_view_module_version": "1.2.0",
            "_view_name": "LayoutView",
            "align_content": null,
            "align_items": null,
            "align_self": null,
            "border": null,
            "bottom": null,
            "display": null,
            "flex": null,
            "flex_flow": null,
            "grid_area": null,
            "grid_auto_columns": null,
            "grid_auto_flow": null,
            "grid_auto_rows": null,
            "grid_column": null,
            "grid_gap": null,
            "grid_row": null,
            "grid_template_areas": null,
            "grid_template_columns": null,
            "grid_template_rows": null,
            "height": null,
            "justify_content": null,
            "justify_items": null,
            "left": null,
            "margin": null,
            "max_height": null,
            "max_width": null,
            "min_height": null,
            "min_width": null,
            "object_fit": null,
            "object_position": null,
            "order": null,
            "overflow": null,
            "overflow_x": null,
            "overflow_y": null,
            "padding": null,
            "right": null,
            "top": null,
            "visibility": null,
            "width": null
          }
        },
        "0db5345099724e3ab0bc177ad0e5895f": {
          "model_module": "@jupyter-widgets/controls",
          "model_name": "SliderStyleModel",
          "model_module_version": "1.5.0",
          "state": {
            "_model_module": "@jupyter-widgets/controls",
            "_model_module_version": "1.5.0",
            "_model_name": "SliderStyleModel",
            "_view_count": null,
            "_view_module": "@jupyter-widgets/base",
            "_view_module_version": "1.2.0",
            "_view_name": "StyleView",
            "description_width": "",
            "handle_color": null
          }
        },
        "0a2de56101be47ceb6d3cbf14b3a7e69": {
          "model_module": "@jupyter-widgets/base",
          "model_name": "LayoutModel",
          "model_module_version": "1.2.0",
          "state": {
            "_model_module": "@jupyter-widgets/base",
            "_model_module_version": "1.2.0",
            "_model_name": "LayoutModel",
            "_view_count": null,
            "_view_module": "@jupyter-widgets/base",
            "_view_module_version": "1.2.0",
            "_view_name": "LayoutView",
            "align_content": null,
            "align_items": null,
            "align_self": null,
            "border": null,
            "bottom": null,
            "display": null,
            "flex": null,
            "flex_flow": null,
            "grid_area": null,
            "grid_auto_columns": null,
            "grid_auto_flow": null,
            "grid_auto_rows": null,
            "grid_column": null,
            "grid_gap": null,
            "grid_row": null,
            "grid_template_areas": null,
            "grid_template_columns": null,
            "grid_template_rows": null,
            "height": null,
            "justify_content": null,
            "justify_items": null,
            "left": null,
            "margin": null,
            "max_height": null,
            "max_width": null,
            "min_height": null,
            "min_width": null,
            "object_fit": null,
            "object_position": null,
            "order": null,
            "overflow": null,
            "overflow_x": null,
            "overflow_y": null,
            "padding": null,
            "right": null,
            "top": null,
            "visibility": null,
            "width": null
          }
        },
        "4e383e5d51624677ad0fd66c33517560": {
          "model_module": "@jupyter-widgets/controls",
          "model_name": "VBoxModel",
          "model_module_version": "1.5.0",
          "state": {
            "_dom_classes": [
              "widget-interact"
            ],
            "_model_module": "@jupyter-widgets/controls",
            "_model_module_version": "1.5.0",
            "_model_name": "VBoxModel",
            "_view_count": null,
            "_view_module": "@jupyter-widgets/controls",
            "_view_module_version": "1.5.0",
            "_view_name": "VBoxView",
            "box_style": "",
            "children": [
              "IPY_MODEL_1594541de43542ba86e5ea4fa7227fc3",
              "IPY_MODEL_8304fe608156458bb0e719e4dfaa56a5",
              "IPY_MODEL_7cc4f5d0911842b9bde647ccf9eed0b5",
              "IPY_MODEL_98c1481ee3b64ce3af69b1a3a03f3880"
            ],
            "layout": "IPY_MODEL_21a67b606a8e4e8e9d4d43f9255632d9"
          }
        },
        "1594541de43542ba86e5ea4fa7227fc3": {
          "model_module": "@jupyter-widgets/controls",
          "model_name": "FloatSliderModel",
          "model_module_version": "1.5.0",
          "state": {
            "_dom_classes": [],
            "_model_module": "@jupyter-widgets/controls",
            "_model_module_version": "1.5.0",
            "_model_name": "FloatSliderModel",
            "_view_count": null,
            "_view_module": "@jupyter-widgets/controls",
            "_view_module_version": "1.5.0",
            "_view_name": "FloatSliderView",
            "continuous_update": true,
            "description": "λ",
            "description_tooltip": null,
            "disabled": false,
            "layout": "IPY_MODEL_eebc8860b29b417fa04e149af37795b2",
            "max": 2,
            "min": 0.1,
            "orientation": "horizontal",
            "readout": true,
            "readout_format": ".2f",
            "step": 0.1,
            "style": "IPY_MODEL_f4e3a3f02cf44a1b85629a57a3e38059",
            "value": 1
          }
        },
        "8304fe608156458bb0e719e4dfaa56a5": {
          "model_module": "@jupyter-widgets/controls",
          "model_name": "FloatSliderModel",
          "model_module_version": "1.5.0",
          "state": {
            "_dom_classes": [],
            "_model_module": "@jupyter-widgets/controls",
            "_model_module_version": "1.5.0",
            "_model_name": "FloatSliderModel",
            "_view_count": null,
            "_view_module": "@jupyter-widgets/controls",
            "_view_module_version": "1.5.0",
            "_view_name": "FloatSliderView",
            "continuous_update": true,
            "description": "µ",
            "description_tooltip": null,
            "disabled": false,
            "layout": "IPY_MODEL_7892e81e84b748d39f08a8438bc9720d",
            "max": 5,
            "min": -5,
            "orientation": "horizontal",
            "readout": true,
            "readout_format": ".2f",
            "step": 0.1,
            "style": "IPY_MODEL_91d2d04a9cfb424095c705ab9d914f92",
            "value": 0
          }
        },
        "7cc4f5d0911842b9bde647ccf9eed0b5": {
          "model_module": "@jupyter-widgets/controls",
          "model_name": "FloatSliderModel",
          "model_module_version": "1.5.0",
          "state": {
            "_dom_classes": [],
            "_model_module": "@jupyter-widgets/controls",
            "_model_module_version": "1.5.0",
            "_model_name": "FloatSliderModel",
            "_view_count": null,
            "_view_module": "@jupyter-widgets/controls",
            "_view_module_version": "1.5.0",
            "_view_name": "FloatSliderView",
            "continuous_update": true,
            "description": "b",
            "description_tooltip": null,
            "disabled": false,
            "layout": "IPY_MODEL_90e1bdbe61124920aff41076aa6c49ca",
            "max": 5,
            "min": 0.1,
            "orientation": "horizontal",
            "readout": true,
            "readout_format": ".2f",
            "step": 0.1,
            "style": "IPY_MODEL_27bd8e540eb643b9bf181e4e54122728",
            "value": 1
          }
        },
        "98c1481ee3b64ce3af69b1a3a03f3880": {
          "model_module": "@jupyter-widgets/output",
          "model_name": "OutputModel",
          "model_module_version": "1.0.0",
          "state": {
            "_dom_classes": [],
            "_model_module": "@jupyter-widgets/output",
            "_model_module_version": "1.0.0",
            "_model_name": "OutputModel",
            "_view_count": null,
            "_view_module": "@jupyter-widgets/output",
            "_view_module_version": "1.0.0",
            "_view_name": "OutputView",
            "layout": "IPY_MODEL_225baafb8d9d4383a50f6c8cb657f592",
            "msg_id": "",
            "outputs": [
              {
                "output_type": "display_data",
                "data": {
                  "text/plain": "<Figure size 1200x600 with 1 Axes>",
                  "image/png": "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\n"
                },
                "metadata": {}
              }
            ]
          }
        },
        "21a67b606a8e4e8e9d4d43f9255632d9": {
          "model_module": "@jupyter-widgets/base",
          "model_name": "LayoutModel",
          "model_module_version": "1.2.0",
          "state": {
            "_model_module": "@jupyter-widgets/base",
            "_model_module_version": "1.2.0",
            "_model_name": "LayoutModel",
            "_view_count": null,
            "_view_module": "@jupyter-widgets/base",
            "_view_module_version": "1.2.0",
            "_view_name": "LayoutView",
            "align_content": null,
            "align_items": null,
            "align_self": null,
            "border": null,
            "bottom": null,
            "display": null,
            "flex": null,
            "flex_flow": null,
            "grid_area": null,
            "grid_auto_columns": null,
            "grid_auto_flow": null,
            "grid_auto_rows": null,
            "grid_column": null,
            "grid_gap": null,
            "grid_row": null,
            "grid_template_areas": null,
            "grid_template_columns": null,
            "grid_template_rows": null,
            "height": null,
            "justify_content": null,
            "justify_items": null,
            "left": null,
            "margin": null,
            "max_height": null,
            "max_width": null,
            "min_height": null,
            "min_width": null,
            "object_fit": null,
            "object_position": null,
            "order": null,
            "overflow": null,
            "overflow_x": null,
            "overflow_y": null,
            "padding": null,
            "right": null,
            "top": null,
            "visibility": null,
            "width": null
          }
        },
        "eebc8860b29b417fa04e149af37795b2": {
          "model_module": "@jupyter-widgets/base",
          "model_name": "LayoutModel",
          "model_module_version": "1.2.0",
          "state": {
            "_model_module": "@jupyter-widgets/base",
            "_model_module_version": "1.2.0",
            "_model_name": "LayoutModel",
            "_view_count": null,
            "_view_module": "@jupyter-widgets/base",
            "_view_module_version": "1.2.0",
            "_view_name": "LayoutView",
            "align_content": null,
            "align_items": null,
            "align_self": null,
            "border": null,
            "bottom": null,
            "display": null,
            "flex": null,
            "flex_flow": null,
            "grid_area": null,
            "grid_auto_columns": null,
            "grid_auto_flow": null,
            "grid_auto_rows": null,
            "grid_column": null,
            "grid_gap": null,
            "grid_row": null,
            "grid_template_areas": null,
            "grid_template_columns": null,
            "grid_template_rows": null,
            "height": null,
            "justify_content": null,
            "justify_items": null,
            "left": null,
            "margin": null,
            "max_height": null,
            "max_width": null,
            "min_height": null,
            "min_width": null,
            "object_fit": null,
            "object_position": null,
            "order": null,
            "overflow": null,
            "overflow_x": null,
            "overflow_y": null,
            "padding": null,
            "right": null,
            "top": null,
            "visibility": null,
            "width": null
          }
        },
        "f4e3a3f02cf44a1b85629a57a3e38059": {
          "model_module": "@jupyter-widgets/controls",
          "model_name": "SliderStyleModel",
          "model_module_version": "1.5.0",
          "state": {
            "_model_module": "@jupyter-widgets/controls",
            "_model_module_version": "1.5.0",
            "_model_name": "SliderStyleModel",
            "_view_count": null,
            "_view_module": "@jupyter-widgets/base",
            "_view_module_version": "1.2.0",
            "_view_name": "StyleView",
            "description_width": "",
            "handle_color": null
          }
        },
        "7892e81e84b748d39f08a8438bc9720d": {
          "model_module": "@jupyter-widgets/base",
          "model_name": "LayoutModel",
          "model_module_version": "1.2.0",
          "state": {
            "_model_module": "@jupyter-widgets/base",
            "_model_module_version": "1.2.0",
            "_model_name": "LayoutModel",
            "_view_count": null,
            "_view_module": "@jupyter-widgets/base",
            "_view_module_version": "1.2.0",
            "_view_name": "LayoutView",
            "align_content": null,
            "align_items": null,
            "align_self": null,
            "border": null,
            "bottom": null,
            "display": null,
            "flex": null,
            "flex_flow": null,
            "grid_area": null,
            "grid_auto_columns": null,
            "grid_auto_flow": null,
            "grid_auto_rows": null,
            "grid_column": null,
            "grid_gap": null,
            "grid_row": null,
            "grid_template_areas": null,
            "grid_template_columns": null,
            "grid_template_rows": null,
            "height": null,
            "justify_content": null,
            "justify_items": null,
            "left": null,
            "margin": null,
            "max_height": null,
            "max_width": null,
            "min_height": null,
            "min_width": null,
            "object_fit": null,
            "object_position": null,
            "order": null,
            "overflow": null,
            "overflow_x": null,
            "overflow_y": null,
            "padding": null,
            "right": null,
            "top": null,
            "visibility": null,
            "width": null
          }
        },
        "91d2d04a9cfb424095c705ab9d914f92": {
          "model_module": "@jupyter-widgets/controls",
          "model_name": "SliderStyleModel",
          "model_module_version": "1.5.0",
          "state": {
            "_model_module": "@jupyter-widgets/controls",
            "_model_module_version": "1.5.0",
            "_model_name": "SliderStyleModel",
            "_view_count": null,
            "_view_module": "@jupyter-widgets/base",
            "_view_module_version": "1.2.0",
            "_view_name": "StyleView",
            "description_width": "",
            "handle_color": null
          }
        },
        "90e1bdbe61124920aff41076aa6c49ca": {
          "model_module": "@jupyter-widgets/base",
          "model_name": "LayoutModel",
          "model_module_version": "1.2.0",
          "state": {
            "_model_module": "@jupyter-widgets/base",
            "_model_module_version": "1.2.0",
            "_model_name": "LayoutModel",
            "_view_count": null,
            "_view_module": "@jupyter-widgets/base",
            "_view_module_version": "1.2.0",
            "_view_name": "LayoutView",
            "align_content": null,
            "align_items": null,
            "align_self": null,
            "border": null,
            "bottom": null,
            "display": null,
            "flex": null,
            "flex_flow": null,
            "grid_area": null,
            "grid_auto_columns": null,
            "grid_auto_flow": null,
            "grid_auto_rows": null,
            "grid_column": null,
            "grid_gap": null,
            "grid_row": null,
            "grid_template_areas": null,
            "grid_template_columns": null,
            "grid_template_rows": null,
            "height": null,
            "justify_content": null,
            "justify_items": null,
            "left": null,
            "margin": null,
            "max_height": null,
            "max_width": null,
            "min_height": null,
            "min_width": null,
            "object_fit": null,
            "object_position": null,
            "order": null,
            "overflow": null,
            "overflow_x": null,
            "overflow_y": null,
            "padding": null,
            "right": null,
            "top": null,
            "visibility": null,
            "width": null
          }
        },
        "27bd8e540eb643b9bf181e4e54122728": {
          "model_module": "@jupyter-widgets/controls",
          "model_name": "SliderStyleModel",
          "model_module_version": "1.5.0",
          "state": {
            "_model_module": "@jupyter-widgets/controls",
            "_model_module_version": "1.5.0",
            "_model_name": "SliderStyleModel",
            "_view_count": null,
            "_view_module": "@jupyter-widgets/base",
            "_view_module_version": "1.2.0",
            "_view_name": "StyleView",
            "description_width": "",
            "handle_color": null
          }
        },
        "225baafb8d9d4383a50f6c8cb657f592": {
          "model_module": "@jupyter-widgets/base",
          "model_name": "LayoutModel",
          "model_module_version": "1.2.0",
          "state": {
            "_model_module": "@jupyter-widgets/base",
            "_model_module_version": "1.2.0",
            "_model_name": "LayoutModel",
            "_view_count": null,
            "_view_module": "@jupyter-widgets/base",
            "_view_module_version": "1.2.0",
            "_view_name": "LayoutView",
            "align_content": null,
            "align_items": null,
            "align_self": null,
            "border": null,
            "bottom": null,
            "display": null,
            "flex": null,
            "flex_flow": null,
            "grid_area": null,
            "grid_auto_columns": null,
            "grid_auto_flow": null,
            "grid_auto_rows": null,
            "grid_column": null,
            "grid_gap": null,
            "grid_row": null,
            "grid_template_areas": null,
            "grid_template_columns": null,
            "grid_template_rows": null,
            "height": null,
            "justify_content": null,
            "justify_items": null,
            "left": null,
            "margin": null,
            "max_height": null,
            "max_width": null,
            "min_height": null,
            "min_width": null,
            "object_fit": null,
            "object_position": null,
            "order": null,
            "overflow": null,
            "overflow_x": null,
            "overflow_y": null,
            "padding": null,
            "right": null,
            "top": null,
            "visibility": null,
            "width": null
          }
        },
        "9526cee55a7d4abebec24ac6a9105490": {
          "model_module": "@jupyter-widgets/controls",
          "model_name": "VBoxModel",
          "model_module_version": "1.5.0",
          "state": {
            "_dom_classes": [
              "widget-interact"
            ],
            "_model_module": "@jupyter-widgets/controls",
            "_model_module_version": "1.5.0",
            "_model_name": "VBoxModel",
            "_view_count": null,
            "_view_module": "@jupyter-widgets/controls",
            "_view_module_version": "1.5.0",
            "_view_name": "VBoxView",
            "box_style": "",
            "children": [
              "IPY_MODEL_c241fca8857140a5bb80135d5df175a6",
              "IPY_MODEL_fc0811fe4f6042b4a6e0e8a437317f49",
              "IPY_MODEL_1d999ef153f74e47ab1feb28972aaeb6"
            ],
            "layout": "IPY_MODEL_c507a3a6906a4d4ca1d6760ceece427c"
          }
        },
        "c241fca8857140a5bb80135d5df175a6": {
          "model_module": "@jupyter-widgets/controls",
          "model_name": "IntSliderModel",
          "model_module_version": "1.5.0",
          "state": {
            "_dom_classes": [],
            "_model_module": "@jupyter-widgets/controls",
            "_model_module_version": "1.5.0",
            "_model_name": "IntSliderModel",
            "_view_count": null,
            "_view_module": "@jupyter-widgets/controls",
            "_view_module_version": "1.5.0",
            "_view_name": "IntSliderView",
            "continuous_update": true,
            "description": "n_samples",
            "description_tooltip": null,
            "disabled": false,
            "layout": "IPY_MODEL_0ab25385dc984972b88c64a1a28613a4",
            "max": 5000,
            "min": 10,
            "orientation": "horizontal",
            "readout": true,
            "readout_format": "d",
            "step": 100,
            "style": "IPY_MODEL_f3e7ba02647845e084645ecf559ad8c8",
            "value": 110
          }
        },
        "fc0811fe4f6042b4a6e0e8a437317f49": {
          "model_module": "@jupyter-widgets/controls",
          "model_name": "IntSliderModel",
          "model_module_version": "1.5.0",
          "state": {
            "_dom_classes": [],
            "_model_module": "@jupyter-widgets/controls",
            "_model_module_version": "1.5.0",
            "_model_name": "IntSliderModel",
            "_view_count": null,
            "_view_module": "@jupyter-widgets/controls",
            "_view_module_version": "1.5.0",
            "_view_name": "IntSliderView",
            "continuous_update": true,
            "description": "sample_size",
            "description_tooltip": null,
            "disabled": false,
            "layout": "IPY_MODEL_ff12422e499a45a4821358f4f8a0b56a",
            "max": 200,
            "min": 10,
            "orientation": "horizontal",
            "readout": true,
            "readout_format": "d",
            "step": 10,
            "style": "IPY_MODEL_c96df9bf1f484da4992569f55a0191e4",
            "value": 50
          }
        },
        "1d999ef153f74e47ab1feb28972aaeb6": {
          "model_module": "@jupyter-widgets/output",
          "model_name": "OutputModel",
          "model_module_version": "1.0.0",
          "state": {
            "_dom_classes": [],
            "_model_module": "@jupyter-widgets/output",
            "_model_module_version": "1.0.0",
            "_model_name": "OutputModel",
            "_view_count": null,
            "_view_module": "@jupyter-widgets/output",
            "_view_module_version": "1.0.0",
            "_view_name": "OutputView",
            "layout": "IPY_MODEL_77a88235e92d4cf081553fe3b5a97215",
            "msg_id": "",
            "outputs": [
              {
                "output_type": "display_data",
                "data": {
                  "text/plain": "<Figure size 1200x800 with 3 Axes>",
                  "image/png": "iVBORw0KGgoAAAANSUhEUgAABKAAAAEmCAYAAABViOjeAAAAOXRFWHRTb2Z0d2FyZQBNYXRwbG90bGliIHZlcnNpb24zLjcuMSwgaHR0cHM6Ly9tYXRwbG90bGliLm9yZy/bCgiHAAAACXBIWXMAAA9hAAAPYQGoP6dpAAB3H0lEQVR4nO3deVhU5dsH8O+AgCCggkIJLiANgmzigoiioma4S+77juaKmaKZaVkuP60UzX1PTcyd3Je03MrdzExEXCjRQFkEZZnz/uE7E8OwzMosfD/X1WWcOct9njnz3HPuOec5IkEQBBAREREREREREemImb4DICIiIiIiIiIi08YCFBERERERERER6RQLUEREREREREREpFMsQBERERERERERkU6xAEVERERERERERDrFAhQREREREREREekUC1BERERERERERKRTLEAREREREREREZFOsQBFREREREREREQ6xQKUgYiOjkZYWJjctJcvX+Ljjz9GSEgIPD098cUXX+gpOt3x9PRETEyMzrdz8eJFeHp64uLFi7JpAwcORKdOnXS+bQB4/PgxPD09sXv37jLZnqko6n0jIsM0cOBADBw4UK1ldZULyrIPiYmJgaenp9w0T09PfPbZZzrfNgDs3r0bnp6eePz4cZlsz1QU9b4R6VtZfT/WhCafHU3yRWl4bkEl4bmF/lXQdwDGJCYmBsuWLcP58+fh4OCg8HqnTp1QtWpVbNmyRSvbW7VqFfbs2YMPPvgANWvWRN26dbWyXl0JCwtDUlISAEAkEsHW1hZvv/02AgIC0KNHD/j7+2tlOwcOHEBKSgqGDBmilfVpk6HGdvLkSaxfvx737t1DVlYWqlWrBh8fH7z//vsIDQ3Vd3hl5vHjx2jTpg0AYOLEifjggw8U5vnwww8RFxcHGxsbXL16taxDJD3bvXs3pk+fXuzrO3bsQEBAQNkFZGDi4+Nx6NAhdO/eHa6urmW67YKfXwCoUKECbG1t4ebmhiZNmqBPnz6oUaOGVra1cuVKeHh4oG3btlpZnzYZYmw5OTnYvn079uzZg4cPH8LMzAzOzs4IDAzEkCFDDP77izYV7EO2bt2KRo0ayb0uCAJatWqFJ0+eoFWrVli1apU+wqQyVlRucXBwgIeHB0aMGIGWLVvqKTLDxnMLw42N5xZv8NxCdSxAGYjPP/8cgiDITbtw4QL8/f0xbtw4PUWlOi8vLwwdOhTAmyu4EhIScPjwYcTGxmLIkCEKyffGjRswNzdXaRtxcXG4e/euSh1x48aNcePGDVhYWKi0LVUVF5uLiwtu3LiBChXK/iO3bt06LFy4EE2aNEFkZCQqVqyIBw8e4Pz58zh48GC5ShJSVlZW+PHHHxWSRFZWFk6ePAkrKys9RUaGYsKECUUWWGrVqqWHaAxHfHw8li1bhiZNmii0z7p168okhk6dOiE0NBSCICAtLQ03b97Epk2bsHnzZnzxxRfo2LGjbF51+/5Vq1ahffv2KhV5xowZg1GjRqm0HXUUF1vXrl3RsWNHWFpa6jyGwiZMmIAzZ86gY8eO6NmzJ/Ly8pCQkICffvoJDRo0KFcFKCkrKyvExcUpFKB+/fVXPHnyRC/vE+mfNLcIgoCUlBTs2bMHo0aNwsqVK9G6dWvZfOp8Py5rZdXn8dyC5xbGgOcWymMBykAU1XmlpKTAw8NDa9vIy8uDRCLR6ZceZ2dndO3aVW7alClT8OGHH2Ljxo2oXbs2+vXrJ3tN1x/G169fw8LCAmZmZnr94ItEIr1sPy8vD99++y1CQkKwfv16hddTUlLKPCZD0LJlSxw9ehR//vkn6tWrJ5t+4sQJ5Obmonnz5rw0t5wLDQ2Fr6+vvsMwKmV1Qu3t7a2QZ5KSkjBs2DBMmzYNdevWlX2uy6Lvz8rKgo2NDSpUqKCXEwEpc3NzvZyw3rhxA6dOnUJUVBRGjx4t91p+fj7S09PLPCZD0LJlSxw+fBgzZ86UOy7i4uJQv359vHjxQn/Bkd4Uzi09evRASEgI4uLi5ApQxnCyWlZ9Hs8tisZzC8PCcwvlcQwoHZLeY3rw4EGsWLFClnQGDx6MBw8eyM1bcAwo6XKPHz/GTz/9BE9PT7lxHVJSUjBjxgw0a9YMvr6+6NKlC/bs2SO3Pul9wevWrcPGjRvRtm1b+Pr64t69e7J7tu/fv48pU6agYcOGaNq0Kb755hsIgoB//vkHY8aMQWBgYLGdiyoqVqyIhQsXokqVKli5cqXclV6F79POzMzEF198gbCwMPj4+CA4OBhDhw7FrVu3ALy5t/qnn35CUlKSrF0Kt9uPP/6Ir7/+Gi1atIC/vz8yMzNLvN/3999/R58+feDn54ewsDBs375d7vXixtUovM6SYivuPu3z58+jX79+CAgIQKNGjTBmzBjcu3dPbh7p+/XgwQNER0ejUaNGaNiwIaZPn47s7OwS2/758+fIzMxEYGBgka87OjrK/j8nJwdLlixBREQEGjZsiICAAPTr1w8XLlyQW6bgsbV161a0adMG/v7+GDZsGP755x8IgoDly5cjNDQUfn5+GDNmjMIX7bCwMERGRuKXX35B165d4evriw4dOuDo0aMl7o/U9evXMXz4cDRs2BD+/v4YMGAALl++rNSyABAQEABXV1ccOHBAbvqBAwfQvHlzVKlSpcjlTp8+LXu/GjRogFGjRuHu3bty8/z555+Ijo5GmzZt4Ovri5CQEEyfPh3Pnz+Xm0+V9/Xs2bPo27cvGjVqhAYNGqB9+/b46quvlN5f0r6lS5eiXr16OH/+vNz0Tz75BD4+Pvjzzz8ByOeBr776CiEhIQgICMDo0aPxzz//KKz30KFDiIiIgJ+fH4KCgjBlyhQkJyfLzRMdHY0GDRogOTkZH3zwARo0aICmTZtiwYIFyM/Pl5tXIpFg48aN6NixI3x9fdGsWTPMmjULaWlpcvNJP5OXLl1Cjx494OvrizZt2mDv3r2yeXbv3o2JEycCAAYNGiTr5wr2gQXH9FC2T9EGFxcXzJ8/H7m5uVizZo1selF9f2JiIsaPH4+QkBD4+voiNDQUUVFRyMjIAPAmL2VlZWHPnj2yfYyOjgbw3+c2Pj4eH374IRo3biw78SlpPJT9+/ejffv28PX1RUREBH777Te514saB7KodZYUW3G5auvWrejYsSN8fHzQvHlzzJkzR6EoJB23JD4+HgMHDoS/vz9atGgh15bFefToEQAUmWfMzc1RtWpV2d9JSUmYPXs22rdvLzvGJ0yYoBCzdF8uXbqEuXPnomnTpmjUqBFmzZqFnJwcpKenY+rUqWjcuDEaN26MhQsXyn23KPwdqHXr1vDz88OAAQPw119/lbpPALBv3z7ZZ7FJkyaIiooq8jNbnI4dO+LFixc4e/asbFpOTg6OHDmCzp07F7mMsp/X48ePY9SoUWjevDl8fHzQtm1bLF++XOHzr8r7umXLFnTs2BH+/v5o3LgxIiIiFHIkaZ+9vT2srKwUCjmFvx+r8p0hLy8Py5cvR9u2beHj44OwsDB89dVXyMnJkZtP2u9fvHhRdqx37txZ1l8ePXoUnTt3lvVbf/zxh9zyRfV5u3btwqBBgxAcHAwfHx906NAB27Zt07idCuO5Bc8teG5hvOcWvAKqDKxZswYikQjDhg1DZmYm1q5diylTpmDnzp1Fzl+3bl0sXLgQ8+bNw1tvvSW77NTBwQGvXr3CwIED8fDhQ/Tv3x+urq44fPgwoqOjkZ6ejsGDB8uta/fu3Xj9+jV69eoFS0tLVK5cWfZaVFQU6tatiw8//BCnT5/GihUrUKVKFXz//fdo2rQppkyZggMHDmDBggXw9fVF48aN1W6DSpUqoW3btvjhhx8QHx+Pd955p8j5Pv30Uxw5cgQDBgxA3bp18eLFC1y+fBn37t1D/fr1MXr0aGRkZODJkyeyS24rVaokt45vv/0WFhYWGD58OHJyckq8NDYtLQ2jRo1CeHg4OnbsiEOHDmH27NmwsLBAjx49VNpHZWIr6Ny5cxg5ciRcXV0xbtw4vHr1Ct999x369u2L3bt3K9zeMmnSJLi6umLy5Mn4448/sHPnTjg4OOCjjz4qdhuOjo6oWLEiTp48iQEDBhTb+QFvEvTOnTvRqVMn9OzZEy9fvsQPP/yAESNGYOfOnfDy8pKb/8CBA8jNzcXAgQPx4sULrF27FpMmTULTpk1x8eJFjBw5Eg8ePMB3332HBQsWYN68eXLLJyYmIioqCn369EH37t2xa9cuTJw4EWvXrkVISEixcZ4/fx4jR46Ej48Pxo0bB5FIhN27d2Pw4MHYtm0b/Pz8il22oE6dOmH//v2YMmUKRCIRUlNTcfbsWSxcuBA///yzwvx79+5FdHQ0mjdvjilTpiA7Oxvbt29Hv379sGfPHtn7de7cOTx69AgRERGoXr067t69i9jYWMTHxyM2NhYikUhuvaW9r3fv3kVkZCQ8PT0xYcIEWFpa4sGDB7hy5YpS+0nqyczMRGpqqtw0kUgkO5keM2YMTp06hY8//hj79++Hra0tfv75Z8TGxmLixIlyv34BwIoVKyASiTBy5EikpKRg06ZNGDJkCPbt24eKFSsC+G+MEF9fX0yePBkpKSnYvHkzrly5gr1798Le3l62vvz8fAwfPhx+fn6YOnUqzp8/j/Xr16NmzZpyvwTPmjULe/bsQUREBAYOHIjHjx9j69at+OOPP7B9+3a5/vHBgweYOHEievToIftMRkdHo379+njnnXfQuHFjDBw4EFu2bMHo0aPh7u4OAMXeXqVqn6KpBg0aoFatWjh37lyx8+Tk5Mhyw4ABA1CtWjUkJyfjp59+Qnp6Ouzs7LBw4ULMnDkTfn5+6NWrFwDFWy8nTpyI2rVrIyoqSuH2+cJ+++03HDx4EAMHDoSlpSW2b98uawOxWKzSPioTW0HSsSubNWuGvn374v79+9i+fTtu3ryp8P6npaVhxIgRaNeuHcLDw3HkyBEsWrQIYrG4xPFppONuHThwAIGBgSVeEXHz5k1cvXoVHTt2xFtvvYWkpCRs374dgwYNwo8//ghra2u5+efOnYtq1aph/PjxuH79Onbs2AE7OztcvXoVb7/9NqKionDmzBmsW7cOYrEY3bp1k1t+7969ePnyJfr164fXr19jy5YtGDx4MA4cOIBq1aoVG+eKFSuwZMkShIeHo0ePHkhNTcV3332H/v37K3wWi+Pi4oKAgAD8+OOPsvY7c+YMMjIy0KFDhyLHC1X287pnzx7Y2Nhg6NChsLGxwYULF7B06VJkZmZi2rRpcutU5n2NjY3F3Llz0b59ewwaNAivX7/GnTt3cP369WKLZaSegrklJSUFW7ZsQVZWFrp06aLU8sp8F5w5cyb27NmD9u3bY+jQobhx4wZWrVqFe/fuYfny5XLre/DgAT788EP06dMHXbp0wfr16zF69GjMmTMHX3/9Nfr27QsAWL16NSZNmoTDhw/DzKz46xe2b9+Od955B2FhYahQoQJOnTqFOXPmQBAE9O/fX9XmKhHPLRTx3ILnFoARnFsIpLSlS5cKYrFYSElJKfL1jh07CgMGDJD9feHCBUEsFgvh4eHC69evZdM3bdokiMVi4c6dO7Jp06ZNE1q3bi23vtatWwujRo2Sm7Zx40ZBLBYL+/btk03LyckRevfuLQQEBAgZGRmCIAjCo0ePBLFYLAQGBirEK92PTz75RDYtLy9PCA0NFTw9PYVVq1bJpqelpQl+fn7CtGnTSm2fouItaMOGDYJYLBaOHz8umyYWi4WlS5fK/m7YsKEwZ86cErczatQohbYShP/au02bNkJ2dnaRr124cEE2bcCAAYJYLBbWr18vm/b69Wuha9euQnBwsJCTkyMIgiDs2rVLEIvFwqNHj0pdZ3GxSd+PXbt2yaZJt/P8+XPZtNu3bwv16tUTpk6dKpsmfb+mT58ut86xY8cKTZo0KbKNClqyZIkgFouFgIAAYcSIEcKKFSuE33//XWG+vLw8ueNUEN68/82aNZPbtnRfmjZtKqSnp8umL168WBCLxUKXLl2E3Nxc2fTJkycL9evXl1t369atBbFYLBw5ckQ2LSMjQwgJCRG6desmm1a4jSUSifDuu+8Kw4YNEyQSiWy+7OxsISwsTBg6dGiJbSGNfe3atcJff/0liMVi4bfffhMEQRC+++47ISAgQMjKyhKmTZsmBAQEyJbLzMwUGjVqJMycOVNufc+ePRMaNmwoN73wsScIghAXFye3LUFQ/n2Vfm6K63dIu6Sf96L+8/HxkZv3zp07Qv369YWPP/5YSEtLE1q0aCFERETIHf/SY7hFixay/lkQBOHgwYOCWCwWNm3aJAjCm348ODhY6NSpk/Dq1SvZfKdOnRLEYrGwZMkS2bRp06YJYrFYWLZsmVw83bp1E7p37y77+7fffhPEYrGwf/9+ufnOnDmjMF36mSx4jKakpAg+Pj7C/PnzZdMOHTqk0O9JDRgwQC4HKtunCIJiLihKwc9vccaMGSOIxWJZWxfuQ/744w9BLBYLhw4dKnFbAQEBReY96ed28uTJxb5WeL/EYrFw8+ZN2bSkpCTB19dXGDt2rGxaUd8BiltncbEVzlUpKSlC/fr1hWHDhgn5+fmy+b777jtBLBYLP/zwg2yaNB/u2bNHNu3169dCSEiIMH78eIVtFSSRSGTLN2vWTJg8ebLw3XffCUlJSQrzFtU/Xr16VWHb0n0p3Nf37t1b8PT0FGbNmiWbJv3+UvDYkx4rfn5+wpMnT2TTr1+/LojFYuHLL7+UTSvcxo8fPxa8vLyEFStWyMV5584dwdvbW2F6YdLYb9y4IXz33XdCgwYNZPs9YcIEYeDAgYIgKH5nUuXzWlQ7fvLJJ4K/v7/cZ07Z93XMmDFCx44dS9wv0kxxucXHx0fYvXu3wvyF+0RlvzPcvn1bEIvFwscffyw33/z58wWxWCycP39eNk3a71+5ckU27eeff5Z9dgp+hr///nuFvr+o/qmoY3PYsGFCmzZt5KYVzhfF4bkFzy14bmF65xa8Ba8MREREyI2NIR2QUnrZuirOnDmD6tWryz3i08LCAgMHDkRWVpbCZf3vvvtukU/sAyBXhTc3N4ePjw8EQZCbbm9vDzc3N7ViLUxasX/58mWx89jb2+P69esKt5yoolu3brIrCkpToUIF9O7dW/a3paUlevfujZSUFNmlubrw9OlT3L59G927d5f75aBevXpo1qwZTp8+rbBMnz595P5u1KgRXrx4gczMzBK3NWHCBCxevBheXl745Zdf8PXXXyMiIgLdu3eXuyTX3NxcdpxKJBK8ePECeXl58PHxUbjsGgDee+892NnZyf6W/jrQpUsXuV/A/fz8kJubq/CeOjk5oV27drK/bW1t0a1bN/zxxx949uxZkfty+/ZtJCYmonPnznj+/DlSU1ORmpqKrKwsBAcH47fffoNEIimxPaTeeecd2WXVwJtxOdq0aaPwCzzw5peH9PR0dOzYUbbN1NRUmJmZwd/fX+7y64LH3uvXr5Gamip7SktRx1Rp76v0l/YTJ04ovW+kuVmzZmHDhg1y/xW+bUUsFmPChAnYuXMnhg8fjufPn2PBggVFXgHSrVs32Nrayv5+7733UL16ddln/ffff0dKSgr69u0rN6ZDq1at4O7ujp9++klhndJfpqUaNmwodzn/4cOHYWdnh5CQELnjtn79+rCxsVG4bcDDw0NuwGQHBweN+n9V+xRtsLGxAVB8npG+B7/88kuptxmUpPDntiQNGjSAj4+P7O8aNWqgTZs2+OWXXxRumdKmc+fOITc3F4MGDZK7YqFnz56wtbVVyDM2NjZy46xYWlrC19e31PdfJBJh3bp1mDRpEuzt7REXF4fPPvsMrVu3xqRJk+Ru9yvYP+bm5uL58+eoVasW7O3tizwmevToIffLrp+fn8L3FOn3l6LibNu2LZydneWW9/f3LzLHSh07dgwSiQTh4eFyn5tq1aqhdu3aKo3hER4ejtevX+PUqVPIzMzETz/9VOwVRap8Xgu2o/SKmkaNGiE7OxsJCQly61XmfbW3t8eTJ09w48YNpfeN1FMwt/zvf/9DUFAQZs6cqfRtQqV9Z5Ae29K7J6SGDRsm97qUh4cHGjRoIPtb+n2ladOmck8VlU4vrT8oeGxmZGQgNTUVTZo0waNHj2S3OWsTzy3+w3MLnltIGfq5BW/BKwOFHwstfdPVGZgzKSkJtWvXVrj8VXoLxN9//y03vaTHZBeOy87ODlZWVgoFKzs7O60MlilNDiVdOjplyhRER0ejVatWqF+/Plq2bIlu3bqhZs2aSm9HlUeDOzk5yU5YpOrUqQPgTVvr6nHr0vfJzc1N4bW6devil19+kQ1sK1XccZSWliZ3YluUTp06oVOnTsjMzMT169exe/duxMXFYfTo0YiLi5Od8O7Zswfr16/H/fv3kZubK1u+qDZ9++235f6WJozipqelpcm9j7Vr11a4ZLRg21evXl1hm4mJiQCgcItBQRkZGXK3mpakU6dO2LBhA4YMGYKrV68qDKBbeLuFb3GVKtj+L168wLJly3Dw4EGFgRiL+vJV2vvaoUMH7Ny5EzNnzsTixYsRHByMdu3a4b333ivxMnjSjJ+fn1KDkA8fPhw//vgjbty4gcmTJxf74IjatWvL/S0SiVC7dm3Z46VL6hPc3d0VxiEoqq+uXLmy3FgxDx48QEZGBoKDg4uMqfDxWfizW9Q6VaVKn6INWVlZAIrPMzVr1sTQoUOxYcMGHDhwAI0aNUJYWBi6dOki96W3NKrEX/i9B970ddnZ2UhNTS2yr9MG6TElvVVSytLSEjVr1pQde1JvvfWWQp9cuXJl3Llzp9RtWVpaYsyYMRgzZgyePn2K3377DZs3b8ahQ4dQoUIFLFq0CADw6tUrrFq1Crt370ZycrLc7YvK9I8l5ZmijtPi2v7QoUPF7ktiYiIEQcC7775b5OuqDLrs4OCA4OBgxMXF4dWrV8jPz0f79u2LnFeVz+vdu3fxzTff4MKFCwonioXbUZn3deTIkTh37hx69uyJ2rVrIyQkBJ06dULDhg2V3ldSTuHc0qlTJ3Tr1g2fffYZWrVqVerDHEr7zpCUlAQzMzOFW3OrV68Oe3t7hc99cd/Z3nrrLbnp0u85pZ27XL58GTExMbh27ZpCkT8jI0OlflYZPLf4D88teG4hZejnFixAqUD6QXr9+nWRr2dnZyt02ACKfSOFUsaN0IaSqvVFxVXcE3S0Eat0QLWivhBKdejQAY0aNcKxY8dw9uxZrFu3DmvWrEFMTEyJY1AUpOwvFMoq3JFJlXXFWBvHka2tLUJCQhASEgILCwvs2bMH169fR5MmTbBv3z5ER0ejbdu2GD58OBwdHWFubo5Vq1YV+YtXcceKLo936TqmTp1a7PgxhZN+STp16oSvvvoKM2fORJUqVYq9P1y63YULFxaZvAq2xaRJk3D16lUMHz4cXl5esLGxgUQiwYgRI4psg9Laq2LFiti6dSsuXryIn376CT///DMOHjyIHTt2YP369Qb/mGZT9+jRI9lDJZQd3FgblHnfJRIJHB0dZSf/hRUuYGn7WFK1T9GGu3fvwtHRscQvztHR0ejevTtOnDiBs2fPYu7cuVi1ahViY2OLzOFF0faTh4rLM7q8Qqowbb3/Tk5O6NixI95991106tQJhw8fxvz581GhQgV8/vnnsnE1AgICYGdnB5FIVOxYWsX1j7r8giyRSCASibBmzZoi20SVHAO8yTOffPIJ/v33X4SGhhY7fpSyn9f09HQMGDAAtra2mDBhAmrVqgUrKyvcunULixYtUvhuosz7WrduXRw+fFiWY44ePYpt27Zh7NixmDBhgkr7S6oxMzNDUFAQNm/ejAcPHhQ7jlHB+YtS+PNTXJ9SWHHHhzrnAw8fPsSQIUPg7u6O6OhovP3227CwsMDp06exceNGnXxv5rmFZnhuwXMLfZxbsAClAmk18f79+wqV2OzsbDx58qTEAc60wcXFBXfu3IFEIpE7uKSXXBeueBqKly9f4vjx43j77beLHbBWysnJCf3790f//v2RkpKC7t27Y+XKlbIkoWxSVcbTp08Vfg2QVqRdXFwA/Fc1LlxhLvwrkiqxFTyWCktISEDVqlVV/pKrKh8fH+zZs0d2SeqRI0dQs2ZNLFu2TG4/li5dqpPtP3jwAIIgyG2rcNsXJv2Vw9bWFs2aNdM4hho1aiAwMBC//vor+vbtW+wv29LtOjo6lrjdtLQ0nD9/HuPHj8e4ceNk06X7pS4zMzMEBwcjODgY06dPx8qVK/H111/j4sWLWmkHUo9EIkF0dDRsbW0xePBgrFy5Eu3bty/yyonCTz4VBAEPHjyQPUGoYJ9Q+AqI+/fvq9W316pVC+fPn0dgYKDWvjyr0v+WdZ9y9epVPHz4UKnBfKVPE/rggw9w5coV9O3bF9u3b0dUVJTW4yr83gNv+gRra2tZUcHe3r7IKwsKX9WsCukxk5CQIPcLcU5ODh4/fqzzvsPCwgKenp5ITEzE8+fPUb16dRw5cgTdunWTPbkPePOjni5uzQGKb/vicgzw5nMjCAJcXV2LvJJAVe3atcOnn36Ka9eu4euvvy5xu8p8Xn/99VfZr+EFHw5T+GlaqrKxsUGHDh3QoUMH5OTkYPz48Vi5ciUiIyP1+qj58kBaaJZewakJFxcXSCQSPHjwQO779r///ov09PQSj31NnTx5Ejk5OVixYoVcztLVo+d5biGP5xY8t1CFPs8teP+GCoKDg2FhYYHt27crVKh37NiBvLw8hIaG6jSG0NBQPHv2DAcPHpRNy8vLw5YtW2BjY6PRk+p05dWrV5g6dSpevHiB0aNHl/hLb+GO2NHREU5OTnKPjrW2ttbal9W8vDzs2LFD9ndOTg527NgBBwcH1K9fH8B/TxgqOL5Wfn4+YmNjFdanbGxOTk7w8vLC3r175U46/vrrL5w9e1bpX2RKk52djatXrxb52pkzZwD8d6mutNpdsJJ+/fp1XLt2TSuxFPb06VMcO3ZM9ndmZib27t0LLy+vYm9J8fHxQa1atbB+/foi7/cv/NQyZUyaNAnjxo2Te3x8YS1atICtrS1WrVold/lw4e0W94vBpk2bVI5LqqjbX6W/0BR+pDKVrQ0bNuDq1av47LPPMHHiRDRo0ACzZ88u8jjcu3ev3K0yhw8fxrNnz2Q5w8fHB46Ojvj+++/l3tfTp0/j3r17aNWqlcrxhYeHIz8/H99++63Ca3l5eWrdBi4dx0CZfq4s+5SkpCRER0fLnlJUnMzMTOTl5clNE4vFMDMzk2t3GxsbtdqnKFevXpUbo+Gff/7BiRMnEBISImujWrVqISMjA3/++adsvsJ9pKqxNWvWDBYWFtiyZYvce/DDDz8gIyNDa3kmMTGxyEJZeno6rl69isqVK8sKbUX1kVu2bNHZlV7Hjx+XGyPkxo0buH79eonf1d59912Ym5tj2bJlCr8sC4Kg8Njr0lSqVAmzZ8/G+PHjZY9PL4qyn1fpj48FY8vJydHoUfeF98nS0hJ169aFIAhF5jzSntzcXJw9exYWFhalFlGUIf1cF/7esWHDBrnXdaGoPj8jIwO7du3S+rZ4bqGI5xY8t1CWvs8teAWUChwdHTF27Fh888036N+/P8LCwmBtbY2rV68iLi4OzZs3L/HLhTb07t0bO3bsQHR0NG7dugUXFxccOXIEV65cwYwZM0q9X1fXkpOTsW/fPgBvfsm5d++e7ERr2LBhJQ7c+vLlS7Rs2RLt27dHvXr1YGNjg3PnzuHmzZtyv5bWr18fBw8exLx58+Dr6wsbGxu1293JyQlr1qxBUlIS6tSpg4MHD+L27dv4/PPPZY9YfeeddxAQEICvvvoKaWlpqFy5Mg4ePKhwEqNqbFOnTsXIkSPRu3dv9OjRQ/aoVDs7O7kKtyays7PRp08fBAQEoEWLFnjrrbeQkZGB48eP49KlS2jbti28vb0BvBns+OjRoxg7dixatWqFx48f4/vvv4eHh4dWfpUrrE6dOvj4449x8+ZNODo6YteuXUhJSVF4pGpBZmZmmDt3LkaOHIlOnTohIiICzs7OSE5OxsWLF2Fra4uVK1eqFEeTJk3QpEmTEuextbXF7NmzMXXqVERERKBDhw5wcHDA33//jdOnTyMwMBCzZs2Cra0tGjdujLVr1yI3NxfOzs44e/asRr9ML1++HJcuXULLli3h4uKClJQUbNu2DW+99RbH59ChM2fOKAzmCwCBgYGoWbMm7t27hyVLliAiIkL2GZ8/fz66deuGOXPmYMmSJXLLVa5cGf369UNERARSUlKwadMm1K5dG7169QLw5mqRKVOmYPr06RgwYAA6duyIlJQUbN68GS4uLhgyZIjK+9CkSRP07t0bq1atwu3bt2WXxycmJuLw4cP4+OOP8d5776m0Ti8vL5ibm2PNmjXIyMiApaUlmjZtCkdHR4V5ddWn/PHHH9i3bx8EQUB6ejpu3ryJo0ePQiQSYeHChahXr16xy164cAGfffYZ3nvvPdSpUwf5+fnYt28fzM3N5cbmqV+/Ps6fP48NGzbAyckJrq6usgE/VSUWizF8+HAMHDgQlpaW2L59OwBg/Pjxsnk6dOiARYsWyb6wvnr1Ctu3b4ebm5vCAKPKxubg4IDIyEgsW7YMI0aMQFhYGO7fv49t27bB19dX6ce+l+bPP//ElClT0KJFCzRq1AiVK1dGcnIy9u7di6dPn2LGjBmyL9CtWrXCvn37YGtrCw8PD1y7dg3nzp0r8THemqhVqxb69u2Lvn37IicnB5s3b0aVKlUwYsSIEpeZNGkSFi9ejKSkJLRt2xaVKlXC48ePcfz4cfTq1avEImdRunfvXuo8yn5eGzRogMqVKyM6OhoDBw6ESCSSfR7UNXz4cFSrVg2BgYFwdHREQkICvvvuO7Rs2VLv3ytNTcHckpqaigMHDiAxMRGjRo3SSlvXq1cP3bt3x44dO5Ceno7GjRvj5s2b2LNnD9q2bYumTZtqvI3iSI/Z0aNHo0+fPnj58iV27twJR0fHYgeAVgbPLXhuoSyeWyhH3+cWLECpaMyYMXBxccHWrVvx7bffIi8vD66urhg/fjxGjRql84G7KlasiC1btmDRokXYs2cPMjMz4ebmhnnz5iEiIkKn21bG7du3MXXqVIhEIlSqVAlvv/02WrdujZ49e8qeZFCcihUrom/fvjh79iyOHj0KQRBQq1YtfPrpp+jXr59svn79+uH27dvYvXs3Nm7cCBcXF7WTROXKlTF//nzMnTsXsbGxqFatGmbNmiU7KZRatGgRZs2ahdWrV8Pe3h49evRAUFCQwlNGVImtWbNmWLt2LZYuXYqlS5eiQoUKaNy4MT766COVBkYsib29PebOnYuffvoJu3fvxrNnz2Bubg43NzdMnTpVrjIfERGBf//9Fzt27MAvv/wCDw8P/O9//8Phw4fx66+/aiWegurUqYNPPvkECxcuxP379+Hq6oqvv/4aLVq0KHG5oKAg7NixA99++y2+++47ZGVloXr16vDz85N76oi2de7cGU5OTli9ejXWrVuHnJwcODs7o1GjRnKfvcWLF+Pzzz/Htm3bIAgCQkJCsGbNmlL3qzhhYWFISkrCrl278Pz5c1StWhVNmjTB+PHjtT6YJ/2nuMvD582bhxo1amDatGmoWrUqZsyYIXutTp06mDx5Mr744gscPHgQHTp0kL02evRo3LlzB6tXr8bLly8RHByMTz/9VO7JKBEREahYsSLWrFmDRYsWwcbGBm3btsVHH31U7Lgxpfnss8/g4+OD77//Hl9//TXMzc3h4uKCLl26IDAwUOX1Va9eHXPmzMGqVavw8ccfIz8/H5s3by6yAKWrPiUuLg5xcXGoUKECbG1tUbt2bQwePBh9+vQp9VZFT09PNG/eHKdOnUJycjKsra3h6emJNWvWyA0MGx0djVmzZuGbb77Bq1ev0L17d7ULUI0bN0ZAQACWL1+Ov//+Gx4eHpg3b55coaxq1apYtmwZ5s+fj//9739wdXXF5MmT8eDBA4UClCqxjR8/Hg4ODvjuu+8wb948VK5cGb169cLkyZNlJ0Kaaty4MSZMmICff/4ZGzZswPPnz1GpUiV4eXlhypQpcoW9jz/+GGZmZjhw4ABev36NwMBAbNiwocSCkCa6desGMzMzbNq0CSkpKfDz88Mnn3wCJyenEpcbNWoU6tSpg40bN2L58uUA3gzKHBISotMfGpX5vFatWhUrV67EggUL8M0338De3h5dunRBcHCwyoUxqd69e+PAgQPYsGEDsrKy8NZbb2HgwIH44IMPtLl7BPncYmVlBXd3d8yePVulJ2uWZu7cuXB1dcWePXtw/PhxVKtWDZGRkVorQBTH3d0dS5cuxTfffIMFCxagWrVq6Nu3LxwcHORypap4bsFzC2Xx3EI5+j63EAllMRI2EVEBYWFheOedd7Bq1Sp9h0KkUxcvXsSgQYOwZMkSla82IiL1PH78GG3atMHUqVPVLsoQEZHx4LmF8eAYUEREREREREREpFMsQBERERERERERkU6xAEVERERERERERDrFMaCIiIiIiIiIiEineAUUERERERERERHpFAtQRERERERERESkUxX0HYCuXb16FYIgwMLCQt+hEBEZnNzcXIhEIjRo0EDfoegN8wQRUfGYJ5gniIhKokqeMPkroARBgLLDXAmCgJycHKXnL8/YVspjWymPbaU8bbWVKn2kqVK1DXicsg2k2A5sA8D024B54r82MPX3ujDur2nj/pq2stxfVfKEyV8BJf2lwtfXt9R5s7KycPv2bXh4eMDGxkbXoRk1tpXy2FbKY1spT1ttdfPmTS1GZZxUyRMAj1OAbSDFdmAbAKbfBswT/+WJunXrmvR7XZipH9uFcX9NG/dXd1TJEyZ/BRQREREREREREekXC1BERERERERERKRTLEAREREREREREZFOsQBFREREREREREQ6xQIUERERERERERHplMk/BY+IiIiIiIzHoUOHsH//fty6dQvp6emoXbs2Bg4ciPfffx8ikajY5cLCwpCUlKQw/caNG7CystJlyEREpAQWoIiIiIiIyGBs3LgRLi4uiI6ORtWqVXHu3Dl88sknePLkCcaNG1fisu3bt8ewYcPkpllaWuoyXCIiUhILUGTUJBIBZmbF/xKmq2WJiMg4ME8QGZ8VK1bAwcFB9ndwcDBevHiBDRs24IMPPoCZWfGjiFSrVg0BAQFlECWRZpifqDxiAYqMmpmZCIu2Xsbj5AyVlnN1tsOU/g11FBURERkK5gki41Ow+CTl5eWF2NhYZGVlwdbWVg9REWkX8xOVRyxAkdF7nJyBe0lp+g6DiIgMFPMEkfG7fPkynJ2dSy0+HThwALGxsbCwsECjRo0wZcoUeHp6arx9QRCQnZ0NALJ/TR33V3dEIhGsra01yk/Z2dkQBEHtGPj+mray3F9BEEocn68gFqCIiIiIiMhgXbp0CQcPHsS0adNKnC8sLAx+fn6oUaMGHj16hJUrV6Jfv37Yu3cvatasqVEMubm5SExMBADZv+UF91f7rK2t4e3trdE67t+/r5XiAt9f01ZW+6vsWHssQBERERERkUF68uQJoqKiEBQUhEGDBpU478yZM2X/36hRI4SEhCA8PBzr1q3D7NmzNYrDwsICLi4uSExMRJ06dWBtba3R+oxBdnY291dHlL1apCRubm4aXwHF99d0leX+xsfHKz0vC1BERGQ0Tp8+jTVr1iA+Ph6ZmZlwdnZG27ZtMW7cONjZ2ek7PCIi0qL09HSMHDkSVapUQUxMTImDjxfFyckJDRs2xK1btzSORXrLFPDm6hUbGxuN12ksuL+GSVtFBWPZX23h/mqfKgVVFqCIiMhovHjxAn5+fhg4cCCqVKmCu3fvIiYmBnfv3sX69ev1HR4REWnJq1evEBkZiYyMDOzYsYM/MhARmQAWoIiIyGh07dpV7u+goCBYWlrik08+QXJyMpydnfUUGRERaUteXh4mTZqEhIQEbN26Ve2+PTk5GZcvX1bIHUREpB8sQBERkVGrUqUKgDcDxBIRkfGbM2cOTp06hejoaGRmZuLatWuy17y9vWFpaYnBgwfj77//xrFjxwAAcXFxOHXqFFq2bAknJyc8evQIq1evhrm5OYYOHaqnPSEiooJYgCIiIqOTn5+PvLw8xMfHY/ny5QgLC4Orq6va6xMEAVlZWUrNW94e41sUY2mDgmO2qKukx1wbSzvoEtvA9NtAlcdra8vZs2cBAPPnz1d47cSJE3B1dYVEIkF+fr5suqurK54+fYovv/wSGRkZsLOzQ9OmTTFhwgSNn4BHRETawQIUEREZndatWyM5ORkA0KJFCyxevFij9eXm5uL27dsqLVPeHuNbFENvg7J6zLWht0NZYBuYdhso+3htbTl58mSp82zZskXu74CAAIVpRERkWFiAIiIio7N69WpkZ2cjPj4eK1aswOjRo7FhwwaYm5urtT4LCwt4eHgoNW95e4xvUYylDXT9mGtjaQddYhuYfhuo8nhtIiKikrAARURERqdevXoAgAYNGsDX1xddu3bFsWPH8N5776m1PpFIpPIjasvbY3yLUh7aQJmCQnloh9KwDUy3Dcr69jsiIjJdZvoOgIiISBOenp6wsLDAw4cP9R0KERERkVGQjpPIIjOVJV4BRURERu369evIzc3VaBByIiIiovJAIhFgZiZSa5xE6bJE6mIBioiIjMa4cePg4+MDT09PVKxYEX/++SfWrVsHT09PtG3bVt/hERERERk0MzMRFm29jMfJGSot5+pshyn9G+ooKiovWIAiIiKj4efnh4MHD2L16tUQBAEuLi7o2bMnhg8fXuZPaSIiIiIyRo+TM3AvKU3fYVA5xAIUEREZjVGjRmHUqFH6DoOIiIiIiFRkkIOQ79mzB926dYOvry+CgoIwYsQIvHr1St9hERERERERERGRGgzuCqgVK1ZgzZo1GD16NAICAvD8+XOcP38e+fn5+g6NiIiIiIiIiIjUYFAFqISEBCxbtgzffvstWrZsKZvevn17PUZFRERERERERESaMKhb8Hbv3g1XV1e54hMRERERERERERk3g7oC6vr16xCLxfj222+xZcsWZGRkwMfHB9OnT4e/v7/a6xUEAVlZWaXOl52dLfcvFc8Q2kokEsHa2lqjdWRnZ0MQBC1FVPw2Cv5LxWNbKU9bbSUIAkQikTZCIiIiIiIiKpZBFaCePXuG33//HX/99Rc+/fRTWFtbY+XKlRg2bBiOHj0KR0dHtdabm5uL27dvKz1/YmKiWtspj/TZVtbW1vD29tZoHffv3y+zYgePK+WxrZSnjbaytLTUPBCickj6QwiLuERERESlM6gClPRKpSVLlqBevXoAAH9/f4SFheG7777DxIkT1VqvhYUFPDw8Sp0vOzsbiYmJqFOnjsZX1pg6Q2grbXzhd3NzK5MroPTdVsaCbaU8bbVVfHy8FqMiMh1V7KwgkQgwMys+15T0Q0hpy+qKJtvVV8xERERUPhhUAcre3h5VqlSRFZ8AoEqVKvD29tboJEkkEsHGxkbp+a2trVWavzwz9rYqyyKHsbdVWWJbKU/TtuKVG0RFs7W2gJmZCIu2Xsbj5AyVlnV1tsOU/g11FFnJjDFmIiIiKh8MqgDl4eGBhw8fFvna69evyzgaIiIiKu8eJ2fgXlKavsNQiTHGTERERKbPoJ6C17p1a7x48UJuvKbnz5/j1q1bqF+/vh4jIyIiIiIiIiIidRnUFVBt27aFr68vJkyYgKioKFhZWWH16tWwtLREv3799B0eERERERERERGpwaCugDIzM8Pq1asREBCAWbNmYfLkybC1tcXWrVtRvXp1fYdHRERERERERERqMKgroADAwcEB//vf//QdBhERERERERERaYlBXQFFRERERERERESmhwUoIiIiIiIiIiLSKRagiIiIiIiIiIhIp1iAIiIiIiIiIiIinWIBioiIiIiIiIiIdIoFKCIiIiIiMhiHDh3CmDFjEBoaioCAAHTt2hU//PADBEEocTlBELB69Wq0atUKfn5+6N27N65du1Y2QRMRUalYgCIiIiIiIoOxceNGWFtbIzo6GitWrEBoaCg++eQTLF++vMTl1qxZg6VLl2LIkCFYtWoVqlevjmHDhuHRo0dlFDkREZWkgr4DICIiIiIiklqxYgUcHBxkfwcHB+PFixfYsGEDPvjgA5iZKf6G/vr1a6xatQrDhg3DkCFDAAANGzbEe++9h3Xr1mH27NllFD0RERWHV0AREREREZHBKFh8kvLy8kJmZiaysrKKXObKlSvIzMxEeHi4bJqlpSXatWuHM2fO6CxWIiJSHq+AIiIiIiIig3b58mU4OzvD1ta2yNcTEhIAAO7u7nLT69ati02bNuHVq1eoWLGi2tsXBAHZ2dkAIPvX1HF/dUckEsHa2lqjdWRnZ5c6LpqhbNcQ8HjWHUEQIBKJlJqXBSgiIiIiIjJYly5dwsGDBzFt2rRi50lPT4elpSWsrKzkptvb20MQBKSlpWlUgMrNzUViYiIAyP4tL7i/2mdtbQ1vb2+N1nH//n2Viwv62q4h4fGsG5aWlkrNxwIUEREREREZpCdPniAqKgpBQUEYNGiQ3uKwsLCAi4sLEhMTUadOHY2vIjEG2dnZ3F8dUfZqkZK4ubmpdQWUPrZrCHg86058fLzS87IARUREREREBic9PR0jR45ElSpVEBMTU+Tg41L29vbIycnB69ev5a6CSk9Ph0gkQuXKlTWKpeCtS9bW1rCxsdFofcaE+2uY9FVEMfbijbG8v9pSFvurSmGTg5ATEREREZFBefXqFSIjI5GRkYG1a9fCzs6uxPmlYz/dv39fbnpCQgJq1Kih0e13RESkHSxAERERERGRwcjLy8OkSZOQkJCAtWvXwtnZudRlAgMDYWtri0OHDsmm5ebm4ujRowgNDdVluEREpCTegkdERERERAZjzpw5OHXqFKKjo5GZmYlr167JXvP29oalpSUGDx6Mv//+G8eOHQMAWFlZITIyEjExMXBwcIBYLMb27dvx4sULDB8+XE97QkREBbEARUREREREBuPs2bMAgPnz5yu8duLECbi6ukIikSA/P1/utZEjR0IQBKxfvx6pqanw8vLCunXrULNmzTKJm4iISsYCFBEREZEBkUgEmJlp/qQiImN18uTJUufZsmWLwjSRSITIyEhERkbqIiwiItIQC1BEREREBsTMTIRFWy/jcXKGSssF1nPCoA7eOoqKiIiISDMsQBHpmPSxvao8npKIiMq3x8kZuJeUptIyrk62OoqGiIiISHMsQBGpQZXbI6ytreHt/d8v0vkSAeZq3lrB2zKIiIiIiIjIGGlUgHr69CmcnJy0FQuR0dD09gh1lnV1tsOU/g1VWoZI35gniIhMH/t6IiJShkYFqFatWqFp06bo0qUL3n33XdjY2GgrLiKDp8ntEeosS2SMmCeIiEwf+3oiIlKGmSYLT5gwAU+fPkV0dDRCQkIwZcoUnDlzBhKJRFvxERGREWOeICIyfezriYhIGRpdATV69GiMHj0af/zxBw4cOIAff/wRcXFxcHR0RMeOHdG5c2f4+vpqK1YiIjIyzBNERKaPfT0RESlDK4OQe3t7w9vbG1OnTsWFCxdw4MAB7N69G1u2bIGbmxu6dOmCLl26oEaNGtrYHBERGRnmCSIi08e+noiISqLRLXiFiUQiNGzYEC1btoS/vz8EQcCDBw+wbNkytG3bVnZ5LhERlU/ME0REpo99PRERFUUrV0ABkP3KcfToUWRmZkIsFmPatGno3LkzzM3NsXv3bqxatQpTp07Fxo0btbVZIiIyEswTRESmj309EREVR6MC1J9//on9+/fjxx9/xNOnT1GtWjX06NED3bp1g6enp9y8w4cPh5WVFRYsWKBRwEREZDyYJ4iITB/7eiIiUoZGBahu3bqhYsWKaNOmDbp164aQkBCYmRV/V5+HhwcCAgI02SQRERkR5gkiItPHvp6IiJShUQHqyy+/RPv27VGpUiWl5m/atCmaNm2qySaJiMiIME8QEZk+9vVERKQMjQpQERER2oqDiIhMEPMEEZHpY19PRETK0OgpeJs3b8bw4cOLfX3EiBHYtm2bJpsgIiIjxjxBRGT62NcTEZEyNCpA/fDDD6hbt26xr3t4eCA2NlaTTRDR/6tiZwWJRFB7eU2WJVIX8wQRkeljX09ERMrQ6Ba8R48eoX///sW+7u7uzmRDpCW21hYwMxNh0dbLeJycodKyrs52mNK/oY4iIyqetvPEoUOHsH//fty6dQvp6emoXbs2Bg4ciPfffx8ikUgbIRMRkYp4TkBERMrQqABlYWGBZ8+eFfv606dPS3wCBhGp7nFyBu4lpek7DCKlaDtPbNy4ES4uLoiOjkbVqlVx7tw5fPLJJ3jy5AnGjRunjZCJiEhFPCcgIiJlaJQJ/P39sWfPHmRmZiq8lpGRgd27d8Pf31+TTRARkRHTdp5YsWIFvvrqK3To0AHBwcH48MMP0aNHD2zYsAESiUSboRMRkZJ4TkBERMrQ6AqocePGYcCAAejWrRsGDx4MDw8PAMDdu3exadMmPHv2DIsXL9ZKoEREZHy0nSccHBwUpnl5eSE2NhZZWVmwtbXVWuxERKQcnhMQEZEyNCpA+fv7Y+XKlZg1axa++OIL2fgbgiDA1dUVK1asQIMGDbQSKBERGZ+yyBOXL1+Gs7Mzi09ERHrCcwIiIlKGRgUoAAgJCcGxY8fwxx9/4OHDhwCAWrVqoX79+hwQloiIdJonLl26hIMHD2LatGkarUcQBGRlZSk1b3Z2tty/5ZGxtIFIJIK1tbXetp+dnQ1BUO0JpMYWs7EcC7pk6m0gCIJSfTXPCYiIqDQaF6AAwMzMDD4+PvDx8dHG6oiIyMToIk88efIEUVFRCAoKwqBBgzRaV25uLm7fvq3SMomJiRpt0xSUVRtYWFigQgXVv7JUrFgR7u7uOohIOffv31e5KGFtbQ1vb28dRVQ6dWIG+HkATLsNLC0tlZqP5wRERFQSrRSg4uPj8ejRI6SlFf1krm7dumljM0REZKS0nSfS09MxcuRIVKlSBTExMRo/XcnCwkI2ZklpsrOzkZiYiDp16uj1ShV9Kss2EIlEsLSygrkRPkHLzc1NrSug9EnVmPl5MP02iI+PV2lenhMQEVFxNCpAPXz4EB999BFu3LhR7JcVkUjEZENEVE7pIk+8evUKkZGRyMjIwI4dO2BnZ6dxnCKRCDY2NiotY21trfIypqYs22DR1st4nJyh0jKB9ZwwqIP+riYyxmKEujHz82C6baBMUVQXff2DBw+wbt06XL9+HXfv3oW7uzvi4uJKXS4sLAxJSUkK02/cuAErKyult09ERNqnUQFq1qxZ+OuvvzBjxgw0atQI9vb22ooLL1++RHh4OJKTk/HDDz/A19dXa+smIqKyoe08kZeXh0mTJiEhIQFbt26Fs7OzliIlQ/c4OQP3koq+qqI4rk4cmJ6oLOjinODu3bs4ffo0/P39IZFIVLoyr3379hg2bJjcNGVvIyQiIt3RqAB15coVREZGYuDAgdqKR+bbb79Ffn6+1tdLRERlR9t5Ys6cOTh16hSio6ORmZmJa9euyV7z9vbmCQYRkR7o4pwgLCwMbdu2BQBER0fj999/V3rZatWqISAgQGuxEBGRdmhUgKpatapWbn0o7N69e9i2bRumTZuGTz/9VOvrJyKisqHtPHH27FkAwPz58xVeO3HiBFxdXbW2LSIiUo4uzgk0HduPiIgMj0Y9e58+fbB//36tX6k0d+5c9OnTB25ublpdLxERlS1t54mTJ0/izp07Rf7H4hMRkX7o6pxAXQcOHICPjw8aNGiAkSNH4s6dO/oOiYiIoOEVUHXq1IFEIkHXrl3x/vvv46233oK5ubnCfO+++67S6zx8+DD++usvxMTE4NatW5qEJyMIArKyskqdT/rYYXUeP1zeGEJbiUQijQd4zc7OVusJRcY4sCyg3v6WJUM4royFttpKEASdPnVLF3mCiIgMiyH19WFhYfDz80ONGjXw6NEjrFy5Ev369cPevXtRs2ZNtdcrCEK5+57C/dUdYz6PMfTzieLweNYdVc4nNCpARUVFyf5/wYIFRc4jEolw+/ZtpdaXnZ2N+fPnIyoqCra22hs4NDc3V+kYACAxMVFr2zZ1+mwra2treHtr9nSj+/fvq/yh1MZ29UWd/dUHfgaVp4220uW4SdrOE0REZHgMqa+fOXOm7P8bNWqEkJAQhIeHY926dZg9e7ba683NzZXl3PL2PYX7q33GfB5jLOcTxeHxrBvKnk9oVIDavHmzJosrWLFiBRwdHfH+++9rdb0WFhbw8PAodb7s7GwkJiaiTp06RnuFS1kxhLbSxlUbbm5uav1yYKzU2d+yZAjHlbHQVlvFx8drMSpF2s4TRERkeAy5r3dyckLDhg01vrPCwsICLi4u5ep7Snn7XlaW+2vM5zGGfj5RHB7PuqPK+YRGBagmTZposricpKQkrF+/HsuXL0dGRgYAyG6by8rKwsuXL1GpUiW11i0SiWBjY6P0/NbW1irNX54Ze1uVh86nIGPZX2M/rsqSpm2l64KqNvMEEREZpvLQ1xe8dam8fU/h/homfX2vN5bzieIYy/urLWWxv6qcT2hUgJLKycnBrVu3kJKSgsDAQDg4OKi8jsePHyM3NxejRo1SeG3QoEHw9/dHbGysNsIlIqIypo08QUREhs0Q+/rk5GRcvnwZXbt21XcoRFpRxc4KEokAM7OyvStD0+3qI2YyPBoXoDZv3oxly5bJrlpav349goODkZqaivDwcHz00Ufo0aNHqevx8vJSuHz39u3bmDdvHubMmQNfX19NQyUiIj3QVp4gIiLDpe2+Pjs7G6dPnwbw5k6JzMxMHD58GMCbK64cHBwwePBg/P333zh27BgAIC4uDqdOnULLli3h5OSER48eYfXq1TA3N8fQoUO1vMdE+mFrbQEzMxEWbb2Mx8kZKi0bWM8JgzqoNwaUJtt1dbbDlP4N1doumRaNClC7du3Cl19+iY4dOyIkJAQzZsyQvebg4ICmTZvi4MGDSiUbe3t7BAUFFfla/fr1Ub9+fU1CJSIiPdBmniAiIsOki74+JSUFEydOlJsm/Xvz5s0ICgqCRCJBfn6+7HVXV1c8ffoUX375JTIyMmBnZ4emTZtiwoQJGj0Bj8gQPU7OwL2kNJWWcXXS/EFf6myXSEqjAtSGDRvQpk0bLF68GM+fP1d4vX79+tiyZYsmmyAiIiPGPEFEZPp00de7urrizp07Jc5TeJ0BAQHMKUREBsxMk4UfPHiA0NDQYl+vUqUKXrx4ofb6g4KCcOfOHd5+R0RkpHSdJ4iISP/Y1xMRkTI0KkDZ29sX+SuHVHx8PKpXr67JJoiIyIgxTxARmT729UREpAyNClChoaGIjY1Fenq6wmt3797Fzp07ERYWpskmiIjIiDFPEBGZPvb1RESkDI3GgJo0aRJ69eqFTp06oXXr1hCJRNi7dy927dqFo0ePonr16vjggw+0FSsRERkZ5gkiItPHvp6IiJSh0RVQzs7O2L17N1q0aIFDhw5BEATs27cPp06dQseOHREbGwsHBwdtxUpEREaGeYKIyPSxryciImVodAUUADg6OuKLL77AF198gdTUVEgkEjg4OMDMTKPaFhERmQjmCSIi08e+noiISqNxAaog/rJBREQlYZ4gIjJ97OuJiKgoGhWgli1bVuo8IpEIY8eO1WQzRERkpJgniIhMH/t6IiJShs4KUCKRCIIgMNkQEZVjzBNERKaPfT0RESlDowLUn3/+qTBNIpEgKSkJ27Ztw2+//YY1a9ZosgkiIjJizBOmSSQSwdraGiKRSN+hEJEBYF9PRIaO310Mg9ZHBTQzM0PNmjUxbdo01K5dG3PnztX2JoiIyIgxTxgviUQAAFhbW8Pb2xvW1tYqL0tE5QP7elKVJnkiX4NlmZ90r4qdld7e33wNvrvwuNI+rQ5CXljjxo2xaNEiXW6CiIiMGPOEcTEzE2HR1st4nJyh0nKuznaY0r+hjqIiIkPHvp6UoW6OCaznhEEdvJmfDJittYVe3l99Lcvjqng6LUD9/vvvfPQqEREVi3nC+DxOzsC9pDR9h0FERoR9PSlLnRzj6mSr9rJUtsr6/dXXslQ8jQpQe/fuLXJ6eno6Ll26hKNHj6Jnz56abIKIiIwY8wQRkeljX09ERMrQqAAVHR1d7GtVq1bFqFGj+LQLIqJyjHmCiMj0sa8nIiJlaFSAOnHihMI0kUgEe3t72NraarJqIiqH+HQK08M8QURk+tjXExGRMjQqQLm4uGgrDjJyEokAMzP1igaaLKsu6ZMYynq7+qLp/pbVstKnU2hju2QYmCeIiEwf+3oiIlKGTgchp/LD2J6MpI0nMRgTTfZX0/fI2I4NIiIiIiIi0j6NClD16tVT+VYZkUiEP/74Q5PNkoEyxicEaPJEBGOkr/fIGI8N0g7mCSIi08e+noiIlKFRAWrs2LE4fvw44uPj0bx5c7i5uQEAEhIScPbsWbzzzjto27atVgIlIiLjwzxBRGT62NcTEZEyNCpAOTk5ISUlBQcOHIC7u7vca/fu3cPgwYPh5OSEXr16aRQkEREZJ+YJIiLTx76eiIiUYabJwuvWrcOAAQMUEg0A1K1bF/3798fatWs12QQRERkx5gkiItPHvp6IiJShUQHqyZMnqFCh+IuoKlSogCdPnmiyCSIiMmLME0REpo99PRERKUOjAtQ777yDbdu2ITk5WeG1J0+eYPv27RCLxZpsgoiIjBjzBBGR6WNfT+WVRCLoOwQio6LRGFDTp0/HiBEj0L59e7Rt2xa1a9cGACQmJuLEiRMQBAELFy7USqBERGR8mCeIiEwf+3oqr8zMRFi09TIeJ2eotFxgPScM6uCto6iIDJdGBahGjRohNjYWS5YswfHjx/Hq1SsAQMWKFdG8eXOMHz8enp6eWgmUiIiMD/MEEZHp00Vf/+DBA6xbtw7Xr1/H3bt34e7ujri4uFKXEwQBa9aswbZt25CamgovLy9Mnz4dAQEB6uwaUakeJ2fgXlKaSsu4OtnqKBoiw6ZRAQoAxGIxli9fDolEgtTUVACAg4MDzMw0uruPiIhMBPMEEZHp03Zff/fuXZw+fRr+/v6QSCQQBOVudVqzZg2WLl2KKVOmwNPTE1u3bsWwYcOwb98+1KxZU61YiIhIO7T27d/MzAxWVlaoWrUqTyqIiEgB8wQRkenTVl8fFhaG06dPY+nSpahfv75Sy7x+/RqrVq3CsGHDMGTIEAQHB+Orr75ClSpVsG7dOrVjISIi7dD4DODmzZsYPnw4/P39ERQUhF9//RUAkJqaijFjxuDixYsaB0lERMaLeYKIyPRpu69Xp3h15coVZGZmIjw8XDbN0tIS7dq1w5kzZ1ReHxERaZdGt+BduXIFgwcPhrOzM7p06YKdO3fKXnNwcEBmZiZ27NiBoKAgjQMlovKlip0VJBIBZmYitZbXZFnSHuYJIiLTZyh9fUJCAgDA3d1dbnrdunWxadMmvHr1ChUrVlRr3YIgIDs7GwBk/5q6stxfkUgEa2trnW+nONnZ2Srvr75jJsOXnZ2t9O3Duth2wX91SRAEiETKnXdpVID6+uuvUbduXcTGxiIzM1Mu2QBAUFAQ9uzZo8kmiKicsrW2UPvJIq7OdpjSv6GOIiNVME8QEZk+Q+nr09PTYWlpCSsrK7np9vb2EAQBaWlpahegcnNzkZiYCACyf8uLsthfa2treHvr76lw9+/fl52oK7u/+o6ZDF/B40pfyqq/srS0VGo+jQpQN2/exOTJk2FpaVlkxcvZ2Rn//vuvJpsgonJOnSeLkOFgniAiMn3loa+3sLCAi4sLEhMTUadOnXJx5Ut2dnaZ7a+yV0/oipubG7KyslTaX33HTIbPzc1Nr1dAldXnNz4+Xul5NSpAVahQARKJpNjXk5OTYWNjo8kmiIjIiDFPEBGZPkPp6+3t7ZGTk4PXr1/LXQWVnp4OkUiEypUrq73ugrdbWVtbl6vcVR7219raWlYoKA/7S2XDEArVZXE8q1KM1WgQcn9/fxw5cqTI17KysrB79240btxYk00QEZERY54gMm3Sk3JeCVC+GUpfLx376f79+3LTExISUKNGDbVvvyMiIu3QqAA1YcIE/P777xg1apTsyRJ37tzBzp07ERERgdTUVHzwwQdaCZSIiIwP8wSVR9KHKBgTdWOWjoFiWWjMHSpfDKWvDwwMhK2tLQ4dOiSblpubi6NHjyI0NFTn2yciopJpdAuev78/Vq9ejdmzZ2PatGkAgPnz5wMAatWqhdWrV6NevXqaR0lEREaJeYLKI00eohBYzwmDOpT9oLZ88ANpQhd9fXZ2Nk6fPg0ASEpKQmZmJg4fPgwAaNKkCRwcHDB48GD8/fffOHbsGADAysoKkZGRiImJgYODA8RiMbZv344XL15g+PDh2tpdIiJSk9oFKEEQ8PLlSwQGBuLIkSO4ffs2EhMTIQgCatasCR8fH16OTURUjjFPUHmnzkMUXJ1sdRSNcvjgB1KVrvr6lJQUTJw4UW6a9O/NmzcjKCgIEokE+fn5cvOMHDkSgiBg/fr1SE1NhZeXF9atW4eaNWuqv5NULvCWYiLdU7sAlZubiyZNmiAqKgojR46El5cXvLy8tBkbEREZMeYJIiLTp6u+3tXVFXfu3Clxni1btihME4lEiIyMRGRkpMYxkOmT3n5sZiaS3VJMRLqjdgHK0tIS1apVg6WlpTbjISIiE8E8QURk+tjXkzEzxlumiYyZRmNAde/eHfv27UPfvn2ZdIiISAHzBBGR6WNfT8bOGG+ZJjJGGhWgPD09ceLECXTq1Andu3eHi4tLkY83fffddzXZDBERGSlt54kHDx5g3bp1uH79Ou7evQt3d3fExcVpO2wiIlIBzwmIiEgZGhWgJk+eLPv/JUuWFDmPSCTC7du3NdkMEREZKW3nibt37+L06dPw9/eHRCKBIBjXo+6JiEwRzwmIiEgZKhegvvrqK3To0AH16tXD5s2bdRETlSMFB/4jw8T3iFSlyzwRFhaGtm3bAgCio6Px+++/a3X9RESkHJ4TEBGRqlQuQK1evRrvvPMO6tWrhyZNmuD58+do1qwZ1q9fj+DgYF3ESCaMA/8ZPr5HpCpd5gkzMzMtRUlERJrgOQEREalKo1vwpLR1C8ShQ4ewf/9+3Lp1C+np6ahduzYGDhyI999/HyIRr74wZRz4z/DxPSJNGPqtcoIgICsrS6l5s7Oz5f4tL0SiN4+o1kR2drbKx4I2tktlQ5331xSYep8gCILS38PL4/tPRETK00oBSls2btwIFxcXREdHo2rVqjh37hw++eQTPHnyBOPGjdN3eEREZKJyc3NVHpskMTFRN8HomIWFBSpUUD39V6xYEe7u7hpt+59//sGrV6/KfLtUNu7fv2+yRRhlGGufoAw+2Y6IiLTBoApQK1asgIODg+zv4OBgvHjxAhs2bMAHH3zAWy+IiEgnLCws4OHhodS82dnZSExMRJ06dYzuyhyRSARLKyuYl3E+lY4lx0KSaXNzcyuXV8AYc5+gjPj4eH2HQEREJkKtAlRSUhJu3boFAMjIeDMmzIMHD2Bvb1/k/PXr11dqvQWLT1JeXl6IjY1FVlYWbG15Ow8RkTHQVZ7QFZFIBBsbG5WWsba2VnkZQ1HWY7pxLLnywRSLL6ow5j6hJCXdfmdsfT0REemXWgWoJUuWKDxidc6cOQrzSe8Z1+SRq5cvX4azs7NGxSdlx/Yw9Xv4talgW3F8DjJUpjweibb6K1XG9lBFWeYJUp2+xnTjWHJEpoV9PRERqULlAtS8efN0EUeRLl26hIMHD2LatGkarUfVsT1M+R5+bUtMTIS1tTW8vfnrNBme8jAeiTb6K22P7VGWeYKIiPSDfT0REalK5QJU9+7ddRGHgidPniAqKgpBQUEYNGiQRutSdmwPU7+HX5sKtpUpXm5OpsGUxyPRVn+li7E9dJknsrOzcfr0aQBvbv3IzMzE4cOHAQBNmjQp8lZuIiLSvrI6JyD9kd7lwKeRE5G2GNQg5FLp6ekYOXIkqlSpgpiYGI0HH1d1bA9TvYdfF6ytrVmsI4NVHo5NTfsrY/tSmZKSgokTJ8pNk/69efNmBAUF6SMsIiIikyGRCDAzE6l1l4N0WSKiohhcAerVq1eIjIxERkYGduzYATs7O32HREREBsLV1RV37tzRdxhEREQmS92HRrg622FK/4Y6ioqITIFBFaDy8vIwadIkJCQkYOvWrXB2dtZ3SFQMXpJLRERERGSa1HloBBFRaQyqADVnzhycOnUK0dHRyMzMxLVr12SveXt7a32gXJKnyiWzHHiciIiIiIiIiJRlUAWos2fPAgDmz5+v8NqJEyfg6upa1iGVK+pebhtYzwmDOrAYRURERERERERFM6gC1MmTJ/UdQrmnzuW2rk62OoqGiIiIiIiIiEyBZo+XIyIiIiIiIiIiKgULUEREREREREREpFMsQBERERERERERkU6xAEVERERERERERDrFAhQREREREREREekUC1BERERERERERKRTFfQdABERERERUUH37t3D3LlzcfXqVVSqVAldu3bFpEmTYGlpWeJyYWFhSEpKUph+48YNWFlZ6SpcIiJSAgtQRERERERkMNLS0jB48GDUqVMHMTExSE5Oxvz58/Hq1SvMmjWr1OXbt2+PYcOGyU0rrXBFRKQtVeysIJEIMDMTqbV8vkSAuZrLarLdssACFBERERERGYzvv/8eL1++xLJly1ClShUAQH5+PubMmYPIyEg4OzuXuHy1atUQEBCg+0CJiIpga20BMzMRFm29jMfJGSotG1jPCYM6eKu1rKuzHab0b6jSMmWNBSgiIiIiIjIYZ86cQXBwsKz4BADh4eH49NNPcfbsWUREROgvOCIiJT1OzsC9pDSVlnF1slV7WWPAApSJMfRL7ojKAi97JSIiMl4JCQl4//335abZ29ujevXqSEhIKHX5AwcOIDY2FhYWFmjUqBGmTJkCT09PjWISBAHZ2dkAIPvXFIlEIlhbW2u0juzsbAiCUObbJaI3srOzy7S/EgQBIpFy5z8sQJkYTS/1IzIFvOyViIjIeKWnp8Pe3l5heuXKlZGWVvIVAWFhYfDz80ONGjXw6NEjrFy5Ev369cPevXtRs2ZNtWPKzc1FYmIiAMj+NUXW1tbw9tbsnOD+/fsqn/RqY7tE9EbBz2BZ9VfKjrPHApQJ0uRSPyJTwsteiYh0j1edkiGZOXOm7P8bNWqEkJAQhIeHY926dZg9e7ba67WwsICLiwsSExNRp04dk71aR9mrGEri5uam1hVQRKQdbm5uyMrKKrP+Kj4+Xul5WYAiIiIiIrXxqlPSNnt7e2RkKB4PaWlpqFy5skrrcnJyQsOGDXHr1i2NYip4i5i1tTVsbGw0Wp8pM9XiHJGxsLa2lhWBy6K/UqWAzAIUEREREWmMV52Stri7uyuM9ZSRkYFnz57B3d1dT1EREZGmzPQdABERERERkVRoaCjOnTuH9PR02bTDhw/DzMwMISEhKq0rOTkZly9fhq+vr7bDJCIiFfEKKCIiIiIiMhh9+vTBli1bMHbsWERGRiI5ORkLFy5Enz594OzsLJtv8ODB+Pvvv3Hs2DEAQFxcHE6dOoWWLVvCyckJjx49wurVq2Fubo6hQ4fqa3eIiOj/sQBFREREREQGo3Llyti0aRM+//xzjB07FpUqVUKPHj0QFRUlN59EIkF+fr7sb1dXVzx9+hRffvklMjIyYGdnh6ZNm2LChAkaPQGPiIi0gwUoIiIiIiIyKHXr1sXGjRtLnGfLli1yfwcEBChMIyIiw8ExoIiIiIiIiIiISKdYgCIiIiIiIiIiIp1iAYqIiIiIiIiIiHSKBSgiIiMkEolgbW0NkUik71CIiIiIiIhKxUHIiYgMhEQiwMxMuYKStbU1vL291VqWiIiIiIiorLEARURkIMzMRFi09TIeJ2eotJyrsx2m9G+oo6hIVzQpGuZLBJiz4EjlXBU7K40+RyzcExERlS0WoIiIDMjj5AzcS0rTdxhUBtQtOAbWc8KgDt4aLUtkCmytLVi4JyIiMiIsQBEREemJOgVHVydbjZclMiUs3BMRERkHDkJOREREREREREQ6xQIUERERERERERHpFAtQRERERERERESkUyxAERERERERERGRTrEARUREREREREREOsUCFBERERERERER6RQLUEREREREREREpFMsQBERERERERERmQiRSARra2uIRCJ9hyKHBSgiIiIiIiIdkEgEo1tWXVXsrPSyXSJ6o+Bn0NraGt7e3rC2tlZ6+bL4/FbQ+RaMmEQiwMxMvYphvkSAuR6WJSL9kXb66vYbZFxEIhHfbyIqU5r0Oeyv9MPMTIRFWy/jcXKGSsu5OtthSv+GZb7dwHpOGNTBW61t2lpb6GW7RPSGJp9BTfscZbEAVQJNO1B9LUtE+sEvXuUP328iKkuGfmJBRXucnIF7SWlGsV1XJ1uj3S4RvaGvPkcZLECVQpMOVF/LEpF+8fNbvvD9JqKyZMgnFkRERCXhGFBERERERERERKRTLEAREREREREREZFOsQBFREREREREREQ6xQIUERERERERERHplMEVoO7du4ehQ4ciICAAISEhWLhwIXJycvQdFhERGQjmCSIi06duXy8IAlavXo1WrVrBz88PvXv3xrVr13QfMBERlcqgClBpaWkYPHgwcnNzERMTg6ioKMTGxmL+/Pn6Do2IiAwA8wQRkenTpK9fs2YNli5diiFDhmDVqlWoXr06hg0bhkePHpVB5EREVJIK+g6goO+//x4vX77EsmXLUKVKFQBAfn4+5syZg8jISDg7O+s3QCIi0ivmCSIi06duX//69WusWrUKw4YNw5AhQwAADRs2xHvvvYd169Zh9uzZZbMDRERUJIO6AurMmTMIDg6WJRoACA8Ph0QiwdmzZ/UXGBERGQTmCSIi06duX3/lyhVkZmYiPDxcNs3S0hLt2rXDmTNndBkyEREpQSQIgqDvIKSCg4Px/vvvY8qUKXLTW7Roga5duypMV8aVK1cgCAIsLCxKnVcQBOTl5aFChQoQiUQQiURIy8xBXr5EpW1aWZjD1saCy3JZLstly2TZCuZmqGxrCXW689zcXIhEIgQGBqq8rD7oO08A8rnCzMzMqI4VLstluewbmvSbhQmCgPz8fJibm0MkEmm8vpKo+93U2PKEun391q1b8dlnn+HGjRuwsrKSTY+NjcWsWbNw7do1VKxYUeV4pHmiQoUKcucKytDHe6bJdo3x88xluSyX1XzZssoTBnULXnp6Ouzt7RWmV65cGWlpaWqtU5oclEkSIpEIlpaW8tu2tSxm7tJxWS7LZblsWS6rzomPtNhuLPSdJ6TzFcwVxniscFkuy2Xf0Eb/JxKJYGZWdjcVlIc8oW5fn56eDktLS7niEwDY29tDEASkpaWpVYCS7r+ZmZnCuYIy9HWMGuNnkstyWS6r32V1nScMqgClCw0aNNB3CEREZMCYJ4iIqCTME0RE2mFQY0DZ29sjIyNDYXpaWhoqV66sh4iIiMiQME8QEZk+dft6e3t75OTk4PXr13LT09PTIRKJmCeIiPTMoApQ7u7uSEhIkJuWkZGBZ8+ewd3dXU9RERGRoWCeICIyfer29dLX7t+/Lzc9ISEBNWrUUOv2OyIi0h6DKkCFhobi3LlzSE9Pl007fPgwzMzMEBISosfIiIjIEDBPEBGZPnX7+sDAQNja2uLQoUOyabm5uTh69ChCQ0N1GjMREZXOoApQffr0QaVKlTB27Fj88ssv2LVrFxYuXIg+ffrA2dlZ3+EREZGeMU8QEZk+Zfv6wYMHo127drK/raysEBkZifXr12PTpk04f/48PvzwQ7x48QLDhw/Xx64QEVEBIkEbz5/Vonv37uHzzz/H1atXUalSJXTt2hVRUVFqPXGCiIhMD/MEEZHpU6avHzhwIJKSknDy5EnZNEEQsHr1amzbtg2pqanw8vLC9OnTOZA4EZEBMLgCFBERERERERERmRaDugWPiIiIiIiIiIhMDwtQRERERERERESkUyxAERERERERERGRTrEARUREREREREREOsUCFBERERERERER6RQLUEREREREREREpFPlvgB18uRJdOnSBb6+vmjfvj127dpV6jI3btzA9OnT0a5dO/j7++Pdd9/F4sWLkZWVVQYR6486bZWTk4OFCxeif//+CAgIgKenJ1JTU8sg2rJx7949DB06FAEBAQgJCcHChQuRk5NT6nKCIGD16tVo1aoV/Pz80Lt3b1y7dk33AeuRum21detWREZGomnTpvD09MThw4fLIFr9Uqetnj59ioULF6Jr165o0KABQkND8eGHHyIpKamMojYN6h6nAJCcnIxp06ahadOm8PPzQ3h4OPbv36/jiLVP3TZ4/vw5Zs2ahVatWiEgIACdOnXC9u3byyBi7Xvw4AFmzZqFrl27wtvbG506dVJqOVPq29VpA1Psh9Q9FgrauHEjPD09ERkZqYMISRdevnyJ0NBQeHp64ubNm0ovZ6zvtar7a+z5TpX9Ncbctnv3bnh6eir8t2jRohKXM9Ycps7+GnO+Uvf9LUiffVWFMt+iAbl06RLGjRuHHj16YMaMGbhw4QI+/vhjVKpUCe+9916xyx06dAgPHjzAiBEjUKdOHcTHx2Pp0qW4fv06Nm/eXIZ7UHbUbatXr15h586d8PX1RcOGDfHLL7+UYdS6lZaWhsGDB6NOnTqIiYlBcnIy5s+fj1evXmHWrFklLrtmzRosXboUU6ZMgaenJ7Zu3Yphw4Zh3759qFmzZhntQdnRpK327dsHAGjZsiX27t1bBtHql7ptdevWLRw7dgzvv/8+/P398fz5c6xYsQI9e/ZEXFwcHBwcynAvjJMmx+nTp0/Ru3dvuLm54fPPP4etrS3u3r2rdPHKUGjSBhMnTkRCQgImT56Mt99+G2fOnMHs2bNhbm6OXr16ldEeaMfdu3dx+vRp+Pv7QyKRQBAEpZYzpb5dnTYwxX5I3WNB6tmzZ1i+fDkcHR11FCHpwrfffov8/HyVljHm91qV/TWFfKfK/hpzblu7di3s7Oxkfzs7O5c4v7HnMFX21xTylarvr5Te+yqhHBs2bJjQu3dvuWmTJ08WwsPDS1wuJSVFYdr+/fsFsVgs3Lx5U6sxGgp120oQBEEikQiCIAi7du0SxGJxke1njFauXCkEBAQIz58/l037/vvvBS8vL+HJkyfFLvfq1SshMDBQWLx4sWza69evhdatWwuffvqpDiPWH3XbShAEIT8/XxAEQXj06JEgFouFQ4cO6TJUvVO3rdLS0oTc3Fy5af/884/g6ekprFu3TlfhmhRNjtMpU6YIvXv3FvLy8nQcpW6p2wZPnz4VxGKxsGvXLrnp/fv3FwYNGqSrcHVG2u8IgiBMmzZN6NixY6nLmFrfrk4bmGI/pE47FPTRRx8JU6dOFQYMGCCMGjVK2+GRDsTHxwsBAQHC9u3bBbFYLNy4cUOp5Yz1vVZ1f40936myv8aa29Q55zLmHKbO/hpzvtL0nFrffVW5vQUvJycHFy9eVLh6p0OHDrh37x4eP35c7LJFVUS9vb0BvPlVwNRo0lYAIBKJdBme3pw5cwbBwcGoUqWKbFp4eDgkEgnOnj1b7HJXrlxBZmYmwsPDZdMsLS3Rrl07nDlzRpch6426bQUAZmblq5tSt63s7e1RoYL8Ra1vvfUWHBwcTLJf0gV12z4zMxOHDh1Cv379YG5uXgaR6o66bZCXlwcAcr/EAYCtra3KV4wYAnX6HVPr29VpA1PshzTJQZcuXcLx48fx4YcfajEi0rW5c+eiT58+cHNzU3oZY36vVdlfU8h3quyvqeW2kphaDiuNKeYrZRhCX1W+zuwKePjwIXJzc+Hu7i43vW7dugCAhIQEldZ3+fJlAFBYnynQdluZioSEBIU2sbe3R/Xq1UtsE+lrRbXn33//jVevXmk/WD1Tt63KI2221f3795GSkiL7rFLJ1G37W7duITc3FxUqVMCAAQNQv359hISE4H//+x9yc3N1HbZWqdsGb7/9Npo3b46VK1ciPj4emZmZOHjwIM6ePYv+/fvrOmyDUB77dmWU134oPz8fn3/+OUaPHg0nJyd9h0NKOnz4MP766y+MHTtW6WWM+b1WdX+NPd+pur/Gnts6deoELy8vtGnTBqtWrSrxtkNTyGGq7G9RjC1fqbq/htJXldsxoNLS0gC8+WJdkPRv6evKSE1NRUxMDNq0aYM6depoLUZDoc22MiXp6ekKbQIAlStXLrFN0tPTYWlpCSsrK7np9vb2EAQBaWlpqFixotbj1Sd126o80lZbCYKAuXPnwsnJCR07dtRmiCZL3bb/999/AQAzZ85Er169MG7cONy4cQNLly6FmZmZUf0irsnxFxMTg6ioKNnxZm5ujpkzZ6J9+/Y6idXQlMe+vTTluR/atm0bsrOzMWTIEH2HQkrKzs7G/PnzERUVBVtbW6WXM9b3Wp39NeZ8p+77a4y5rXr16hg/fjz8/f0hEolw8uRJfPPNN0hOTi52PEdjzmHq7G9hxpSv1N1fQ+mrTKoAlZGRodQlc9ocRC03NxeTJ08GAMyePVtr69U1fbQVEZWdmJgYXLhwAWvXroWNjY2+wzFpEokEANCsWTNER0cDAJo2bYqXL19i/fr1GDt2rMF+adMWQRAwffp0JCYmYvHixahevTrOnTuHL7/8EpUrVzb4L3OkG+W1H0pJScHSpUuxYMECWFpa6jscUtKKFSvg6OiI999/X+lljPm9Vmd/jTnfqbO/xprbWrRogRYtWsj+bt68OaysrLBp0ya9X/2iC9rYX2PKV+rsryH1VSZVgDp8+DBmzpxZ6nwHDx5E5cqVAbwpxBSUnp4OALLXSyIIAmbMmIEbN25g27ZtRvVhLuu2MkX29vYKbQK8uSKspDaxt7dHTk4OXr9+LfcrQ3p6OkQikUm2p7ptVR5po61iY2OxfPlyfPHFFwgODtZ2iCZLk8808OZLeEHBwcFYuXIlHjx4AE9PT+0GqyPqtsFPP/2Ew4cPY//+/bJ9DQoKQkpKCubPn2+wX9K1qTz27SUpz/3QkiVL4OnpiUaNGsm+K+Xl5SEvLw/p6emwsbFRGHuE9CspKQnr16/H8uXLZX1gVlaW7N+XL1+iUqVKCssZ63ut7v4aa75Td39NKbeFh4dj/fr1uH37dpHnrKaWw0rb34JMIV+Vtr+G1FcZXo+ogZ49e6Jnz55KzZuTkwMLCwskJCTIVRCLu/+1KAsWLMChQ4ewZs0a1KtXT72g9aSs28oUubu7K4yJkpGRgWfPnpXYJtLX7t+/L3fcJCQkoEaNGgb7y5Em1G2r8kjTtjp27Bhmz56NCRMmoEePHroK0ySp2/YeHh4lrvf169daia8sqNsG8fHxMDc3h1gslpvu5eWFnTt3Ijs7G9bW1jqJ2VCUx769OOW9H7p//z5+++03NG7cWOG1xo0bY82aNQgNDdVDZFScx48fIzc3F6NGjVJ4bdCgQfD390dsbKzCa8b6Xqu7v8aa79Td3/KU28prDisv+cqQ+iqTKkCpwtLSEkFBQThy5AgGDx4sm37w4EHUrVsXrq6uJS6/evVqbNy4EYsWLTLaSqmyNG0rUxUaGoqVK1fKjZly+PBhmJmZISQkpNjlAgMDYWtri0OHDsk6+NzcXBw9etQgv6Rog7ptVR5p0lYXL17E5MmT0bNnT5UGUKU31G17FxcXiMVinDt3DgMGDJBNP3fuHCpWrFjqF3ZDokkb5Ofn486dO3JfXG/dugVHR0eT+YJekvLYtxeF/RAwY8YM2S/MUl9++SUqVqyIyZMnG+QVIuWdl5cXNm/eLDft9u3bmDdvHubMmQNfX98ilzPW91rd/TXWfKfJ/ppKbjt48CDMzc1lT24vzNRyWGn7C5hWviptfw2pryq3BSgAGDNmDAYNGoTZs2cjPDwcFy9eRFxcHL7++mu5+by9vdGtWzd8+eWXAIADBw5g8eLF6NKlC1xdXXHt2jXZvLVq1YKDg0NZ7kaZULetAOD06dPIzs7G77//DgA4deoUKlWqBA8PD4NNVMro06cPtmzZgrFjxyIyMhLJyclYuHAh+vTpA2dnZ9l8gwcPxt9//41jx44BAKysrBAZGYmYmBg4ODhALBZj+/btePHiBYYPH66v3dEpddsKAG7evImkpCSkpqYCAK5fvw4AcHBwQJMmTcp2R8qAum117949jB07FnXq1EHXrl3l+iUHBwfUqlWrrHfF6GhynEZFReGDDz7AF198gVatWuHmzZtYv349hg8fbvBjCRSkbhuEhoaiRo0amDBhAsaOHQsnJyf88ssv2LNnD8aPH6+v3VFbdnY2Tp8+DeDNrRuZmZk4fPgwAKBJkyZwcHAw+b5dnTYwxX5InXbw8vJSWI+9vT1sbGwQFBRUdsGT0uzt7Yt9b+rXr4/69esDUOz7jPW9Vnd/AePMd+rur7HmtuHDhyMoKEhWVDhx4gRiY2MxaNAgVK9eHYBpnZ+os7/GnK/U2V9D6qvKdQGqUaNGiImJwTfffIMffvgBNWrUwNy5cxEeHi43X35+vmzQPQA4e/YsAGD//v3Yv3+/3Lzz5s1DRESE7oMvY+q2FQDMmTMHSUlJsr9nzJgBABg3bpxBd96lqVy5MjZt2oTPP/8cY8eORaVKldCjRw9ERUXJzSeRSBQeizly5EgIgoD169cjNTUVXl5eWLdunckO+q5JW23duhV79uyR/b1+/XoAb774b9myRffBlzF12+r69evIyMhARkYG+vbtKzdv9+7dMX/+/DKJ35hpcpyGhYXhq6++wrfffovt27fDyckJ48ePL/Jyf0OmbhvY2tpi48aN+Prrr7Fo0SJkZGTA1dUV0dHRcr+SG4uUlBRMnDhRbpr0782bNyMoKMjk+3Z12sAU+yF1jwUyTeXtvTblfFcUU8ltbm5u2LVrF548eQKJRII6depgxowZGDhwoGweU8ph6uyvMecrdd9fQyESBEHQdxBERERERERERGS6zPQdABERERERERERmTYWoIiIiIiIiIiISKdYgCIiIiIiIiIiIp1iAYqIiIiIiIiIiHSKBSgiIiIiIiIiItIpFqCIiIiIiIiIiEinWIAiIiIiIiIiIiKdYgGKiIiIiIiIiIh0igUoIh3w9PRETEyMvsMgIiIDxTxBREQlYZ4gU8QCFBmsO3fuYMKECWjdujV8fX3RokULDB06FFu2bNF3aGUuLCwMnp6eGDJkSJGvx8bGwtPTE56enrh582bZBkdEpCfME/9hniAiUsQ88R/mCTIEFfQdAFFRrly5gkGDBqFGjRro2bMnqlevjn/++QfXr1/H5s2bMXDgQH2HWOasrKxw8eJFPHv2DNWrV5d77cCBA7CyssLr16/1FB0RUdlinlDEPEFE9B/mCUXME6RvLECRQVq5ciXs7Ozwww8/wN7eXu61lJQUPUWlX4GBgbh58yYOHjyIwYMHy6Y/efIEly5dQrt27XDkyBE9RkhEVHaYJxQxTxAR/Yd5QhHzBOkbb8Ejg/Tw4UN4eHgoJAsAcHR0lPt7165dGDRoEIKDg+Hj44MOHTpg27ZtCsuFhYUhMjISFy9eREREBPz8/NC5c2dcvHgRAHD06FF07twZvr6+iIiIwB9//CG3fHR0NBo0aIBHjx5h+PDhCAgIQPPmzbFs2TIIglDqPiUnJ2P69Olo1qwZfHx80LFjR/zwww9Kt4mVlRXeffddxMXFyU2Pi4uDvb09mjdvXuRy9+7dw4QJE9CkSRPZvp04cUJunhcvXmDBggXo3LkzGjRogMDAQIwYMQJ//vmn3HwXL16Ep6cnDh48iBUrViA0NBS+vr4YPHgwHjx4oPS+EBFpinlCEfMEEdF/mCcUMU+QvrEARQbJxcUFt27dwl9//VXqvNu3b4eLiwsiIyMRHR2Nt99+G3PmzMHWrVsV5n3w4AE+/PBDhIWFYfLkyUhLS8Po0aOxf/9+zJs3D507d8b48ePx8OFDTJo0CRKJRG75/Px8jBgxAo6Ojvjoo4/g4+ODmJgYLF26tMQY//33X/Tq1Qvnz59H//798fHHH6NWrVr4+OOPsXHjRqXbpVOnTrhx4wYePnwomxYXF4f27dujQgXFCxrv3r2L3r174969exg5ciSio6NhY2ODsWPH4tixY7L5Hj16hOPHj6NVq1aIjo7G8OHD8ddff2HAgAFITk5WWO+aNWtw7NgxDBs2DJGRkbh+/TqmTJmi9H4QEWmKeaJozBNERG8wTxSNeYL0SiAyQL/88ovg5eUleHl5Cb179xYWLlwo/Pzzz0JOTo7CvNnZ2QrThg0bJrRp00ZuWuvWrQWxWCxcuXJFNu3nn38WxGKx4OfnJyQlJcmmf//994JYLBYuXLggmzZt2jRBLBYLn3/+uWyaRCIRRo0aJdSvX19ISUmRTReLxcLSpUtlf8+YMUMICQkRUlNT5WKKiooSGjZsWOQ+FI591KhRQl5enhASEiIsX75cEARBiI+PF8RisfDrr78Ku3btEsRisXDjxg3ZcoMHDxY6deokvH79Wi7m3r17C++++65s2uvXr4X8/Hy5bT569Ejw8fERli1bJpt24cIFQSwWC+Hh4XLr3LRpkyAWi4U7d+6UuB9ERNrCPCGPeYKISB7zhDzmCTIEvAKKDFJISAi+//57hIWF4c8//8TatWsxfPhwhIaGKlzuWbFiRdn/Z2RkIDU1FU2aNMGjR4+QkZEhN6+HhwcaNGgg+9vf3x8A0LRpU9SoUUNh+qNHjxRi69+/v+z/RSIR+vfvj9zcXJw/f77IfREEAUePHkVYWBgEQUBqaqrsv+bNmyMjIwO3bt1Sql3Mzc3x3nvv4ccffwQA7N+/H2+//TYaNWqkMO+LFy9w4cIFhIeHIzMzU7bN58+fo3nz5khMTJT9GmFpaQkzszfdQX5+Pp4/fw4bGxu4ubkpXDoMABEREbC0tJT9Ld1+Ue1FRKQLzBNFY54gInqDeaJozBOkTxyEnAyWn58fli1bhpycHPz55584fvw4Nm7ciIkTJ2Lv3r3w8PAAAFy+fBkxMTG4du0asrOz5daRkZEBOzs72d9vv/223OvS19566y256ba2tgCA9PR0uelmZmaoWbOm3DQ3NzcAQFJSUpH7kZqaivT0dOzYsQM7duwodh5lde7cGVu2bMGff/6JuLg4dOjQASKRSGG+hw8fQhAELFmyBEuWLClyXSkpKXB2doZEIsHmzZuxbds2PH78GPn5+bJ5qlSporBcweQKQHZvfeH2IiLSJeaJojFPEBG9wTxRNOYJ0hcWoMjgWVpaws/PD35+fqhTpw6mT5+Ow4cPY9y4cXj48CGGDBkCd3d32f3aFhYWOH36NDZu3Khwz7W5uXmR2yhuuqDEYIClkcbQpUsXdO/evch5PD09lV6fv78/atWqhS+++AKPHz9G586dS9zusGHD0KJFiyLnqVWrFoA3TwlZsmQJ3n//fUycOBGVK1eGmZkZvvzyyyLbQPrrRmHaaC8iIlUxT8hjniAiksc8IY95gvSFBSgyKj4+PgCAp0+fAgBOnjyJnJwcrFixQq6KLn0ShbZJJBI8evRI9isFANy/fx/Am4EOi+Lg4IBKlSpBIpGgWbNmWomjY8eOWLFiBerWrQsvL68i55H+smJhYVHqdo8cOYKgoCB8+eWXctPT09NRtWpVrcRMRFQWmCfeYJ4gIioa88QbzBOkDxwDigzShQsXiqx+nz59GgDg7u4O4L9fGgrOm5GRgV27dukstoJPwxAEAVu3boWFhQWCg4OLnN/c3Bzt27fHkSNHinwKhyqXy0r17NkT48aNw7Rp04qdx9HREU2aNMGOHTtkCba47Zqbmyu096FDh4p8YgURkSFgnigZ8wQRlXfMEyVjniB94BVQZJDmzp2L7OxstGvXDu7u7sjNzcWVK1dw6NAhuLi4ICIiAsCbwQUtLCwwevRo9OnTBy9fvsTOnTvh6OiIZ8+eaT0uKysr/Pzzz5g2bRr8/Pzw888/46effsLo0aPh4OBQ7HIffvghLl68iF69eqFnz57w8PBAWloabt26hfPnz+PXX39VKQ4XFxeMHz++1Pk+/fRT9OvXD507d0avXr1Qs2ZN/Pvvv7h27RqePHmC/fv3AwBatWqF5cuXY/r06WjQoAH++usvHDhwQOH+dCIiQ8E8UTLmCSIq75gnSsY8QfrAAhQZpKlTp+Lw4cM4ffo0duzYgdzcXNSoUQP9+vXDmDFjZIPUubu7Y+nSpfjmm2+wYMECVKtWDX379oWDgwNmzJih9bjMzc2xdu1azJ49G//73/9QqVIljBs3DmPHji1xuWrVqmHnzp1Yvnw5jh07hu3bt6NKlSrw8PDAlClTtB6nlIeHB3bt2oVly5Zhz549ePHiBRwcHODt7S0X8+jRo5GdnY0DBw7g4MGD8Pb2xqpVq7B48WKdxUZEpAnmCe1gniAiU8U8oR3ME6RNIoGjfBEpJTo6GkeOHMHVq1f1HQoRERkg5gkiIioJ8wSVdxwDioiIiIiIiIiIdIoFKCIiIiIiIiIi0ikWoIiIiIiIiIiISKc4BhQREREREREREekUr4AiIiIiIiIiIiKdYgGKiIiIiIiIiIh0igUoIiIiIiIiIiLSKRagiIiIiIiIiIhIp1iAIiIiIiIiIiIinWIBioiIiIiIiIiIdIoFKCIiIiIiIiIi0ikWoIiIiIiIiIiISKf+Dz73aRizO6YaAAAAAElFTkSuQmCC\n"
                },
                "metadata": {}
              }
            ]
          }
        },
        "c507a3a6906a4d4ca1d6760ceece427c": {
          "model_module": "@jupyter-widgets/base",
          "model_name": "LayoutModel",
          "model_module_version": "1.2.0",
          "state": {
            "_model_module": "@jupyter-widgets/base",
            "_model_module_version": "1.2.0",
            "_model_name": "LayoutModel",
            "_view_count": null,
            "_view_module": "@jupyter-widgets/base",
            "_view_module_version": "1.2.0",
            "_view_name": "LayoutView",
            "align_content": null,
            "align_items": null,
            "align_self": null,
            "border": null,
            "bottom": null,
            "display": null,
            "flex": null,
            "flex_flow": null,
            "grid_area": null,
            "grid_auto_columns": null,
            "grid_auto_flow": null,
            "grid_auto_rows": null,
            "grid_column": null,
            "grid_gap": null,
            "grid_row": null,
            "grid_template_areas": null,
            "grid_template_columns": null,
            "grid_template_rows": null,
            "height": null,
            "justify_content": null,
            "justify_items": null,
            "left": null,
            "margin": null,
            "max_height": null,
            "max_width": null,
            "min_height": null,
            "min_width": null,
            "object_fit": null,
            "object_position": null,
            "order": null,
            "overflow": null,
            "overflow_x": null,
            "overflow_y": null,
            "padding": null,
            "right": null,
            "top": null,
            "visibility": null,
            "width": null
          }
        },
        "0ab25385dc984972b88c64a1a28613a4": {
          "model_module": "@jupyter-widgets/base",
          "model_name": "LayoutModel",
          "model_module_version": "1.2.0",
          "state": {
            "_model_module": "@jupyter-widgets/base",
            "_model_module_version": "1.2.0",
            "_model_name": "LayoutModel",
            "_view_count": null,
            "_view_module": "@jupyter-widgets/base",
            "_view_module_version": "1.2.0",
            "_view_name": "LayoutView",
            "align_content": null,
            "align_items": null,
            "align_self": null,
            "border": null,
            "bottom": null,
            "display": null,
            "flex": null,
            "flex_flow": null,
            "grid_area": null,
            "grid_auto_columns": null,
            "grid_auto_flow": null,
            "grid_auto_rows": null,
            "grid_column": null,
            "grid_gap": null,
            "grid_row": null,
            "grid_template_areas": null,
            "grid_template_columns": null,
            "grid_template_rows": null,
            "height": null,
            "justify_content": null,
            "justify_items": null,
            "left": null,
            "margin": null,
            "max_height": null,
            "max_width": null,
            "min_height": null,
            "min_width": null,
            "object_fit": null,
            "object_position": null,
            "order": null,
            "overflow": null,
            "overflow_x": null,
            "overflow_y": null,
            "padding": null,
            "right": null,
            "top": null,
            "visibility": null,
            "width": null
          }
        },
        "f3e7ba02647845e084645ecf559ad8c8": {
          "model_module": "@jupyter-widgets/controls",
          "model_name": "SliderStyleModel",
          "model_module_version": "1.5.0",
          "state": {
            "_model_module": "@jupyter-widgets/controls",
            "_model_module_version": "1.5.0",
            "_model_name": "SliderStyleModel",
            "_view_count": null,
            "_view_module": "@jupyter-widgets/base",
            "_view_module_version": "1.2.0",
            "_view_name": "StyleView",
            "description_width": "",
            "handle_color": null
          }
        },
        "ff12422e499a45a4821358f4f8a0b56a": {
          "model_module": "@jupyter-widgets/base",
          "model_name": "LayoutModel",
          "model_module_version": "1.2.0",
          "state": {
            "_model_module": "@jupyter-widgets/base",
            "_model_module_version": "1.2.0",
            "_model_name": "LayoutModel",
            "_view_count": null,
            "_view_module": "@jupyter-widgets/base",
            "_view_module_version": "1.2.0",
            "_view_name": "LayoutView",
            "align_content": null,
            "align_items": null,
            "align_self": null,
            "border": null,
            "bottom": null,
            "display": null,
            "flex": null,
            "flex_flow": null,
            "grid_area": null,
            "grid_auto_columns": null,
            "grid_auto_flow": null,
            "grid_auto_rows": null,
            "grid_column": null,
            "grid_gap": null,
            "grid_row": null,
            "grid_template_areas": null,
            "grid_template_columns": null,
            "grid_template_rows": null,
            "height": null,
            "justify_content": null,
            "justify_items": null,
            "left": null,
            "margin": null,
            "max_height": null,
            "max_width": null,
            "min_height": null,
            "min_width": null,
            "object_fit": null,
            "object_position": null,
            "order": null,
            "overflow": null,
            "overflow_x": null,
            "overflow_y": null,
            "padding": null,
            "right": null,
            "top": null,
            "visibility": null,
            "width": null
          }
        },
        "c96df9bf1f484da4992569f55a0191e4": {
          "model_module": "@jupyter-widgets/controls",
          "model_name": "SliderStyleModel",
          "model_module_version": "1.5.0",
          "state": {
            "_model_module": "@jupyter-widgets/controls",
            "_model_module_version": "1.5.0",
            "_model_name": "SliderStyleModel",
            "_view_count": null,
            "_view_module": "@jupyter-widgets/base",
            "_view_module_version": "1.2.0",
            "_view_name": "StyleView",
            "description_width": "",
            "handle_color": null
          }
        },
        "77a88235e92d4cf081553fe3b5a97215": {
          "model_module": "@jupyter-widgets/base",
          "model_name": "LayoutModel",
          "model_module_version": "1.2.0",
          "state": {
            "_model_module": "@jupyter-widgets/base",
            "_model_module_version": "1.2.0",
            "_model_name": "LayoutModel",
            "_view_count": null,
            "_view_module": "@jupyter-widgets/base",
            "_view_module_version": "1.2.0",
            "_view_name": "LayoutView",
            "align_content": null,
            "align_items": null,
            "align_self": null,
            "border": null,
            "bottom": null,
            "display": null,
            "flex": null,
            "flex_flow": null,
            "grid_area": null,
            "grid_auto_columns": null,
            "grid_auto_flow": null,
            "grid_auto_rows": null,
            "grid_column": null,
            "grid_gap": null,
            "grid_row": null,
            "grid_template_areas": null,
            "grid_template_columns": null,
            "grid_template_rows": null,
            "height": null,
            "justify_content": null,
            "justify_items": null,
            "left": null,
            "margin": null,
            "max_height": null,
            "max_width": null,
            "min_height": null,
            "min_width": null,
            "object_fit": null,
            "object_position": null,
            "order": null,
            "overflow": null,
            "overflow_x": null,
            "overflow_y": null,
            "padding": null,
            "right": null,
            "top": null,
            "visibility": null,
            "width": null
          }
        }
      }
    }
  },
  "cells": [
    {
      "cell_type": "markdown",
      "source": [
        "## Probability Distributions\n",
        "\n",
        "A probability distribution is a description of how likely a random or a set of random variables is to take on each of its possible states. The description of a probability distribution depends on whether the random variables are discrete or continuous."
      ],
      "metadata": {
        "id": "t9kqLLVOug61"
      }
    },
    {
      "cell_type": "markdown",
      "source": [
        "### Discrete Variables and Probability Mass Functions\n",
        "\n",
        "A probability mass function (PMF) is a mathematical function that describes the probability of a discrete random variable taking on a certain value. In other words, the PMF maps each possible value of a discrete random variable to its probability of occurring.\n",
        "\n",
        "The PMF is defined as follows:\n",
        "\n",
        "For a discrete random variable X, the probability mass function p(x) is defined as:\n",
        "\n",
        "p(x) = P(X = x)\n",
        "\n",
        "where P(X = x) is the probability that X takes on the value x.\n",
        "\n",
        "The PMF satisfies the following properties:\n",
        "\n",
        "- Non-negativity: p(x) >= 0 for all possible values of X.\n",
        "- Normalization: The sum of the PMF over all possible values of X is equal to \n",
        "∑ p(x) = 1\n",
        "- Probability interpretation: The value of the PMF at a particular value of X gives the probability of X taking on that value."
      ],
      "metadata": {
        "id": "WbkgmNO5vXwN"
      }
    },
    {
      "cell_type": "code",
      "execution_count": null,
      "metadata": {
        "colab": {
          "base_uri": "https://localhost:8080/"
        },
        "id": "ls6GfYTauYa-",
        "outputId": "b33f316d-1738-498d-8496-2a3272becdc9"
      },
      "outputs": [
        {
          "output_type": "stream",
          "name": "stdout",
          "text": [
            "PMF values for a binomial distribution with n=10 and p=0.5:\n",
            "P(X = 0) = 0.0009765625\n",
            "P(X = 1) = 0.009765625000000002\n",
            "P(X = 2) = 0.04394531250000004\n",
            "P(X = 3) = 0.1171875\n",
            "P(X = 4) = 0.2050781249999999\n",
            "P(X = 5) = 0.24609375000000003\n",
            "P(X = 6) = 0.2050781249999999\n",
            "P(X = 7) = 0.11718749999999999\n",
            "P(X = 8) = 0.04394531250000004\n",
            "P(X = 9) = 0.009765625000000002\n",
            "P(X = 10) = 0.0009765625\n"
          ]
        }
      ],
      "source": [
        "import scipy.stats as stats\n",
        "\n",
        "# Define the probability mass function for a binomial distribution\n",
        "n = 10  # number of trials\n",
        "p = 0.5  # probability of success\n",
        "binom_pmf = stats.binom.pmf(range(n+1), n, p)\n",
        "binom_cmf = stats.binom.cdf(range(n+1), n, p)\n",
        "# Print the PMF values\n",
        "print(\"PMF values for a binomial distribution with n={} and p={}:\".format(n, p))\n",
        "for x, pmf in enumerate(binom_pmf):\n",
        "    print(\"P(X = {}) = {}\".format(x, pmf))\n"
      ]
    },
    {
      "cell_type": "code",
      "source": [
        "import seaborn as sns\n",
        "import matplotlib.pyplot as plt\n",
        "plt.stem(range(n+1), binom_pmf)\n",
        "plt.title(\"PMF for a binomial distribution with n={} and p={}\".format(n, p))\n",
        "plt.xlabel(\"Value of X\")\n",
        "plt.ylabel(\"Probability\")\n",
        "plt.show()"
      ],
      "metadata": {
        "colab": {
          "base_uri": "https://localhost:8080/",
          "height": 472
        },
        "id": "xJqvGUkMxDTh",
        "outputId": "7d6e5188-c5a7-47a8-e199-f6350ab1a732"
      },
      "execution_count": null,
      "outputs": [
        {
          "output_type": "display_data",
          "data": {
            "text/plain": [
              "<Figure size 640x480 with 1 Axes>"
            ],
            "image/png": "[encoded data removed]"
          },
          "metadata": {}
        }
      ]
    },
    {
      "cell_type": "markdown",
      "source": [
        "### Cumulative Mass Function\n",
        "\n",
        "A cumulative mass function (CMF) is a function that gives the cumulative probability up to a certain value of a discrete random variable. In other words, the CMF gives the probability that a random variable takes on a value less than or equal to a given value.\n",
        "\n",
        "The CMF is a non-decreasing function that ranges from 0 to 1. It can be visualized as a step function, with the steps occurring at each possible value of 'X'."
      ],
      "metadata": {
        "id": "IzEgWdroz_Xp"
      }
    },
    {
      "cell_type": "code",
      "source": [
        "plt.step(range(n+1), binom_cmf)\n",
        "plt.title(\"CMF for a binomial distribution with n={} and p={}\".format(n, p))\n",
        "plt.xlabel(\"Value of X\")\n",
        "plt.ylabel(\"Cumulative probability\")\n",
        "plt.ylim([0, 1])\n",
        "plt.show()"
      ],
      "metadata": {
        "colab": {
          "base_uri": "https://localhost:8080/",
          "height": 472
        },
        "id": "waRkyecSya-X",
        "outputId": "a15ba089-b6fa-43a1-9022-62af3cc038b4"
      },
      "execution_count": null,
      "outputs": [
        {
          "output_type": "display_data",
          "data": {
            "text/plain": [
              "<Figure size 640x480 with 1 Axes>"
            ],
            "image/png": "[encoded data removed]"
          },
          "metadata": {}
        }
      ]
    },
    {
      "cell_type": "markdown",
      "source": [
        "## Continuous Variables and Probability Density Functions\n",
        "\n",
        "A probability density function (PDF) is a function that describes the relative likelihood of a continuous random variable taking on a particular value. In other words, the PDF gives the probability density at each possible value of the random variable.\n",
        "\n",
        "The PDF is non-negative and integrates to 1 over the entire range of possible values of X. The PDF is used to calculate probabilities of events involving the random variable by integrating the PDF over the relevant range of values.\n",
        "\n",
        "For a continuous random variable 'X', the PDF is related to the CDF through integration:\n",
        "$$ F(x) = ∫_{-∞}^{x} f(t) dt$$\n",
        "\n",
        "In other words, the CDF is the area under the PDF up to and including the value x."
      ],
      "metadata": {
        "id": "EXoWMqs-0enp"
      }
    },
    {
      "cell_type": "code",
      "source": [
        "# Example: PDF and CDF for a normal distribution\n",
        "import numpy as np\n",
        "from scipy.stats import norm\n",
        "\n",
        "mu = 0\n",
        "sigma = 1\n",
        "x_values = np.linspace(-5, 5, num=1000)\n",
        "pdf_values = norm.pdf(x_values, loc=mu, scale=sigma)\n",
        "cdf_values = norm.cdf(x_values, loc=mu, scale=sigma)\n",
        "\n",
        "# Plot the PDF and CDF\n",
        "fig, ax = plt.subplots(figsize=(10, 4))\n",
        "sns.lineplot(x=x_values, y=pdf_values, label=\"PDF\")\n",
        "sns.lineplot(x=x_values, y=cdf_values, label=\"CDF\")\n",
        "ax.set(title=\"PDF and CDF for a normal distribution with μ={} and σ={}\".format(mu, sigma),\n",
        "       xlabel=\"Value of X\", ylabel=\"\")\n",
        "sns.despine()\n",
        "plt.legend()\n",
        "plt.show()"
      ],
      "metadata": {
        "colab": {
          "base_uri": "https://localhost:8080/",
          "height": 410
        },
        "id": "64j2naMx0dgi",
        "outputId": "2f35cd68-d1e7-435f-f1a2-1558e20d5d85"
      },
      "execution_count": null,
      "outputs": [
        {
          "output_type": "display_data",
          "data": {
            "text/plain": [
              "<Figure size 1000x400 with 1 Axes>"
            ],
            "image/png": "[encoded data removed]"
          },
          "metadata": {}
        }
      ]
    },
    {
      "cell_type": "markdown",
      "source": [
        "### Marginal Probability\n",
        "\n",
        "A marginal probability distribution is a probability distribution that describes the probabilities of a subset of variables in a joint probability distribution. In other words, it is the probability distribution of one or more variables obtained by marginalizing over the other variables in the joint distribution.\n",
        "\n",
        "Suppose we have a joint probability distribution `P(X,Y)` for two discrete random variables `X` and `Y`. The marginal probability distribution of X is obtained by summing the probabilities of all possible outcomes of X for each fixed value of Y. Mathematically, the marginal probability mass function of X is:\n",
        "\n",
        "$$P(X=x) = \\sum_{y} P(X=x, Y=y)$$\n",
        "\n",
        "For continuous random variables, we integrate over the other variable(s) instead of summing. The marginal probability density function is given by:\n",
        "\n",
        "$$f_X(x) = ∫ f(x,y) dy$$"
      ],
      "metadata": {
        "id": "kLJRW28s3C14"
      }
    },
    {
      "cell_type": "code",
      "source": [
        "# Example: joint probability density function for X and Y\n",
        "from scipy.stats import multivariate_normal\n",
        "\n",
        "mean = [0, 0]\n",
        "cov = [[1, 0.5], [0.5, 0.3]]\n",
        "rv = multivariate_normal(mean, cov)\n",
        "x = np.linspace(-3, 3, 100)\n",
        "y = np.linspace(-3, 3, 100)\n",
        "X, Y = np.meshgrid(x, y)\n",
        "xy = np.column_stack([X.flat, Y.flat])\n",
        "fxy = rv.pdf(xy).reshape(X.shape)\n",
        "\n",
        "# Marginal probability density function of X\n",
        "fx = np.sum(fxy, axis=1) * (y[1] - y[0])\n",
        "\n",
        "# Create the plot\n",
        "sns.set(style=\"white\")\n",
        "fig, ax = plt.subplots(figsize=(8, 6))\n",
        "sns.kdeplot(data=xy, x=X.flat, y=Y.flat, levels=10, fill=True, cmap=\"Blues\")\n",
        "sns.lineplot(x=x, y=fx, color=\"red\")\n",
        "ax.set(title=\"Joint and marginal probability density functions\",\n",
        "       xlabel=\"X\", ylabel=\"Y\")\n",
        "plt.show()"
      ],
      "metadata": {
        "colab": {
          "base_uri": "https://localhost:8080/",
          "height": 573
        },
        "id": "picSDzsn5PEr",
        "outputId": "00bc538c-4538-41e0-80e1-db562a367bc1"
      },
      "execution_count": null,
      "outputs": [
        {
          "output_type": "display_data",
          "data": {
            "text/plain": [
              "<Figure size 800x600 with 1 Axes>"
            ],
            "image/png": "[encoded data removed]"
          },
          "metadata": {}
        }
      ]
    },
    {
      "cell_type": "markdown",
      "source": [
        "### Conditional Probability\n",
        "\n",
        "A conditional probability distribution describes the probabilities of one or more variables given the value(s) of one or more other variables. In other words, it is a probability distribution of a variable(s) that is conditional on the value(s) of other variable(s).\n",
        "\n",
        "For example, suppose we have a joint probability distribution for two discrete random variables `X` and `Y`. The conditional probability distribution of Y given `X=x` is the probability distribution of Y when we know that X takes the value x. It is denoted by `P(Y|X=x)` and is given by:\n",
        "\n",
        "$$ P(Y=y|X=x) = P(X=x, Y=y) / P(X=x) $$\n",
        "\n",
        "Suppose we have a joint probability distribution for two discrete random variables `X` and `Y` as follows:"
      ],
      "metadata": {
        "id": "hkWPLDux6a22"
      }
    },
    {
      "cell_type": "code",
      "source": [
        "# Joint probability distribution for X and Y\n",
        "pxy = np.array([[0.1, 0.2, 0.3],\n",
        "                [0.15, 0.1, 0.05],\n",
        "                [0.05, 0.15, 0.0]])\n",
        "\n",
        "# Conditional probability distribution of Y given X=1\n",
        "x = 1\n",
        "py_given_x = pxy[x,:] / pxy[x,:].sum()\n",
        "print(py_given_x)"
      ],
      "metadata": {
        "colab": {
          "base_uri": "https://localhost:8080/"
        },
        "id": "rpcGPQeu7oaq",
        "outputId": "dcbd11f3-ff5e-48c4-9d93-43826d8af7ba"
      },
      "execution_count": null,
      "outputs": [
        {
          "output_type": "stream",
          "name": "stdout",
          "text": [
            "[0.5        0.33333333 0.16666667]\n"
          ]
        }
      ]
    },
    {
      "cell_type": "code",
      "source": [
        "# Visualize the conditional probability distribution\n",
        "sns.set_style(\"whitegrid\")\n",
        "fig, ax = plt.subplots(figsize=(6, 4))\n",
        "sns.barplot(x=[0, 1, 2], y=py_given_x, color=\"green\")\n",
        "ax.set(title=\"Conditional probability distribution of Y given X=1\",\n",
        "       xlabel=\"Y\", ylabel=\"Probability\")\n",
        "sns.despine()\n",
        "plt.show()"
      ],
      "metadata": {
        "colab": {
          "base_uri": "https://localhost:8080/",
          "height": 419
        },
        "id": "v63HZYTV76oS",
        "outputId": "75b72e7e-0859-42cf-b83a-43c9b3355a77"
      },
      "execution_count": null,
      "outputs": [
        {
          "output_type": "display_data",
          "data": {
            "text/plain": [
              "<Figure size 600x400 with 1 Axes>"
            ],
            "image/png": "[encoded data removed]"
          },
          "metadata": {}
        }
      ]
    },
    {
      "cell_type": "markdown",
      "source": [
        "### The chain Rule\n",
        "\n",
        "The chain rule states that the probability of a sequence of events is equal to the product of the probability of the first event and the conditional probability of each subsequent event given all previous events.\n",
        "\n",
        "Suppose we have n events X$_1$, X$_2$, ..., X$_n$. The chain rule states that the joint probability of these events can be calculated as:\n",
        "\n",
        "$$ P(X_1, X_2, ..., X_n) = P(X_1) * P(X_2|X_1) * P(X_3|X_1,X_2) * ... * P(X_n|X_,X_2,...,X_{n-1}) $$\n"
      ],
      "metadata": {
        "id": "KfTGH0RQAvuO"
      }
    },
    {
      "cell_type": "code",
      "source": [
        "# Calculate the joint probability of X=0 and Y=1 given X=0 for distribution used for calculating conditional probability\n",
        "x = 0\n",
        "y = 1\n",
        "p_x0 = pxy[x,:].sum()\n",
        "p_y1_given_x0 = pxy[x,y] / p_x0\n",
        "p_x0_y1 = p_x0 * p_y1_given_x0\n",
        "print(\"P(X=0, Y=1 | X=0) =\", p_x0_y1)"
      ],
      "metadata": {
        "colab": {
          "base_uri": "https://localhost:8080/"
        },
        "id": "0FgUq8QoB-XS",
        "outputId": "97f06431-a504-416f-a430-8619d1d0bcb1"
      },
      "execution_count": null,
      "outputs": [
        {
          "output_type": "stream",
          "name": "stdout",
          "text": [
            "P(X=0, Y=1 | X=0) = 0.2\n"
          ]
        }
      ]
    },
    {
      "cell_type": "markdown",
      "source": [
        "### Independence and Conditional Independence\n",
        "\n",
        "Two events A and B are **independent** if the occurrence of one event does not affect the probability of the other event. Mathematically, this can be expressed as:\n",
        "\n",
        "P(A and B) = P(A) * P(B)\n",
        "\n",
        "Two events A and B are conditionally independent given a third event C if the occurrence of C makes A and B independent. Mathematically, this can be expressed as:\n",
        "\n",
        "P(A and B | C) = P(A | C) * P(B | C)"
      ],
      "metadata": {
        "id": "-pr2BFdwDKAT"
      }
    },
    {
      "cell_type": "code",
      "source": [
        "# Define two independent random variables X and Y\n",
        "x = np.array([1, 2, 3])\n",
        "y = np.array([4, 5, 6])\n",
        "px = np.array([0.3, 0.4, 0.3])\n",
        "py = np.array([0.2, 0.5, 0.3])\n",
        "\n",
        "# Check if X and Y are independent\n",
        "pxy = np.outer(px, py)\n",
        "if np.allclose(pxy, np.outer(px, py)):\n",
        "    print(\"X and Y are independent\")\n",
        "\n",
        "# Define two random variables X and Y that are conditionally independent given Z\n",
        "z = np.array([1, 2])\n",
        "pz = np.array([0.4, 0.6])\n",
        "px_given_z = np.array([[0.2, 0.3],\n",
        "                       [0.1, 0.4],\n",
        "                       [0.3, 0.0]])\n",
        "py_given_z = np.array([[0.5, 0.1],\n",
        "                       [0.2, 0.2],\n",
        "                       [0.1, 0.3]])\n",
        "pxy_given_z = np.array([[[0.1, 0.02],\n",
        "                         [0.12, 0.08]],\n",
        "                        [[0.06, 0.03],\n",
        "                         [0.12, 0.16]],\n",
        "                        [[0.15, 0.0],\n",
        "                         [0.0, 0.09]]])\n",
        "\n",
        "# Check if X and Y are conditionally independent given Z\n",
        "if np.allclose(pxy_given_z, px_given_z[:,:,np.newaxis] * py_given_z[:,np.newaxis,:]):\n",
        "    print(\"X and Y are conditionally independent given Z\")\n"
      ],
      "metadata": {
        "colab": {
          "base_uri": "https://localhost:8080/"
        },
        "id": "ivt2Rg20DJKr",
        "outputId": "42e54a9f-992a-474c-e852-643c3e608ef5"
      },
      "execution_count": null,
      "outputs": [
        {
          "output_type": "stream",
          "name": "stdout",
          "text": [
            "X and Y are independent\n"
          ]
        }
      ]
    },
    {
      "cell_type": "code",
      "source": [
        "P_W = {'sunny': 0.3, 'rainy': 0.7}\n",
        "P_S_given_W = {'sunny': {'on': 0.56, 'off': 0.44}, 'rainy': {'on': 0.25, 'off': 0.75}}\n",
        "P_G_given_S = {'on': {'wet': 0.75, 'dry': 0.25}, 'off': {'wet': 0.75, 'dry': 0.25}}\n",
        "\n",
        "def check_conditional_independence():\n",
        "    for w in ['sunny', 'rainy']:\n",
        "        for s in ['on', 'off']:\n",
        "            for g in ['wet', 'dry']:\n",
        "                P_G_and_S_given_W = P_G_given_S[s][g] * P_S_given_W[w][s]\n",
        "                P_G_given_W = sum([P_G_given_S[s_prime][g] * P_S_given_W[w][s_prime] * P_W[w] for s_prime in ['on', 'off']]) / P_W[w]\n",
        "                P_S_given_W_val = P_S_given_W[w][s]\n",
        "                \n",
        "                if not round(P_G_and_S_given_W, 2) == round(P_G_given_W * P_S_given_W_val, 2):\n",
        "                    print(f'P(G={g}, S={s} | W={w}): {P_G_and_S_given_W:.5f} != P(G={g} | W={w}) * P(S={s} | W={w}): {P_G_given_W * P_S_given_W_val:.5f}')\n",
        "                    return False\n",
        "    return True\n",
        "\n",
        "print(\"Conditional independence:\", check_conditional_independence())\n"
      ],
      "metadata": {
        "colab": {
          "base_uri": "https://localhost:8080/"
        },
        "id": "DhHg-FX0JdiY",
        "outputId": "210b80ef-af3d-4a41-db71-3c1e9ac62507"
      },
      "execution_count": null,
      "outputs": [
        {
          "output_type": "stream",
          "name": "stdout",
          "text": [
            "Conditional independence: True\n"
          ]
        }
      ]
    },
    {
      "cell_type": "markdown",
      "source": [
        "## Mean, Variance and Covariance\n",
        "\n",
        "- The **mean** of a probability distribution is also called the expected value and is denoted by E(X). It represents the average value of a random variable X over multiple trials or observations. It is calculated as the sum of the product of each possible value of X and its corresponding probability.\n",
        "\n",
        "$$ E[f(X)] = ∑f(x) P(X = x)$$, where x is the possible values of X and P(X = x) is the probability of X taking the value x.\n",
        "\n",
        "- The **variance** of X measures how spread out the values of X are from the mean. It is calculated as the average of the squared differences between each value of X and the mean, weighted by their respective probabilities, i.e.,\n",
        "\n",
        "$$Var[f(X)] = E[(f(X) - E[f(X)])^2]$$\n",
        "\n",
        "- The covariance between two random variables X and Y is a measure of their linear relationship. It is calculated as the average of the product of the deviations of each variable from their respective means, weighted by their joint probabilities, i.e.,\n",
        "\n",
        "$$ Cov(X, Y) = E[(X - E(X))(Y - E(Y))] = ∑(x - E(X))(y - E(Y)) P(X = x, Y = y)$$\n",
        "\n",
        "**The notions of covariance and dependence are related but distinct concepts. For two variables to have zero covariance, there must be no linear dependence between them. Independence is a stronger requirement than zero covariance, because independence also excludes nonlinear relationships.**"
      ],
      "metadata": {
        "id": "IVt9SeCMaosn"
      }
    },
    {
      "cell_type": "code",
      "source": [
        "%%capture\n",
        "!pip install matplotlib ipywidgets"
      ],
      "metadata": {
        "id": "84FGpsYlXB2Z"
      },
      "execution_count": 96,
      "outputs": []
    },
    {
      "cell_type": "code",
      "source": [
        "import numpy as np\n",
        "import matplotlib.pyplot as plt\n",
        "from scipy.stats import multivariate_normal\n",
        "from ipywidgets import interact, FloatSlider\n",
        "\n",
        "# Function to create the scatter plot with confidence ellipses\n",
        "def plot_ellipse(mean_x, mean_y, var_x, cov_xy, var_y):\n",
        "    mean = [mean_x, mean_y]\n",
        "    covariance = [[var_x, cov_xy], [cov_xy, var_y]]\n",
        "    data = np.random.multivariate_normal(mean, covariance, size=500)\n",
        "\n",
        "    x = data[:, 0]\n",
        "    y = data[:, 1]\n",
        "\n",
        "    # Calculate the confidence ellipses\n",
        "    rv = multivariate_normal(mean, covariance)\n",
        "    x_range = np.linspace(x.min(), x.max(), 100)\n",
        "    y_range = np.linspace(y.min(), y.max(), 100)\n",
        "    X, Y = np.meshgrid(x_range, y_range)\n",
        "    Z = rv.pdf(np.dstack((X, Y)))\n",
        "\n",
        "    # Plot the data points and confidence ellipses\n",
        "    plt.figure(figsize=(8, 6))\n",
        "    plt.scatter(x, y, alpha=0.6)\n",
        "    plt.contour(X, Y, Z, levels=3, colors='r', linewidths=1.5)\n",
        "    plt.title(\"Scatter plot with Confidence Ellipses\")\n",
        "    plt.xlabel(\"X\")\n",
        "    plt.ylabel(\"Y\")\n",
        "    plt.show()\n",
        "\n",
        "# Interactive sliders\n",
        "mean_x_slider = FloatSlider(min=-10, max=10, step=0.1, value=0, description=\"Mean X\")\n",
        "mean_y_slider = FloatSlider(min=-10, max=10, step=0.1, value=0, description=\"Mean Y\")\n",
        "var_x_slider = FloatSlider(min=0.1, max=10, step=0.1, value=1, description=\"Variance X\")\n",
        "cov_xy_slider = FloatSlider(min=-1, max=1, step=0.01, value=0.5, description=\"Covariance\")\n",
        "var_y_slider = FloatSlider(min=0.1, max=10, step=0.1, value=1, description=\"Variance Y\")\n",
        "\n",
        "# Connect the sliders to the plotting function\n",
        "interact(plot_ellipse, mean_x=mean_x_slider, mean_y=mean_y_slider, var_x=var_x_slider, cov_xy=cov_xy_slider, var_y=var_y_slider)\n"
      ],
      "metadata": {
        "colab": {
          "base_uri": "https://localhost:8080/",
          "height": 750,
          "referenced_widgets": [
            "34d41a67386a4f81a53206d704b451a0",
            "40f4c9abee8b478089deac07cdcf1c7e",
            "fec1cbb1279e46a89afe39f078e80bec",
            "e484c6862c4b425299152e6e0a15763f",
            "1bb42cd2a8434da9aa28db1cc7adb09e",
            "c6649e35df39415b936443f72f61577b",
            "8203bd56c00c48e38e2667f1e68ca1c7",
            "879af520831e4ce88cc1c40fdd1af5bd",
            "76d45fbe3b714f2991087d163fd34f67",
            "f122af4fd9c84e42a9d2472dbf431c86",
            "affaad31bc79419b8f4a440fec8438f1",
            "c88687effc7c4a26bb60cc38d388e850",
            "62eb78265cdc4439ac8f0663d4712aae",
            "380516910b7f4f4294706ef3160ddf74",
            "f5bd6fcc71f64ad180868f155690b668",
            "f39615b6e3514458bcbdb44f538ddb85",
            "8b9ac001b2984033b2f1096806806849",
            "52917086b29141aab1121dbde206d87f",
            "536c6a72231645c9b895552d3678b06e"
          ]
        },
        "id": "Hl75QUmcYoq1",
        "outputId": "b0311d4d-6f34-4a88-99af-b9f7fb91ba46"
      },
      "execution_count": 97,
      "outputs": [
        {
          "output_type": "display_data",
          "data": {
            "text/plain": [
              "interactive(children=(FloatSlider(value=0.0, description='Mean X', max=10.0, min=-10.0), FloatSlider(value=0.0…"
            ],
            "application/vnd.jupyter.widget-view+json": {
              "version_major": 2,
              "version_minor": 0,
              "model_id": "34d41a67386a4f81a53206d704b451a0"
            }
          },
          "metadata": {}
        },
        {
          "output_type": "execute_result",
          "data": {
            "text/plain": [
              "<function __main__.plot_ellipse(mean_x, mean_y, var_x, cov_xy, var_y)>"
            ]
          },
          "metadata": {},
          "execution_count": 97
        }
      ]
    },
    {
      "cell_type": "markdown",
      "source": [
        "## Common probability distributions\n",
        "\n",
        "1. ### Bernoulli distribution\n",
        "\n",
        "The Bernoulli distribution is a probability distribution that describes the outcomes of a single binary experiment or trial, where the outcome is either success (with probability p) or failure (with probability 1-p).\n",
        "\n",
        "The Bernoulli distribution is characterized by a single parameter, p, which represents the probability of success. The probability mass function of a Bernoulli random variable X with parameter p is:\n",
        "\n",
        "P(X = 1) = p\n",
        "\n",
        "P(X = 0) = 1 - p\n",
        "\n",
        "where X = 1 represents success and X = 0 represents failure. The expected value or mean of X is `E(X) = p`, and the variance of X is `Var(X) = p(1-p)`.\n",
        "\n"
      ],
      "metadata": {
        "id": "LCHlT6veecn5"
      }
    },
    {
      "cell_type": "code",
      "source": [
        "from ipywidgets import interact, widgets\n",
        "def plot_bernoulli(p):\n",
        "    x = np.array([0, 1])\n",
        "    pmf = np.array([1-p, p])\n",
        "    plt.stem(x, pmf, use_line_collection=True)\n",
        "    plt.ylim(0, 1)\n",
        "    plt.title(\"Bernoulli Distribution (p = {})\".format(p))\n",
        "    plt.xlabel(\"Outcome\")\n",
        "    plt.ylabel(\"Probability\")\n",
        "    plt.show()\n",
        "\n",
        "interact(plot_bernoulli, p=widgets.FloatSlider(min=0, max=1, step=0.01, value=0.5));"
      ],
      "metadata": {
        "colab": {
          "base_uri": "https://localhost:8080/",
          "height": 597,
          "referenced_widgets": [
            "1eecb38d5fa645309466855810bd3ee4",
            "40ec5f8072d947568d8d291f9fd3ed4b",
            "babccd31b1d743d8acca7d087ceb8de9",
            "ed0deec1d903429985f70acfe0f4de17",
            "c75ad99adc404ea6901e3fc9a034ad39",
            "89af0c5cadd747429bbf9a463ad2d577",
            "4b27142191f84c73a958fa3e8e1b2a88"
          ]
        },
        "id": "DjdeFEVvZRtZ",
        "outputId": "055a1ed1-ee5e-4d1a-cc7b-c61baa564f2b"
      },
      "execution_count": 99,
      "outputs": [
        {
          "output_type": "display_data",
          "data": {
            "text/plain": [
              "interactive(children=(FloatSlider(value=0.5, description='p', max=1.0, step=0.01), Output()), _dom_classes=('w…"
            ],
            "application/vnd.jupyter.widget-view+json": {
              "version_major": 2,
              "version_minor": 0,
              "model_id": "1eecb38d5fa645309466855810bd3ee4"
            }
          },
          "metadata": {}
        }
      ]
    },
    {
      "cell_type": "markdown",
      "source": [
        "2. ###  Multinomial distribution\n",
        "\n",
        "The Multinomial distribution is a generalization of the Bernoulli distribution and the Binomial distribution, where the number of outcomes k is greater than 2.\n",
        "\n",
        "The Multinomial distribution is characterized by two parameters: n, the number of trials, and a probability vector p = ($p_1, p_2, ..., p_k$), where pi represents the probability of the ith outcome in each trial, and the sum of all probabilities is equal to 1.\n",
        "\n",
        "The probability mass function of a Multinomial random variable `X` with parameters n and p is:\n",
        "\n",
        "$$ P(X_1 = x_1, X_2 = x_2, ..., X_k = x_k) = \\frac{n!}{x_1! x_2! ... x_k!} p_{1}^{x_1} p_{2}^{x_2} ... p_{k}^{x_k} $$"
      ],
      "metadata": {
        "id": "RCNZJon6iP7O"
      }
    },
    {
      "cell_type": "code",
      "source": [
        "import numpy as np\n",
        "import matplotlib.pyplot as plt\n",
        "from ipywidgets import interact, widgets\n",
        "\n",
        "def plot_multinomial(n, p1, p2, p3):\n",
        "    # check that the sum of p1, p2, and p3 is <= 1\n",
        "    if p1 + p2 + p3 > 1:\n",
        "        print(\"Error: The sum of p1, p2, and p3 cannot exceed 1.\")\n",
        "        return\n",
        "    \n",
        "    # generate random samples from a Multinomial distribution\n",
        "    x = np.random.multinomial(n, [p1, p2, p3])\n",
        "    \n",
        "    # plot the probabilities for each category\n",
        "    labels = ['Category 1', 'Category 2', 'Category 3']\n",
        "    plt.bar(labels, x/n)\n",
        "    plt.title(\"Multinomial Distribution (n = {}, p = [{}, {}, {}])\".format(n, p1, p2, p3))\n",
        "    plt.xlabel(\"Categories\")\n",
        "    plt.ylabel(\"Probability\")\n",
        "    plt.ylim(0, 1)\n",
        "    plt.show()\n",
        "\n",
        "# create interactive slider widgets for n, p1, p2, and p3\n",
        "n_slider = widgets.IntSlider(min=1, max=100, step=1, value=10)\n",
        "p1_slider = widgets.FloatSlider(min=0, max=1, step=0.01, value=0.33)\n",
        "p2_slider = widgets.FloatSlider(min=0, max=1, step=0.01, value=0.33)\n",
        "p3_slider = widgets.FloatSlider(min=0, max=1, step=0.01, value=0.34)\n",
        "\n",
        "# display the interactive plot using the sliders\n",
        "interact(plot_multinomial, n=n_slider, p1=p1_slider, p2=p2_slider, p3=p3_slider);\n"
      ],
      "metadata": {
        "colab": {
          "base_uri": "https://localhost:8080/",
          "height": 608,
          "referenced_widgets": [
            "950d97fcfdf44c95bd7061f1066778ee",
            "66ab932722324d18a2292baac0c34ae6",
            "476aeb31b27e4e2c804005be3c8bd3be",
            "e7f4017de38d4022b2a3bbd195775486",
            "e23acd8669e6479d9109f200b314b5ac",
            "0259359d3a05427c865a7234b53e8b67",
            "a8a19d379a69496588906112f25d4421",
            "2ff1040a1153450da9bc00c6a420906c",
            "003ddb3fb3294094a0d7920a787d7cda",
            "278d799a625048f6aea4dda723b6857b",
            "44b7e74220524d49b48702e80aa5fc2b",
            "3e97b16c0cdc40ac82bc758a90e9512a",
            "6212e52f34ae4feab5eff51956e8a44f",
            "f5fbe687c8764effb49d829ce5cd4e9d",
            "b0ff841a96c84551940d3bad016425e7",
            "bbc338e6508a44d1a6b93aae6fd5d636"
          ]
        },
        "id": "p2mWvOYUg1rr",
        "outputId": "1b23f5d0-0da7-46a1-8564-7a73e4c20676"
      },
      "execution_count": 105,
      "outputs": [
        {
          "output_type": "display_data",
          "data": {
            "text/plain": [
              "interactive(children=(IntSlider(value=10, description='n', min=1), FloatSlider(value=0.33, description='p1', m…"
            ],
            "application/vnd.jupyter.widget-view+json": {
              "version_major": 2,
              "version_minor": 0,
              "model_id": "950d97fcfdf44c95bd7061f1066778ee"
            }
          },
          "metadata": {}
        }
      ]
    },
    {
      "cell_type": "markdown",
      "source": [
        "3. ### Poisson Distribution \n",
        "\n",
        "The Poisson distribution describes the probability of a given number of events occurring in a fixed interval of time or space, under the assumption that the events occur independently and at a constant rate. \n",
        "\n",
        "The Poisson distribution is characterized by a single parameter λ (lambda), which represents the expected number of events that occur in the given interval. The probability mass function of a Poisson random variable X with parameter λ is:\n",
        "\n",
        "$$ P(X = k) = \\frac{e^{-λ} λ^k}{k!} $$\n",
        "\n",
        "The expected value or mean of X is E(X) = λ, and the variance of X is Var(X) = λ."
      ],
      "metadata": {
        "id": "h0_XwOBljevM"
      }
    },
    {
      "cell_type": "code",
      "source": [
        "from scipy.stats import poisson\n",
        "\n",
        "def plot_poisson_distribution(lam):\n",
        "    x = np.arange(0, 3 * lam + 1)\n",
        "    y = poisson.pmf(x, lam)\n",
        "\n",
        "    plt.figure(figsize=(12, 6))\n",
        "    plt.bar(x, y, align='center', alpha=0.6)\n",
        "    plt.xlabel('Number of events')\n",
        "    plt.ylabel('Probability')\n",
        "    plt.title(f'Poisson Distribution with λ = {lam:.2f}')\n",
        "    plt.grid(True)\n",
        "    plt.show()\n",
        "\n",
        "interact(\n",
        "    plot_poisson_distribution,\n",
        "    lam=FloatSlider(min=0.1, max=15, step=0.1, value=4, description='λ')\n",
        ")\n"
      ],
      "metadata": {
        "colab": {
          "base_uri": "https://localhost:8080/",
          "height": 622,
          "referenced_widgets": [
            "3160498a2f8e4b85bd611ace86cb55fb",
            "e14bb91cab9842f6ab1654e831e65b4c",
            "f897c75d21564dd1a5c1ecddb1948ed5",
            "20d0b08a7b7a4827960c3e22fca20698",
            "9e4e7b2870a54b7a9af7b096ceec83e1",
            "a11c2edfe5734a84ad8d604dbeaa5cd7",
            "e761ee4af3da4726a67296196000daeb"
          ]
        },
        "id": "skUb1BizicY4",
        "outputId": "0bbdf4e3-59fb-4cab-a674-5aa8177ca9e1"
      },
      "execution_count": 114,
      "outputs": [
        {
          "output_type": "display_data",
          "data": {
            "text/plain": [
              "interactive(children=(FloatSlider(value=4.0, description='λ', max=15.0, min=0.1), Output()), _dom_classes=('wi…"
            ],
            "application/vnd.jupyter.widget-view+json": {
              "version_major": 2,
              "version_minor": 0,
              "model_id": "3160498a2f8e4b85bd611ace86cb55fb"
            }
          },
          "metadata": {}
        },
        {
          "output_type": "execute_result",
          "data": {
            "text/plain": [
              "<function __main__.plot_poisson_distribution(lam)>"
            ]
          },
          "metadata": {},
          "execution_count": 114
        }
      ]
    },
    {
      "cell_type": "markdown",
      "source": [
        "4. ### Gaussian distribution\n",
        "\n",
        "A Gaussian distribution, also known as a normal distribution or a bell curve, is a continuous probability distribution that has a symmetric bell-shaped curve. It is defined by two parameters: the mean (µ) and the standard deviation (σ). The mean represents the central location of the distribution, while the standard deviation measures the spread or dispersion of the distribution.\n",
        "\n",
        "The probability density function (PDF) of a Gaussian distribution is given by:\n",
        "\n",
        "$$ f(x) = \\frac{1}{σ \\sqrt{2π}} \\exp^{-(x - µ)^2 / (2 σ^2)}$$\n",
        "\n",
        "The multivariate normal distribution, also known as the multivariate Gaussian distribution, is a generalization of the univariate normal (Gaussian) distribution to multiple dimensions. It is a continuous probability distribution defined over a vector space of n dimensions, where each dimension corresponds to a random variable.\n",
        "\n",
        "The multivariate normal distribution is characterized by a mean vector (µ) and a covariance matrix (Σ). The mean vector is an n-dimensional vector that represents the central location of the distribution, while the covariance matrix is an n x n symmetric, positive semi-definite matrix that describes the shape, spread, and the correlations among the random variables.\n",
        "\n",
        "The probability density function (PDF) of an n-dimensional multivariate normal distribution is given by:\n",
        "\n",
        "$$ f(x) = \\frac{1}{(2 π)^{n/2} |Σ|^{1/2})} \\exp^{-0.5(x - µ)^T  Σ^{-1} (x - µ)} $$"
      ],
      "metadata": {
        "id": "xvV9K3XFnKQ8"
      }
    },
    {
      "cell_type": "code",
      "source": [
        "from scipy.stats import norm\n",
        "\n",
        "def plot_gaussian_distribution(mu, sigma):\n",
        "    x = np.linspace(mu - 4 * sigma, mu + 4 * sigma, 1000)\n",
        "    y = norm.pdf(x, mu, sigma)\n",
        "\n",
        "    plt.figure(figsize=(12, 6))\n",
        "    plt.plot(x, y, label=f'µ = {mu}, σ = {sigma}')\n",
        "    plt.xlabel('x')\n",
        "    plt.ylabel('Probability Density')\n",
        "    plt.title('Gaussian Distribution')\n",
        "    plt.legend()\n",
        "    plt.grid(True)\n",
        "    plt.show()\n",
        "\n",
        "interact(\n",
        "    plot_gaussian_distribution,\n",
        "    mu=FloatSlider(min=-10, max=10, step=0.1, value=0, description='µ'),\n",
        "    sigma=FloatSlider(min=0.1, max=5, step=0.1, value=1, description='σ')\n",
        ")"
      ],
      "metadata": {
        "colab": {
          "base_uri": "https://localhost:8080/",
          "height": 654,
          "referenced_widgets": [
            "d3c11aa3425e4de4b7869f6a295f9fc5",
            "a051cb0b7a8f4f92b012f7f461de1f84",
            "01ad0da743a74d9dab0f86fe03035ae0",
            "7a648bafcad844baa4f41b061774c75f",
            "9478386cb17b48a58b85abbe498241a4",
            "43222fd3d2db4d95bd0d89bf344584f6",
            "a57ecbe002f74086b6986ac9d129842d",
            "23eb7492b3924f6a809169111804863a",
            "0db5345099724e3ab0bc177ad0e5895f",
            "0a2de56101be47ceb6d3cbf14b3a7e69"
          ]
        },
        "id": "peOYbT6vqA8V",
        "outputId": "6cdf2860-57b6-4c95-f210-c6ea7961bdd6"
      },
      "execution_count": 115,
      "outputs": [
        {
          "output_type": "display_data",
          "data": {
            "text/plain": [
              "interactive(children=(FloatSlider(value=0.0, description='µ', max=10.0, min=-10.0), FloatSlider(value=1.0, des…"
            ],
            "application/vnd.jupyter.widget-view+json": {
              "version_major": 2,
              "version_minor": 0,
              "model_id": "d3c11aa3425e4de4b7869f6a295f9fc5"
            }
          },
          "metadata": {}
        },
        {
          "output_type": "execute_result",
          "data": {
            "text/plain": [
              "<function __main__.plot_gaussian_distribution(mu, sigma)>"
            ]
          },
          "metadata": {},
          "execution_count": 115
        }
      ]
    },
    {
      "cell_type": "markdown",
      "source": [
        "5. ### Exponential and Laplace distributions\n",
        "\n",
        "- The **exponential** distribution used to model the time between events in a Poisson point process, which is a process in which events occur continuously and independently at a constant average rate. It is a one-parameter family of distributions, characterized by its rate parameter (λ), which is the average number of events per unit time or space.\n",
        "\n",
        "The probability density function (PDF) of an exponential distribution is given by:\n",
        "\n",
        "$$ f(x) = λ \\exp^{-λ x}, \\text{for} \\ x ≥ 0 $$\n",
        "\n",
        "Some important properties of the exponential distribution are:\n",
        "\n",
        "- It is memoryless, which means that the probability of an event occurring after a certain time depends only on the time elapsed and not on the past history.\n",
        "- The mean of the distribution is 1/λ, and the variance is 1/λ².\n",
        "\n",
        "- The **Laplace** distribution, also known as the double exponential distribution, is a continuous probability distribution used to model the difference between two independent, identically distributed exponential random variables. It is characterized by two parameters: the location parameter (µ), which represents the central location of the distribution, and the scale parameter (b), which controls the spread of the distribution.\n",
        "\n",
        "The probability density function (PDF) of a Laplace distribution is given by:\n",
        "\n",
        "$$ f(x) = \\frac{1 }{2b} \\exp^{(\\frac{-|x - µ| }{b})} $$\n",
        "\n",
        "Some important properties of the Laplace distribution are:\n",
        "\n",
        "- It has heavier tails and a sharper peak around the mean compared to the Gaussian distribution, making it more suitable for modeling data with large outliers or heavy-tailed distributions.\n",
        "- The mean of the distribution is µ, and the variance is 2 b².\n",
        "\n"
      ],
      "metadata": {
        "id": "z7oj7F3dqle9"
      }
    },
    {
      "cell_type": "code",
      "source": [
        "import numpy as np\n",
        "import matplotlib.pyplot as plt\n",
        "from scipy.stats import expon, laplace\n",
        "from ipywidgets import interact, IntSlider, FloatSlider\n",
        "\n",
        "def plot_distributions(exp_lambda, laplace_mu, laplace_b):\n",
        "    x = np.linspace(-10, 10, 1000)\n",
        "    \n",
        "    # Exponential Distribution\n",
        "    exp_y = expon.pdf(x, scale=1/exp_lambda)\n",
        "    \n",
        "    # Laplace Distribution\n",
        "    laplace_y = laplace.pdf(x, loc=laplace_mu, scale=laplace_b)\n",
        "\n",
        "    plt.figure(figsize=(12, 6))\n",
        "    \n",
        "    plt.plot(x, exp_y, label=f'Exponential (λ = {exp_lambda})')\n",
        "    plt.plot(x, laplace_y, label=f'Laplace (µ = {laplace_mu}, b = {laplace_b})')\n",
        "    \n",
        "    plt.xlabel('x')\n",
        "    plt.ylabel('Probability Density')\n",
        "    plt.title('Exponential and Laplace Distributions')\n",
        "    plt.legend()\n",
        "    plt.grid(True)\n",
        "    plt.show()\n",
        "\n",
        "interact(\n",
        "    plot_distributions,\n",
        "    exp_lambda=FloatSlider(min=0.1, max=2, step=0.1, value=1, description='λ'),\n",
        "    laplace_mu=FloatSlider(min=-5, max=5, step=0.1, value=0, description='µ'),\n",
        "    laplace_b=FloatSlider(min=0.1, max=5, step=0.1, value=1, description='b')\n",
        ")\n"
      ],
      "metadata": {
        "colab": {
          "base_uri": "https://localhost:8080/",
          "height": 686,
          "referenced_widgets": [
            "4e383e5d51624677ad0fd66c33517560",
            "1594541de43542ba86e5ea4fa7227fc3",
            "8304fe608156458bb0e719e4dfaa56a5",
            "7cc4f5d0911842b9bde647ccf9eed0b5",
            "98c1481ee3b64ce3af69b1a3a03f3880",
            "21a67b606a8e4e8e9d4d43f9255632d9",
            "eebc8860b29b417fa04e149af37795b2",
            "f4e3a3f02cf44a1b85629a57a3e38059",
            "7892e81e84b748d39f08a8438bc9720d",
            "91d2d04a9cfb424095c705ab9d914f92",
            "90e1bdbe61124920aff41076aa6c49ca",
            "27bd8e540eb643b9bf181e4e54122728",
            "225baafb8d9d4383a50f6c8cb657f592"
          ]
        },
        "id": "hySStKt2vo9s",
        "outputId": "21fdea5f-a1e7-4059-b796-eb1f86c55d24"
      },
      "execution_count": 119,
      "outputs": [
        {
          "output_type": "display_data",
          "data": {
            "text/plain": [
              "interactive(children=(FloatSlider(value=1.0, description='λ', max=2.0, min=0.1), FloatSlider(value=0.0, descri…"
            ],
            "application/vnd.jupyter.widget-view+json": {
              "version_major": 2,
              "version_minor": 0,
              "model_id": "4e383e5d51624677ad0fd66c33517560"
            }
          },
          "metadata": {}
        },
        {
          "output_type": "execute_result",
          "data": {
            "text/plain": [
              "<function __main__.plot_distributions(exp_lambda, laplace_mu, laplace_b)>"
            ]
          },
          "metadata": {},
          "execution_count": 119
        }
      ]
    },
    {
      "cell_type": "markdown",
      "source": [
        "## The central limit theorem\n",
        "\n",
        "The Central Limit Theorem (CLT) is a fundamental result in probability theory and statistics that states that the sum (or average) of a large number of independent and identically distributed (i.i.d.) random variables, each with finite mean and variance, tends to a normal (Gaussian) distribution as the number of variables goes to infinity, regardless of the original distribution of the variables.\n",
        "\n",
        "Let's formalize this statement using equations:\n",
        "\n",
        "Consider a sequence of independent and identically distributed random variables ($ X_1, X_2, ..., X_n$), where each random variable $X_i$ has a mean (µ) and a variance (σ²):\n",
        "\n",
        "E($X_i$) = µ\n",
        "\n",
        "Var($X_i$) = σ²\n",
        "\n",
        "Now, let's define the sum $S_n$ and the sample mean $M_n$ of these random variables as follows:\n",
        "\n",
        "$S_n$ = $ X_1 + X_2 + ... + X_n$ \n",
        "\n",
        "$M_n = S_n / n = (X_1 + X_2 + ... + X_n) / n$\n",
        "\n",
        "The Central Limit Theorem states that as n → ∞, the distribution of the standardized version of Mₙ, which is ($ M_n - µ) / (σ / √n)$, converges to a standard normal distribution (mean 0 and variance 1):\n",
        "\n",
        "$$ \\frac{M_n - µ}{σ / √n} → N(0, 1) \\ \\ \\text{as} \\ \\ n → ∞ $$\n",
        "\n",
        "\n",
        "The Central Limit Theorem has some important implications:\n",
        "\n",
        "- It justifies the use of normal distribution approximations for the sampling distribution of the sample mean and other sample statistics when dealing with large sample sizes.\n",
        "- It provides the theoretical foundation for many statistical methods, such as hypothesis testing, confidence intervals, and linear regression, which are based on the assumption of normality.\n",
        "\n",
        "It is important to note that the Central Limit Theorem does not imply that the distribution of the individual random variables must be normal. The theorem holds true for a wide range of distributions, as long as they have finite mean and variance. However, the rate at which the distribution of the sample mean approaches normality depends on the shape of the original distribution.\n",
        "\n",
        "\n"
      ],
      "metadata": {
        "id": "Tu4r2cRFqak9"
      }
    },
    {
      "cell_type": "code",
      "source": [
        "def plot_clt(n_samples, sample_size):\n",
        "    # Uniform distribution\n",
        "    uniform_data = np.random.uniform(-1, 1, size=(n_samples, sample_size))\n",
        "    uniform_means = np.mean(uniform_data, axis=1)\n",
        "\n",
        "    # Exponential distribution\n",
        "    exp_data = np.random.exponential(scale=1, size=(n_samples, sample_size))\n",
        "    exp_means = np.mean(exp_data, axis=1)\n",
        "\n",
        "    # Binomial distribution\n",
        "    binomial_data = np.random.binomial(n=10, p=0.5, size=(n_samples, sample_size))\n",
        "    binomial_means = np.mean(binomial_data, axis=1)\n",
        "\n",
        "    # Plotting the histograms of the sample means\n",
        "    plt.figure(figsize=(12, 8))\n",
        "\n",
        "    plt.subplot(3, 3, 1)\n",
        "    plt.hist(uniform_means, bins=20, density=True)\n",
        "    plt.title('Uniform Distribution Sample Means')\n",
        "    plt.xlabel('Sample Mean')\n",
        "    plt.ylabel('Frequency')\n",
        "\n",
        "    plt.subplot(3, 3, 2)\n",
        "    plt.hist(exp_means, bins=20, density=True)\n",
        "    plt.title('Exponential Distribution Sample Means')\n",
        "    plt.xlabel('Sample Mean')\n",
        "    plt.ylabel('Frequency')\n",
        "\n",
        "    plt.subplot(3, 3, 3)\n",
        "    plt.hist(binomial_means, bins=20, density=True)\n",
        "    plt.title('Binomial Distribution Sample Means')\n",
        "    plt.xlabel('Sample Mean')\n",
        "    plt.ylabel('Frequency')\n",
        "\n",
        "    plt.tight_layout()\n",
        "    plt.show()\n",
        "\n",
        "interact(\n",
        "    plot_clt,\n",
        "    n_samples=IntSlider(min=10, max=5000, step=100, value=1000, description='n_samples'),\n",
        "    sample_size=IntSlider(min=10, max=200, step=10, value=50, description='sample_size')\n",
        ")\n"
      ],
      "metadata": {
        "colab": {
          "base_uri": "https://localhost:8080/",
          "height": 368,
          "referenced_widgets": [
            "9526cee55a7d4abebec24ac6a9105490",
            "c241fca8857140a5bb80135d5df175a6",
            "fc0811fe4f6042b4a6e0e8a437317f49",
            "1d999ef153f74e47ab1feb28972aaeb6",
            "c507a3a6906a4d4ca1d6760ceece427c",
            "0ab25385dc984972b88c64a1a28613a4",
            "f3e7ba02647845e084645ecf559ad8c8",
            "ff12422e499a45a4821358f4f8a0b56a",
            "c96df9bf1f484da4992569f55a0191e4",
            "77a88235e92d4cf081553fe3b5a97215"
          ]
        },
        "id": "CoHfxSRzywT6",
        "outputId": "4b0e8513-bdca-412f-c316-8b1522874422"
      },
      "execution_count": 133,
      "outputs": [
        {
          "output_type": "display_data",
          "data": {
            "text/plain": [
              "interactive(children=(IntSlider(value=1000, description='n_samples', max=5000, min=10, step=100), IntSlider(va…"
            ],
            "application/vnd.jupyter.widget-view+json": {
              "version_major": 2,
              "version_minor": 0,
              "model_id": "9526cee55a7d4abebec24ac6a9105490"
            }
          },
          "metadata": {}
        },
        {
          "output_type": "execute_result",
          "data": {
            "text/plain": [
              "<function __main__.plot_clt(n_samples, sample_size)>"
            ]
          },
          "metadata": {},
          "execution_count": 133
        }
      ]
    },
    {
      "cell_type": "markdown",
      "source": [
        "### In case you want to create a gif"
      ],
      "metadata": {
        "id": "AJxkERpl9R4m"
      }
    },
    {
      "cell_type": "code",
      "source": [
        "# import numpy as np\n",
        "# import matplotlib.pyplot as plt\n",
        "# from matplotlib.animation import FuncAnimation\n",
        "\n",
        "# def plot_clt(n_samples, sample_size, ax):\n",
        "#     # Clear the previous plots\n",
        "#     ax[0].clear()\n",
        "#     ax[1].clear()\n",
        "#     ax[2].clear()\n",
        "\n",
        "#     # Generate the data\n",
        "#     uniform_data = np.random.uniform(-1, 1, size=(n_samples, sample_size))\n",
        "#     uniform_means = np.mean(uniform_data, axis=1)\n",
        "\n",
        "#     exp_data = np.random.exponential(scale=1, size=(n_samples, sample_size))\n",
        "#     exp_means = np.mean(exp_data, axis=1)\n",
        "\n",
        "#     binomial_data = np.random.binomial(n=10, p=0.5, size=(n_samples, sample_size))\n",
        "#     binomial_means = np.mean(binomial_data, axis=1)\n",
        "\n",
        "#     # Plot the data\n",
        "#     ax[0].hist(uniform_means, bins=30, density=True)\n",
        "#     ax[0].set_title('Uniform Distribution Sample Means')\n",
        "#     ax[0].set_xlabel('Sample Mean')\n",
        "#     ax[0].set_ylabel('Frequency')\n",
        "\n",
        "#     ax[1].hist(exp_means, bins=30, density=True)\n",
        "#     ax[1].set_title('Exponential Distribution Sample Means')\n",
        "#     ax[1].set_xlabel('Sample Mean')\n",
        "#     ax[1].set_ylabel('Frequency')\n",
        "\n",
        "#     ax[2].hist(binomial_means, bins=30, density=True)\n",
        "#     ax[2].set_title('Binomial Distribution Sample Means')\n",
        "#     ax[2].set_xlabel('Sample Mean')\n",
        "#     ax[2].set_ylabel('Frequency')\n",
        "\n",
        "#     plt.tight_layout()\n",
        "\n",
        "# def update(frame):\n",
        "#     n_samples, sample_size = frame\n",
        "#     plot_clt(n_samples, sample_size, ax)\n",
        "#     return []\n",
        "\n",
        "# # Set up the animation parameters\n",
        "# n_samples_values = np.linspace(100, 5000, num=10, dtype=int)\n",
        "# sample_size_values = np.linspace(10, 200, num=10, dtype=int)\n",
        "\n",
        "# animation_frames = [(n_samples, sample_size) for n_samples in n_samples_values for sample_size in sample_size_values]\n",
        "\n",
        "# # Create the animation\n",
        "# fig, ax = plt.subplots(3, 1, figsize=(12, 8))\n",
        "# ani = FuncAnimation(fig, update, frames=animation_frames, blit=True, repeat=True, interval=500)\n",
        "\n",
        "# # Save the animation as a GIF\n",
        "# ani.save('clt_animation.gif', writer='imagemagick', fps=2)\n",
        "\n",
        "# # Uncomment the line below if you want to save the animation as an MP4 video\n",
        "# # ani.save('clt_animation.mp4', writer='ffmpeg', fps=2, dpi=100)\n"
      ],
      "metadata": {
        "colab": {
          "base_uri": "https://localhost:8080/",
          "height": 756
        },
        "id": "jd8XXdnB6Myu",
        "outputId": "724f2747-8005-47f5-89e3-82ab70298369"
      },
      "execution_count": 129,
      "outputs": [
        {
          "output_type": "stream",
          "name": "stderr",
          "text": [
            "WARNING:matplotlib.animation:MovieWriter imagemagick unavailable; using Pillow instead.\n"
          ]
        },
        {
          "output_type": "display_data",
          "data": {
            "text/plain": [
              "<Figure size 1200x800 with 3 Axes>"
            ],
            "image/png": "[encoded data removed]"
          },
          "metadata": {}
        }
      ]
    }
  ]
}